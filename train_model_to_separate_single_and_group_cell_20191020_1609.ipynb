{
  "nbformat": 4,
  "nbformat_minor": 0,
  "metadata": {
    "colab": {
      "name": "train_model_to_separate_single_and_group_cell_20191020_1609.ipynb",
      "provenance": [],
      "collapsed_sections": [],
      "toc_visible": true,
      "include_colab_link": true
    },
    "kernelspec": {
      "name": "python3",
      "display_name": "Python 3"
    },
    "accelerator": "GPU"
  },
  "cells": [
    {
      "cell_type": "markdown",
      "metadata": {
        "id": "view-in-github",
        "colab_type": "text"
      },
      "source": [
        "<a href=\"https://colab.research.google.com/github/wangbingo/LVS/blob/master/train_model_to_separate_single_and_group_cell_20191020_1609.ipynb\" target=\"_parent\"><img src=\"https://colab.research.google.com/assets/colab-badge.svg\" alt=\"Open In Colab\"/></a>"
      ]
    },
    {
      "cell_type": "code",
      "metadata": {
        "id": "c3qk2lFzO6XZ",
        "colab_type": "code",
        "outputId": "6a68825c-247e-4cb2-ceee-8ed1956d6817",
        "colab": {
          "base_uri": "https://localhost:8080/",
          "height": 224
        }
      },
      "source": [
        "!wget https://files.pythonhosted.org/packages/13/7f/7d02dff4331286b50398217c06ce710fa89fe9664bd6da68a519e7d72296/opencv_python-4.1.1.26-cp27-cp27m-macosx_10_8_x86_64.macosx_10_9_intel.macosx_10_9_x86_64.macosx_10_10_intel.macosx_10_10_x86_64.whl"
      ],
      "execution_count": 0,
      "outputs": [
        {
          "output_type": "stream",
          "text": [
            "--2019-10-19 13:36:45--  https://files.pythonhosted.org/packages/13/7f/7d02dff4331286b50398217c06ce710fa89fe9664bd6da68a519e7d72296/opencv_python-4.1.1.26-cp27-cp27m-macosx_10_8_x86_64.macosx_10_9_intel.macosx_10_9_x86_64.macosx_10_10_intel.macosx_10_10_x86_64.whl\n",
            "Resolving files.pythonhosted.org (files.pythonhosted.org)... 151.101.1.63, 151.101.65.63, 151.101.129.63, ...\n",
            "Connecting to files.pythonhosted.org (files.pythonhosted.org)|151.101.1.63|:443... connected.\n",
            "HTTP request sent, awaiting response... 200 OK\n",
            "Length: 51576322 (49M) [binary/octet-stream]\n",
            "Saving to: ‘opencv_python-4.1.1.26-cp27-cp27m-macosx_10_8_x86_64.macosx_10_9_intel.macosx_10_9_x86_64.macosx_10_10_intel.macosx_10_10_x86_64.whl’\n",
            "\n",
            "\r          opencv_py   0%[                    ]       0  --.-KB/s               \r         opencv_pyt  78%[==============>     ]  38.50M   192MB/s               \ropencv_python-4.1.1 100%[===================>]  49.19M   176MB/s    in 0.3s    \n",
            "\n",
            "2019-10-19 13:36:45 (176 MB/s) - ‘opencv_python-4.1.1.26-cp27-cp27m-macosx_10_8_x86_64.macosx_10_9_intel.macosx_10_9_x86_64.macosx_10_10_intel.macosx_10_10_x86_64.whl’ saved [51576322/51576322]\n",
            "\n"
          ],
          "name": "stdout"
        }
      ]
    },
    {
      "cell_type": "code",
      "metadata": {
        "id": "mZ-N0FCLPF_i",
        "colab_type": "code",
        "outputId": "ca7ecda9-1a01-4c0c-e58e-63f5dbd310ab",
        "colab": {
          "base_uri": "https://localhost:8080/",
          "height": 122
        }
      },
      "source": [
        "from google.colab import drive\n",
        "drive.mount('/content/drive')"
      ],
      "execution_count": 0,
      "outputs": [
        {
          "output_type": "stream",
          "text": [
            "Go to this URL in a browser: https://accounts.google.com/o/oauth2/auth?client_id=947318989803-6bn6qk8qdgf4n4g3pfee6491hc0brc4i.apps.googleusercontent.com&redirect_uri=urn%3Aietf%3Awg%3Aoauth%3A2.0%3Aoob&scope=email%20https%3A%2F%2Fwww.googleapis.com%2Fauth%2Fdocs.test%20https%3A%2F%2Fwww.googleapis.com%2Fauth%2Fdrive%20https%3A%2F%2Fwww.googleapis.com%2Fauth%2Fdrive.photos.readonly%20https%3A%2F%2Fwww.googleapis.com%2Fauth%2Fpeopleapi.readonly&response_type=code\n",
            "\n",
            "Enter your authorization code:\n",
            "··········\n",
            "Mounted at /content/drive\n"
          ],
          "name": "stdout"
        }
      ]
    },
    {
      "cell_type": "markdown",
      "metadata": {
        "id": "hjplS0SCd-ty",
        "colab_type": "text"
      },
      "source": [
        "# 新段落"
      ]
    },
    {
      "cell_type": "code",
      "metadata": {
        "id": "0lkblvTePQaR",
        "colab_type": "code",
        "colab": {}
      },
      "source": [
        "!cp opencv_python-4.1.1.26-cp37-cp37m-macosx_10_8_x86_64.macosx_10_9_intel.macosx_10_9_x86_64.macosx_10_10_intel.macosx_10_10_x86_64.whl drive/My\\ Drive"
      ],
      "execution_count": 0,
      "outputs": []
    },
    {
      "cell_type": "code",
      "metadata": {
        "id": "e1XKGe7tjxA6",
        "colab_type": "code",
        "colab": {}
      },
      "source": [
        ""
      ],
      "execution_count": 0,
      "outputs": []
    },
    {
      "cell_type": "code",
      "metadata": {
        "id": "Yw2D8g8XQqGJ",
        "colab_type": "code",
        "outputId": "ee17f391-d5d8-4867-b8af-0bf4dd69c2d2",
        "colab": {
          "base_uri": "https://localhost:8080/",
          "height": 224
        }
      },
      "source": [
        "!wget https://files.pythonhosted.org/packages/6a/a8/f051a1ec9a08312d76a5b8b663d831c91de24ec80a073a3303a1617aaef1/opencv_python-4.1.1.26-cp37-cp37m-macosx_10_8_x86_64.macosx_10_9_intel.macosx_10_9_x86_64.macosx_10_10_intel.macosx_10_10_x86_64.whl"
      ],
      "execution_count": 0,
      "outputs": [
        {
          "output_type": "stream",
          "text": [
            "--2019-10-19 13:44:03--  https://files.pythonhosted.org/packages/6a/a8/f051a1ec9a08312d76a5b8b663d831c91de24ec80a073a3303a1617aaef1/opencv_python-4.1.1.26-cp37-cp37m-macosx_10_8_x86_64.macosx_10_9_intel.macosx_10_9_x86_64.macosx_10_10_intel.macosx_10_10_x86_64.whl\n",
            "Resolving files.pythonhosted.org (files.pythonhosted.org)... 151.101.1.63, 151.101.65.63, 151.101.129.63, ...\n",
            "Connecting to files.pythonhosted.org (files.pythonhosted.org)|151.101.1.63|:443... connected.\n",
            "HTTP request sent, awaiting response... 200 OK\n",
            "Length: 51576488 (49M) [binary/octet-stream]\n",
            "Saving to: ‘opencv_python-4.1.1.26-cp37-cp37m-macosx_10_8_x86_64.macosx_10_9_intel.macosx_10_9_x86_64.macosx_10_10_intel.macosx_10_10_x86_64.whl’\n",
            "\n",
            "\r          opencv_py   0%[                    ]       0  --.-KB/s               \ropencv_python-4.1.1 100%[===================>]  49.19M   261MB/s    in 0.2s    \n",
            "\n",
            "2019-10-19 13:44:04 (261 MB/s) - ‘opencv_python-4.1.1.26-cp37-cp37m-macosx_10_8_x86_64.macosx_10_9_intel.macosx_10_9_x86_64.macosx_10_10_intel.macosx_10_10_x86_64.whl’ saved [51576488/51576488]\n",
            "\n"
          ],
          "name": "stdout"
        }
      ]
    },
    {
      "cell_type": "code",
      "metadata": {
        "id": "jX7yP60gjySd",
        "colab_type": "code",
        "colab": {}
      },
      "source": [
        "!cp -r drive/My\\ Drive/working  ./"
      ],
      "execution_count": 0,
      "outputs": []
    },
    {
      "cell_type": "code",
      "metadata": {
        "id": "KdMLCVo3k4it",
        "colab_type": "code",
        "colab": {}
      },
      "source": [
        "!python -c \"import cv2\""
      ],
      "execution_count": 0,
      "outputs": []
    },
    {
      "cell_type": "code",
      "metadata": {
        "id": "jzRDWSmnlFt8",
        "colab_type": "code",
        "outputId": "341bdebb-700b-4092-f5b5-a26b9b776831",
        "colab": {
          "base_uri": "https://localhost:8080/",
          "height": 1000
        }
      },
      "source": [
        "!cd working  &&  python  yolo_2_json.py  images/ labels/ output/"
      ],
      "execution_count": 0,
      "outputs": [
        {
          "output_type": "stream",
          "text": [
            "now proseeding :  /content/working/images/000001.bmp\n",
            " now proseeding :  /content/working/images/000002.bmp\n",
            " now proseeding :  /content/working/images/000003.bmp\n",
            " now proseeding :  /content/working/images/000004.bmp\n",
            " now proseeding :  /content/working/images/000005.bmp\n",
            " now proseeding :  /content/working/images/000006.bmp\n",
            " now proseeding :  /content/working/images/000007.bmp\n",
            " now proseeding :  /content/working/images/000008.bmp\n",
            " now proseeding :  /content/working/images/000009.bmp\n",
            " now proseeding :  /content/working/images/000010.bmp\n",
            " now proseeding :  /content/working/images/000011.bmp\n",
            " now proseeding :  /content/working/images/000012.bmp\n",
            " now proseeding :  /content/working/images/000013.bmp\n",
            " now proseeding :  /content/working/images/000014.bmp\n",
            " now proseeding :  /content/working/images/000015.bmp\n",
            " now proseeding :  /content/working/images/000016.bmp\n",
            " now proseeding :  /content/working/images/000017.bmp\n",
            " now proseeding :  /content/working/images/000018.bmp\n",
            " now proseeding :  /content/working/images/000019.bmp\n",
            " now proseeding :  /content/working/images/000020.bmp\n",
            " now proseeding :  /content/working/images/000021.bmp\n",
            " now proseeding :  /content/working/images/000022.bmp\n",
            " now proseeding :  /content/working/images/000023.bmp\n",
            " now proseeding :  /content/working/images/000024.bmp\n",
            " now proseeding :  /content/working/images/000025.bmp\n",
            " now proseeding :  /content/working/images/000026.bmp\n",
            " now proseeding :  /content/working/images/000027.bmp\n",
            " now proseeding :  /content/working/images/000028.bmp\n",
            " now proseeding :  /content/working/images/000029.bmp\n",
            " now proseeding :  /content/working/images/000030.bmp\n",
            " now proseeding :  /content/working/images/000031.bmp\n",
            " now proseeding :  /content/working/images/000032.bmp\n",
            " now proseeding :  /content/working/images/000033.bmp\n",
            " now proseeding :  /content/working/images/000034.bmp\n",
            " now proseeding :  /content/working/images/000035.bmp\n",
            " now proseeding :  /content/working/images/000036.bmp\n",
            " now proseeding :  /content/working/images/000037.bmp\n",
            " now proseeding :  /content/working/images/000038.bmp\n",
            " now proseeding :  /content/working/images/000039.bmp\n",
            " now proseeding :  /content/working/images/000040.bmp\n",
            " now proseeding :  /content/working/images/000041.bmp\n",
            " now proseeding :  /content/working/images/000042.bmp\n",
            " now proseeding :  /content/working/images/000043.bmp\n",
            " now proseeding :  /content/working/images/000044.bmp\n",
            " now proseeding :  /content/working/images/000045.bmp\n",
            " now proseeding :  /content/working/images/000046.bmp\n",
            " now proseeding :  /content/working/images/000047.bmp\n",
            " now proseeding :  /content/working/images/000048.bmp\n",
            " now proseeding :  /content/working/images/000049.bmp\n",
            " now proseeding :  /content/working/images/000050.bmp\n",
            " now proseeding :  /content/working/images/000051.bmp\n",
            " now proseeding :  /content/working/images/000052.bmp\n",
            " now proseeding :  /content/working/images/000053.bmp\n",
            " now proseeding :  /content/working/images/000054.bmp\n",
            " now proseeding :  /content/working/images/000055.bmp\n",
            " now proseeding :  /content/working/images/000056.bmp\n",
            " now proseeding :  /content/working/images/000057.bmp\n",
            " now proseeding :  /content/working/images/000058.bmp\n",
            " now proseeding :  /content/working/images/000059.bmp\n",
            " now proseeding :  /content/working/images/000060.bmp\n",
            " now proseeding :  /content/working/images/000061.bmp\n",
            " now proseeding :  /content/working/images/000062.bmp\n",
            " now proseeding :  /content/working/images/000063.bmp\n",
            " now proseeding :  /content/working/images/000064.bmp\n",
            " now proseeding :  /content/working/images/000065.bmp\n",
            " now proseeding :  /content/working/images/000066.bmp\n",
            " now proseeding :  /content/working/images/000067.bmp\n",
            " now proseeding :  /content/working/images/000068.bmp\n",
            " now proseeding :  /content/working/images/000069.bmp\n",
            " now proseeding :  /content/working/images/000070.bmp\n",
            " now proseeding :  /content/working/images/000071.bmp\n",
            " now proseeding :  /content/working/images/000072.bmp\n",
            " now proseeding :  /content/working/images/000073.bmp\n",
            " now proseeding :  /content/working/images/000074.bmp\n",
            " now proseeding :  /content/working/images/000075.bmp\n",
            " now proseeding :  /content/working/images/000076.bmp\n",
            " now proseeding :  /content/working/images/000077.bmp\n",
            " now proseeding :  /content/working/images/000078.bmp\n",
            " now proseeding :  /content/working/images/000079.bmp\n",
            " now proseeding :  /content/working/images/000080.bmp\n",
            " now proseeding :  /content/working/images/000081.bmp\n",
            " now proseeding :  /content/working/images/000082.bmp\n",
            " now proseeding :  /content/working/images/000083.bmp\n",
            " now proseeding :  /content/working/images/000084.bmp\n",
            " now proseeding :  /content/working/images/000085.bmp\n",
            " now proseeding :  /content/working/images/000086.bmp\n",
            " now proseeding :  /content/working/images/000087.bmp\n",
            " now proseeding :  /content/working/images/000088.bmp\n",
            " now proseeding :  /content/working/images/000089.bmp\n",
            " now proseeding :  /content/working/images/000090.bmp\n",
            " now proseeding :  /content/working/images/000091.bmp\n",
            " now proseeding :  /content/working/images/000092.bmp\n",
            " now proseeding :  /content/working/images/000093.bmp\n",
            " now proseeding :  /content/working/images/000094.bmp\n",
            " now proseeding :  /content/working/images/000095.bmp\n",
            " now proseeding :  /content/working/images/000096.bmp\n",
            " now proseeding :  /content/working/images/000097.bmp\n",
            " now proseeding :  /content/working/images/000098.bmp\n",
            " now proseeding :  /content/working/images/000099.bmp\n",
            " now proseeding :  /content/working/images/000100.bmp\n",
            " \n",
            "images count =  100\n",
            "object count =  29756\n",
            "---- fin ----\n"
          ],
          "name": "stdout"
        }
      ]
    },
    {
      "cell_type": "code",
      "metadata": {
        "id": "M_bcqCnyll_X",
        "colab_type": "code",
        "colab": {}
      },
      "source": [
        "!cp -r working/output   drive/My\\ Drive/working/"
      ],
      "execution_count": 0,
      "outputs": []
    },
    {
      "cell_type": "code",
      "metadata": {
        "id": "gQp4e4O9qDb3",
        "colab_type": "code",
        "colab": {}
      },
      "source": [
        "!cd working/ && rm -rf output"
      ],
      "execution_count": 0,
      "outputs": []
    },
    {
      "cell_type": "code",
      "metadata": {
        "id": "CMiVU-abavGu",
        "colab_type": "code",
        "outputId": "10b36813-6b34-4831-c9c2-05179884202c",
        "colab": {
          "base_uri": "https://localhost:8080/",
          "height": 204
        }
      },
      "source": [
        "!wget https://s3.ap-northeast-2.amazonaws.com/open-mmlab/mmdetection/models/faster_rcnn_r50_fpn_1x_20181010-3d1b3351.pth"
      ],
      "execution_count": 0,
      "outputs": [
        {
          "output_type": "stream",
          "text": [
            "--2019-10-20 04:26:59--  https://s3.ap-northeast-2.amazonaws.com/open-mmlab/mmdetection/models/faster_rcnn_r50_fpn_1x_20181010-3d1b3351.pth\n",
            "Resolving s3.ap-northeast-2.amazonaws.com (s3.ap-northeast-2.amazonaws.com)... 52.219.56.12\n",
            "Connecting to s3.ap-northeast-2.amazonaws.com (s3.ap-northeast-2.amazonaws.com)|52.219.56.12|:443... connected.\n",
            "HTTP request sent, awaiting response... 200 OK\n",
            "Length: 167293562 (160M) [application/x-www-form-urlencoded]\n",
            "Saving to: ‘faster_rcnn_r50_fpn_1x_20181010-3d1b3351.pth’\n",
            "\n",
            "faster_rcnn_r50_fpn 100%[===================>] 159.54M  23.9MB/s    in 7.5s    \n",
            "\n",
            "2019-10-20 04:27:07 (21.4 MB/s) - ‘faster_rcnn_r50_fpn_1x_20181010-3d1b3351.pth’ saved [167293562/167293562]\n",
            "\n"
          ],
          "name": "stdout"
        }
      ]
    },
    {
      "cell_type": "code",
      "metadata": {
        "id": "qFLalUbLbtCL",
        "colab_type": "code",
        "colab": {}
      },
      "source": [
        "!cp faster_rcnn_r50_fpn_1x_20181010-3d1b3351.pth_classes_2.pth drive/My\\ Drive/"
      ],
      "execution_count": 0,
      "outputs": []
    },
    {
      "cell_type": "code",
      "metadata": {
        "id": "CH0mxsCEc23W",
        "colab_type": "code",
        "colab": {}
      },
      "source": [
        "!python modi_class.py"
      ],
      "execution_count": 0,
      "outputs": []
    },
    {
      "cell_type": "code",
      "metadata": {
        "id": "NAagt9_-eBDc",
        "colab_type": "code",
        "colab": {}
      },
      "source": [
        ""
      ],
      "execution_count": 0,
      "outputs": []
    },
    {
      "cell_type": "markdown",
      "metadata": {
        "id": "MWdtbngWeBe0",
        "colab_type": "text"
      },
      "source": [
        "# install mmdetction"
      ]
    },
    {
      "cell_type": "code",
      "metadata": {
        "id": "IdOeRA2NeH5N",
        "colab_type": "code",
        "outputId": "7def0358-6ef9-4103-8a15-0c12ecc8accf",
        "colab": {
          "base_uri": "https://localhost:8080/",
          "height": 34
        }
      },
      "source": [
        "!python -V"
      ],
      "execution_count": 0,
      "outputs": [
        {
          "output_type": "stream",
          "text": [
            "Python 3.6.8\n"
          ],
          "name": "stdout"
        }
      ]
    },
    {
      "cell_type": "code",
      "metadata": {
        "id": "iB-X4z85fP9O",
        "colab_type": "code",
        "outputId": "e197dc06-ac57-45fb-81be-e697d1e36f7f",
        "colab": {
          "base_uri": "https://localhost:8080/",
          "height": 119
        }
      },
      "source": [
        "!pip3 install torch torchvision"
      ],
      "execution_count": 0,
      "outputs": [
        {
          "output_type": "stream",
          "text": [
            "Requirement already satisfied: torch in /usr/local/lib/python3.6/dist-packages (1.3.0+cu100)\n",
            "Requirement already satisfied: torchvision in /usr/local/lib/python3.6/dist-packages (0.4.1+cu100)\n",
            "Requirement already satisfied: numpy in /usr/local/lib/python3.6/dist-packages (from torch) (1.16.5)\n",
            "Requirement already satisfied: pillow>=4.1.1 in /usr/local/lib/python3.6/dist-packages (from torchvision) (4.3.0)\n",
            "Requirement already satisfied: six in /usr/local/lib/python3.6/dist-packages (from torchvision) (1.12.0)\n",
            "Requirement already satisfied: olefile in /usr/local/lib/python3.6/dist-packages (from pillow>=4.1.1->torchvision) (0.46)\n"
          ],
          "name": "stdout"
        }
      ]
    },
    {
      "cell_type": "code",
      "metadata": {
        "id": "k5kdIAqqfmkq",
        "colab_type": "code",
        "outputId": "452a7901-7ae4-4358-c698-f02cedc8efe7",
        "colab": {
          "base_uri": "https://localhost:8080/",
          "height": 102
        }
      },
      "source": [
        "!git clone https://github.com/open-mmlab/mmdetection.git"
      ],
      "execution_count": 0,
      "outputs": [
        {
          "output_type": "stream",
          "text": [
            "Cloning into 'mmdetection'...\n",
            "remote: Enumerating objects: 5333, done.\u001b[K\n",
            "remote: Total 5333 (delta 0), reused 0 (delta 0), pack-reused 5333\u001b[K\n",
            "Receiving objects: 100% (5333/5333), 5.04 MiB | 7.36 MiB/s, done.\n",
            "Resolving deltas: 100% (3581/3581), done.\n"
          ],
          "name": "stdout"
        }
      ]
    },
    {
      "cell_type": "code",
      "metadata": {
        "id": "Qxc36YeKfuKo",
        "colab_type": "code",
        "outputId": "5e436dde-c2a2-47da-a125-111953059911",
        "colab": {
          "base_uri": "https://localhost:8080/",
          "height": 1000
        }
      },
      "source": [
        "!cd mmdetection && python setup.py develop"
      ],
      "execution_count": 0,
      "outputs": [
        {
          "output_type": "stream",
          "text": [
            "/usr/local/lib/python3.6/dist-packages/setuptools/dist.py:474: UserWarning: Normalizing '1.0.rc0+618dca0' to '1.0rc0+618dca0'\n",
            "  normalized_version,\n",
            "running develop\n",
            "running egg_info\n",
            "writing mmdet.egg-info/PKG-INFO\n",
            "writing dependency_links to mmdet.egg-info/dependency_links.txt\n",
            "writing requirements to mmdet.egg-info/requires.txt\n",
            "writing top-level names to mmdet.egg-info/top_level.txt\n",
            "writing manifest file 'mmdet.egg-info/SOURCES.txt'\n",
            "running build_ext\n",
            "copying build/lib.linux-x86_64-3.6/mmdet/ops/nms/soft_nms_cpu.cpython-36m-x86_64-linux-gnu.so -> mmdet/ops/nms\n",
            "copying build/lib.linux-x86_64-3.6/mmdet/ops/nms/nms_cpu.cpython-36m-x86_64-linux-gnu.so -> mmdet/ops/nms\n",
            "copying build/lib.linux-x86_64-3.6/mmdet/ops/nms/nms_cuda.cpython-36m-x86_64-linux-gnu.so -> mmdet/ops/nms\n",
            "copying build/lib.linux-x86_64-3.6/mmdet/ops/roi_align/roi_align_cuda.cpython-36m-x86_64-linux-gnu.so -> mmdet/ops/roi_align\n",
            "copying build/lib.linux-x86_64-3.6/mmdet/ops/roi_pool/roi_pool_cuda.cpython-36m-x86_64-linux-gnu.so -> mmdet/ops/roi_pool\n",
            "copying build/lib.linux-x86_64-3.6/mmdet/ops/dcn/deform_conv_cuda.cpython-36m-x86_64-linux-gnu.so -> mmdet/ops/dcn\n",
            "copying build/lib.linux-x86_64-3.6/mmdet/ops/dcn/deform_pool_cuda.cpython-36m-x86_64-linux-gnu.so -> mmdet/ops/dcn\n",
            "copying build/lib.linux-x86_64-3.6/mmdet/ops/sigmoid_focal_loss/sigmoid_focal_loss_cuda.cpython-36m-x86_64-linux-gnu.so -> mmdet/ops/sigmoid_focal_loss\n",
            "copying build/lib.linux-x86_64-3.6/mmdet/ops/masked_conv/masked_conv2d_cuda.cpython-36m-x86_64-linux-gnu.so -> mmdet/ops/masked_conv\n",
            "Creating /usr/local/lib/python3.6/dist-packages/mmdet.egg-link (link to .)\n",
            "mmdet 1.0rc0+618dca0 is already the active version in easy-install.pth\n",
            "\n",
            "Installed /content/mmdetection\n",
            "Processing dependencies for mmdet==1.0rc0+618dca0\n",
            "Searching for mmcv>=0.2.10\n",
            "Reading https://pypi.org/simple/mmcv/\n",
            "Downloading https://files.pythonhosted.org/packages/26/fa/f032c1e0095b4dfac42feae2f4e8ad77dd3ad83257cb5269814c583ac34c/mmcv-0.2.14.tar.gz#sha256=cddb052d2917c33840ff12e405dd0118a3f8731abc78122d12ee8325a35fc9db\n",
            "Best match: mmcv 0.2.14\n",
            "Processing mmcv-0.2.14.tar.gz\n",
            "Writing /tmp/easy_install-a6lo4fv5/mmcv-0.2.14/setup.cfg\n",
            "Running mmcv-0.2.14/setup.py -q bdist_egg --dist-dir /tmp/easy_install-a6lo4fv5/mmcv-0.2.14/egg-dist-tmp-wieg7ccg\n",
            "/usr/local/lib/python3.6/dist-packages/Cython/Compiler/Main.py:369: FutureWarning: Cython directive 'language_level' not set, using 2 for now (Py2). This will change in a later release! File: /tmp/easy_install-a6lo4fv5/mmcv-0.2.14/mmcv/video/optflow_warp/flow_warp_module.pyx\n",
            "  tree = Parsing.p_module(s, pxd, full_module_name)\n",
            "In file included from \u001b[01m\u001b[K/usr/local/lib/python3.6/dist-packages/numpy/core/include/numpy/ndarraytypes.h:1822:0\u001b[m\u001b[K,\n",
            "                 from \u001b[01m\u001b[K/usr/local/lib/python3.6/dist-packages/numpy/core/include/numpy/ndarrayobject.h:12\u001b[m\u001b[K,\n",
            "                 from \u001b[01m\u001b[K/usr/local/lib/python3.6/dist-packages/numpy/core/include/numpy/arrayobject.h:4\u001b[m\u001b[K,\n",
            "                 from \u001b[01m\u001b[K./mmcv/video/optflow_warp/flow_warp_module.cpp:612\u001b[m\u001b[K:\n",
            "\u001b[01m\u001b[K/usr/local/lib/python3.6/dist-packages/numpy/core/include/numpy/npy_1_7_deprecated_api.h:17:2:\u001b[m\u001b[K \u001b[01;35m\u001b[Kwarning: \u001b[m\u001b[K#warning \"Using deprecated NumPy API, disable it with \" \"#define NPY_NO_DEPRECATED_API NPY_1_7_API_VERSION\" [\u001b[01;35m\u001b[K-Wcpp\u001b[m\u001b[K]\n",
            " #\u001b[01;35m\u001b[Kwarning\u001b[m\u001b[K \"Using deprecated NumPy API, disable it with \" \\\n",
            "  \u001b[01;35m\u001b[K^~~~~~~\u001b[m\u001b[K\n",
            "creating /usr/local/lib/python3.6/dist-packages/mmcv-0.2.14-py3.6-linux-x86_64.egg\n",
            "Extracting mmcv-0.2.14-py3.6-linux-x86_64.egg to /usr/local/lib/python3.6/dist-packages\n",
            "Adding mmcv 0.2.14 to easy-install.pth file\n",
            "\n",
            "Installed /usr/local/lib/python3.6/dist-packages/mmcv-0.2.14-py3.6-linux-x86_64.egg\n",
            "Searching for opencv-python>=4.1.1\n",
            "Reading https://pypi.org/simple/opencv-python/\n",
            "Downloading https://files.pythonhosted.org/packages/5e/7e/bd5425f4dacb73367fddc71388a47c1ea570839197c2bcad86478e565186/opencv_python-4.1.1.26-cp36-cp36m-manylinux1_x86_64.whl#sha256=67d994c6b2b14cb9239e85dc7dfa6c08ef7cf6eb4def80c0af6141dfacc8cbb9\n",
            "Best match: opencv-python 4.1.1.26\n",
            "Processing opencv_python-4.1.1.26-cp36-cp36m-manylinux1_x86_64.whl\n",
            "Installing opencv_python-4.1.1.26-cp36-cp36m-manylinux1_x86_64.whl to /usr/local/lib/python3.6/dist-packages\n",
            "writing requirements to /usr/local/lib/python3.6/dist-packages/opencv_python-4.1.1.26-py3.6-linux-x86_64.egg/EGG-INFO/requires.txt\n",
            "Adding opencv-python 4.1.1.26 to easy-install.pth file\n",
            "\n",
            "Installed /usr/local/lib/python3.6/dist-packages/opencv_python-4.1.1.26-py3.6-linux-x86_64.egg\n",
            "Searching for imgaug<0.2.7,>=0.2.5\n",
            "Reading https://pypi.org/simple/imgaug/\n",
            "Downloading https://files.pythonhosted.org/packages/ad/2e/748dbb7bb52ec8667098bae9b585f448569ae520031932687761165419a2/imgaug-0.2.6.tar.gz#sha256=82a5052d2daabc1b8de04b5fade44d59f3376c429880dd78e759028c67f3c8f3\n",
            "Best match: imgaug 0.2.6\n",
            "Processing imgaug-0.2.6.tar.gz\n",
            "Writing /tmp/easy_install-0cr0sk11/imgaug-0.2.6/setup.cfg\n",
            "Running imgaug-0.2.6/setup.py -q bdist_egg --dist-dir /tmp/easy_install-0cr0sk11/imgaug-0.2.6/egg-dist-tmp-zfzdtcnu\n",
            "Sorry: IndentationError: unexpected indent (parameters-testcode.py, line 2)\n",
            "  File \"build/bdist.linux-x86_64/egg/imgaug/bak/affine.py\", line 108\n",
            "    return shear = shear\n",
            "                 ^\n",
            "SyntaxError: invalid syntax\n",
            "\n",
            "zip_safe flag not set; analyzing archive contents...\n",
            "imgaug.__pycache__.imgaug.cpython-36: module references __file__\n",
            "creating /usr/local/lib/python3.6/dist-packages/imgaug-0.2.6-py3.6.egg\n",
            "Extracting imgaug-0.2.6-py3.6.egg to /usr/local/lib/python3.6/dist-packages\n",
            "Sorry: IndentationError: unexpected indent (parameters-testcode.py, line 2)\n",
            "  File \"/usr/local/lib/python3.6/dist-packages/imgaug-0.2.6-py3.6.egg/imgaug/bak/affine.py\", line 108\n",
            "    return shear = shear\n",
            "                 ^\n",
            "SyntaxError: invalid syntax\n",
            "\n",
            "Adding imgaug 0.2.6 to easy-install.pth file\n",
            "\n",
            "Installed /usr/local/lib/python3.6/dist-packages/imgaug-0.2.6-py3.6.egg\n",
            "Searching for Pillow>=5.4.1\n",
            "Reading https://pypi.org/simple/Pillow/\n",
            "Downloading https://files.pythonhosted.org/packages/19/66/6113477dc3206ccb1e192cffd626f2840ead02375a6cebe2436ad4c19f61/Pillow-6.2.0-cp36-cp36m-manylinux1_x86_64.whl#sha256=ceb76935ac4ebdf6d7bc845482a4450b284c6ccfb281e34da51d510658ab34d8\n",
            "Best match: Pillow 6.2.0\n",
            "Processing Pillow-6.2.0-cp36-cp36m-manylinux1_x86_64.whl\n",
            "Installing Pillow-6.2.0-cp36-cp36m-manylinux1_x86_64.whl to /usr/local/lib/python3.6/dist-packages\n",
            "Adding Pillow 6.2.0 to easy-install.pth file\n",
            "\n",
            "Installed /usr/local/lib/python3.6/dist-packages/Pillow-6.2.0-py3.6-linux-x86_64.egg\n",
            "Searching for addict\n",
            "Reading https://pypi.org/simple/addict/\n",
            "Downloading https://files.pythonhosted.org/packages/14/6f/beb258220417c1a0fe11e842f2e012a1be7eeeaa72a1d10ba17a804da367/addict-2.2.1-py3-none-any.whl#sha256=1948c2a5d93ba6026eb91aef2c971234aaf72488a9c07ab8a7950f82ae30eea7\n",
            "Best match: addict 2.2.1\n",
            "Processing addict-2.2.1-py3-none-any.whl\n",
            "Installing addict-2.2.1-py3-none-any.whl to /usr/local/lib/python3.6/dist-packages\n",
            "Adding addict 2.2.1 to easy-install.pth file\n",
            "\n",
            "Installed /usr/local/lib/python3.6/dist-packages/addict-2.2.1-py3.6.egg\n",
            "Searching for albumentations==0.4.1\n",
            "Best match: albumentations 0.4.1\n",
            "Processing albumentations-0.4.1-py3.6.egg\n",
            "albumentations 0.4.1 is already the active version in easy-install.pth\n",
            "\n",
            "Using /usr/local/lib/python3.6/dist-packages/albumentations-0.4.1-py3.6.egg\n",
            "Searching for imagecorruptions==1.0.0\n",
            "Best match: imagecorruptions 1.0.0\n",
            "Processing imagecorruptions-1.0.0-py3.6.egg\n",
            "imagecorruptions 1.0.0 is already the active version in easy-install.pth\n",
            "\n",
            "Using /usr/local/lib/python3.6/dist-packages/imagecorruptions-1.0.0-py3.6.egg\n",
            "Searching for torchvision==0.4.1+cu100\n",
            "Best match: torchvision 0.4.1+cu100\n",
            "Adding torchvision 0.4.1+cu100 to easy-install.pth file\n",
            "\n",
            "Using /usr/local/lib/python3.6/dist-packages\n",
            "Searching for torch==1.3.0+cu100\n",
            "Best match: torch 1.3.0+cu100\n",
            "Adding torch 1.3.0+cu100 to easy-install.pth file\n",
            "Installing convert-caffe2-to-onnx script to /usr/local/bin\n",
            "Installing convert-onnx-to-caffe2 script to /usr/local/bin\n",
            "\n",
            "Using /usr/local/lib/python3.6/dist-packages\n",
            "Searching for pycocotools==2.0.0\n",
            "Best match: pycocotools 2.0.0\n",
            "Adding pycocotools 2.0.0 to easy-install.pth file\n",
            "\n",
            "Using /usr/local/lib/python3.6/dist-packages\n",
            "Searching for terminaltables==3.1.0\n",
            "Best match: terminaltables 3.1.0\n",
            "Processing terminaltables-3.1.0-py3.6.egg\n",
            "terminaltables 3.1.0 is already the active version in easy-install.pth\n",
            "\n",
            "Using /usr/local/lib/python3.6/dist-packages/terminaltables-3.1.0-py3.6.egg\n",
            "Searching for six==1.12.0\n",
            "Best match: six 1.12.0\n",
            "Adding six 1.12.0 to easy-install.pth file\n",
            "\n",
            "Using /usr/local/lib/python3.6/dist-packages\n",
            "Searching for matplotlib==3.0.3\n",
            "Best match: matplotlib 3.0.3\n",
            "Adding matplotlib 3.0.3 to easy-install.pth file\n",
            "\n",
            "Using /usr/local/lib/python3.6/dist-packages\n",
            "Searching for numpy==1.16.5\n",
            "Best match: numpy 1.16.5\n",
            "Adding numpy 1.16.5 to easy-install.pth file\n",
            "Installing f2py script to /usr/local/bin\n",
            "Installing f2py3 script to /usr/local/bin\n",
            "Installing f2py3.6 script to /usr/local/bin\n",
            "\n",
            "Using /usr/local/lib/python3.6/dist-packages\n",
            "Searching for PyYAML==3.13\n",
            "Best match: PyYAML 3.13\n",
            "Adding PyYAML 3.13 to easy-install.pth file\n",
            "\n",
            "Using /usr/local/lib/python3.6/dist-packages\n",
            "Searching for scipy==1.3.1\n",
            "Best match: scipy 1.3.1\n",
            "Adding scipy 1.3.1 to easy-install.pth file\n",
            "\n",
            "Using /usr/local/lib/python3.6/dist-packages\n",
            "Searching for scikit-image==0.15.0\n",
            "Best match: scikit-image 0.15.0\n",
            "Adding scikit-image 0.15.0 to easy-install.pth file\n",
            "Installing skivi script to /usr/local/bin\n",
            "\n",
            "Using /usr/local/lib/python3.6/dist-packages\n",
            "Searching for kiwisolver==1.1.0\n",
            "Best match: kiwisolver 1.1.0\n",
            "Adding kiwisolver 1.1.0 to easy-install.pth file\n",
            "\n",
            "Using /usr/local/lib/python3.6/dist-packages\n",
            "Searching for python-dateutil==2.5.3\n",
            "Best match: python-dateutil 2.5.3\n",
            "Adding python-dateutil 2.5.3 to easy-install.pth file\n",
            "\n",
            "Using /usr/local/lib/python3.6/dist-packages\n",
            "Searching for cycler==0.10.0\n",
            "Best match: cycler 0.10.0\n",
            "Adding cycler 0.10.0 to easy-install.pth file\n",
            "\n",
            "Using /usr/local/lib/python3.6/dist-packages\n",
            "Searching for pyparsing==2.4.2\n",
            "Best match: pyparsing 2.4.2\n",
            "Adding pyparsing 2.4.2 to easy-install.pth file\n",
            "\n",
            "Using /usr/local/lib/python3.6/dist-packages\n",
            "Searching for Cython==0.29.13\n",
            "Best match: Cython 0.29.13\n",
            "Adding Cython 0.29.13 to easy-install.pth file\n",
            "Installing cygdb script to /usr/local/bin\n",
            "Installing cython script to /usr/local/bin\n",
            "Installing cythonize script to /usr/local/bin\n",
            "\n",
            "Using /usr/local/lib/python3.6/dist-packages\n",
            "Searching for requests==2.21.0\n",
            "Best match: requests 2.21.0\n",
            "Adding requests 2.21.0 to easy-install.pth file\n",
            "\n",
            "Using /usr/local/lib/python3.6/dist-packages\n",
            "Searching for networkx==2.3\n",
            "Best match: networkx 2.3\n",
            "Adding networkx 2.3 to easy-install.pth file\n",
            "\n",
            "Using /usr/local/lib/python3.6/dist-packages\n",
            "Searching for imageio==2.4.1\n",
            "Best match: imageio 2.4.1\n",
            "Adding imageio 2.4.1 to easy-install.pth file\n",
            "Installing imageio_download_bin script to /usr/local/bin\n",
            "Installing imageio_remove_bin script to /usr/local/bin\n",
            "\n",
            "Using /usr/local/lib/python3.6/dist-packages\n",
            "Searching for PyWavelets==1.0.3\n",
            "Best match: PyWavelets 1.0.3\n",
            "Adding PyWavelets 1.0.3 to easy-install.pth file\n",
            "\n",
            "Using /usr/local/lib/python3.6/dist-packages\n",
            "Searching for setuptools==41.2.0\n",
            "Best match: setuptools 41.2.0\n",
            "Adding setuptools 41.2.0 to easy-install.pth file\n",
            "Installing easy_install script to /usr/local/bin\n",
            "Installing easy_install-3.6 script to /usr/local/bin\n",
            "\n",
            "Using /usr/local/lib/python3.6/dist-packages\n",
            "Searching for certifi==2019.9.11\n",
            "Best match: certifi 2019.9.11\n",
            "Adding certifi 2019.9.11 to easy-install.pth file\n",
            "\n",
            "Using /usr/local/lib/python3.6/dist-packages\n",
            "Searching for urllib3==1.24.3\n",
            "Best match: urllib3 1.24.3\n",
            "Adding urllib3 1.24.3 to easy-install.pth file\n",
            "\n",
            "Using /usr/local/lib/python3.6/dist-packages\n",
            "Searching for idna==2.8\n",
            "Best match: idna 2.8\n",
            "Adding idna 2.8 to easy-install.pth file\n",
            "\n",
            "Using /usr/local/lib/python3.6/dist-packages\n",
            "Searching for chardet==3.0.4\n",
            "Best match: chardet 3.0.4\n",
            "Adding chardet 3.0.4 to easy-install.pth file\n",
            "Installing chardetect script to /usr/local/bin\n",
            "\n",
            "Using /usr/local/lib/python3.6/dist-packages\n",
            "Searching for decorator==4.4.0\n",
            "Best match: decorator 4.4.0\n",
            "Adding decorator 4.4.0 to easy-install.pth file\n",
            "\n",
            "Using /usr/local/lib/python3.6/dist-packages\n",
            "Finished processing dependencies for mmdet==1.0rc0+618dca0\n"
          ],
          "name": "stdout"
        }
      ]
    },
    {
      "cell_type": "markdown",
      "metadata": {
        "id": "AmfiNDVhi5vX",
        "colab_type": "text"
      },
      "source": [
        "# data preparation"
      ]
    },
    {
      "cell_type": "code",
      "metadata": {
        "id": "WWyXCzOOhtEz",
        "colab_type": "code",
        "colab": {}
      },
      "source": [
        "!mkdir -p mmdetection/data/coco/annotations"
      ],
      "execution_count": 0,
      "outputs": []
    },
    {
      "cell_type": "code",
      "metadata": {
        "id": "YaVnjDfijUlO",
        "colab_type": "code",
        "colab": {}
      },
      "source": [
        "!mkdir -p mmdetection/data/coco/train"
      ],
      "execution_count": 0,
      "outputs": []
    },
    {
      "cell_type": "code",
      "metadata": {
        "id": "vvcczFGxjfP9",
        "colab_type": "code",
        "colab": {}
      },
      "source": [
        "!mkdir -p mmdetection/data/coco/test"
      ],
      "execution_count": 0,
      "outputs": []
    },
    {
      "cell_type": "code",
      "metadata": {
        "id": "KnlO9VL0jkAH",
        "colab_type": "code",
        "colab": {}
      },
      "source": [
        "!cp drive/My\\ Drive/working/images/*.bmp  mmdetection/data/coco/train/"
      ],
      "execution_count": 0,
      "outputs": []
    },
    {
      "cell_type": "code",
      "metadata": {
        "id": "6r8386NFkMz8",
        "colab_type": "code",
        "colab": {}
      },
      "source": [
        "!cp drive/My\\ Drive/working/output/annotations/train.json  mmdetection/data/coco/annotations/"
      ],
      "execution_count": 0,
      "outputs": []
    },
    {
      "cell_type": "code",
      "metadata": {
        "id": "jA95GE0XksV3",
        "colab_type": "code",
        "colab": {}
      },
      "source": [
        "!mkdir -p mmdetection/checkpoints"
      ],
      "execution_count": 0,
      "outputs": []
    },
    {
      "cell_type": "code",
      "metadata": {
        "id": "L5yHbQtCkzuQ",
        "colab_type": "code",
        "colab": {}
      },
      "source": [
        "!cp drive/My\\ Drive/working/faster_rcnn_r50_fpn_1x_20181010-3d1b3351_classes_2.pth  mmdetection/checkpoints/"
      ],
      "execution_count": 0,
      "outputs": []
    },
    {
      "cell_type": "code",
      "metadata": {
        "id": "ot4PKkILneO2",
        "colab_type": "code",
        "colab": {}
      },
      "source": [
        ""
      ],
      "execution_count": 0,
      "outputs": []
    },
    {
      "cell_type": "markdown",
      "metadata": {
        "id": "HAFOHd83nQVf",
        "colab_type": "text"
      },
      "source": [
        "# train"
      ]
    },
    {
      "cell_type": "code",
      "metadata": {
        "id": "61oPfZ9Qnf39",
        "colab_type": "code",
        "colab": {}
      },
      "source": [
        "!mkdir -p mmdetection/myconfigs"
      ],
      "execution_count": 0,
      "outputs": []
    },
    {
      "cell_type": "code",
      "metadata": {
        "id": "YsY_oNwznPjO",
        "colab_type": "code",
        "outputId": "7a215257-4cf9-4a58-c6bd-ac152313e186",
        "colab": {
          "base_uri": "https://localhost:8080/",
          "height": 249
        }
      },
      "source": [
        "!cd mmdetection/ && python tools/train.py myconfigs/faster_rcnn_r50_fpn_1x.py"
      ],
      "execution_count": 0,
      "outputs": [
        {
          "output_type": "stream",
          "text": [
            "2019-10-20 08:06:04,270 - INFO - Distributed training: False\n",
            "2019-10-20 08:06:04,683 - INFO - load model from: torchvision://resnet50\n",
            "2019-10-20 08:06:04,942 - WARNING - The model and loaded state dict do not match exactly\n",
            "\n",
            "unexpected key in source state_dict: fc.weight, fc.bias\n",
            "\n",
            "loading annotations into memory...\n",
            "Done (t=0.13s)\n",
            "creating index...\n",
            "index created!\n",
            "2019-10-20 08:06:07,487 - INFO - Start running, host: root@a308af04d3f5, work_dir: /content/mmdetection/work_dirs/faster_rcnn_r50_fpn_1x\n",
            "2019-10-20 08:06:07,487 - INFO - workflow: [('train', 1)], max: 3 epochs\n"
          ],
          "name": "stdout"
        }
      ]
    },
    {
      "cell_type": "code",
      "metadata": {
        "id": "zrggauJ6nf0p",
        "colab_type": "code",
        "colab": {}
      },
      "source": [
        ""
      ],
      "execution_count": 0,
      "outputs": []
    },
    {
      "cell_type": "code",
      "metadata": {
        "id": "bSsZux6tnfmG",
        "colab_type": "code",
        "colab": {}
      },
      "source": [
        ""
      ],
      "execution_count": 0,
      "outputs": []
    }
  ]
}