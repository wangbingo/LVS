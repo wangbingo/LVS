{
  "nbformat": 4,
  "nbformat_minor": 0,
  "metadata": {
    "colab": {
      "name": "linux_install_and_test_kfbreader_20191022_1700.ipynb",
      "provenance": [],
      "collapsed_sections": [],
      "include_colab_link": true
    },
    "kernelspec": {
      "name": "python3",
      "display_name": "Python 3"
    }
  },
  "cells": [
    {
      "cell_type": "markdown",
      "metadata": {
        "id": "view-in-github",
        "colab_type": "text"
      },
      "source": [
        "<a href=\"https://colab.research.google.com/github/wangbingo/LVS/blob/master/linux_install_and_test_kfbreader_20191022_1700.ipynb\" target=\"_parent\"><img src=\"https://colab.research.google.com/assets/colab-badge.svg\" alt=\"Open In Colab\"/></a>"
      ]
    },
    {
      "cell_type": "markdown",
      "metadata": {
        "id": "iX7W6pyhtL3h",
        "colab_type": "text"
      },
      "source": [
        "# install kfbreader on linux"
      ]
    },
    {
      "cell_type": "code",
      "metadata": {
        "id": "rE1UveWXw4Mb",
        "colab_type": "code",
        "outputId": "3c91466a-8cb0-4a6c-b52d-c11b8da8859c",
        "colab": {
          "base_uri": "https://localhost:8080/",
          "height": 34
        }
      },
      "source": [
        "!python -V"
      ],
      "execution_count": 0,
      "outputs": [
        {
          "output_type": "stream",
          "text": [
            "Python 3.6.8\n"
          ],
          "name": "stdout"
        }
      ]
    },
    {
      "cell_type": "code",
      "metadata": {
        "id": "MSKPl7bK2PJm",
        "colab_type": "code",
        "outputId": "96843f27-e732-4418-94d2-ed9851cd4144",
        "colab": {
          "base_uri": "https://localhost:8080/",
          "height": 170
        }
      },
      "source": [
        "!unzip  kfbreader-linux.zip"
      ],
      "execution_count": 2,
      "outputs": [
        {
          "output_type": "stream",
          "text": [
            "Archive:  kfbreader-linux.zip\n",
            "   creating: kfbreader-linux/\n",
            "  inflating: kfbreader-linux/kfbReader.py  \n",
            "  inflating: kfbreader-linux/libhzzt.so  \n",
            "  inflating: kfbreader-linux/libopencv_world.so.3.4.5  \n",
            "   creating: __MACOSX/\n",
            "   creating: __MACOSX/kfbreader-linux/\n",
            "  inflating: __MACOSX/kfbreader-linux/._libopencv_world.so.3.4.5  \n",
            "  inflating: kfbreader-linux/_kfbReader.so  \n"
          ],
          "name": "stdout"
        }
      ]
    },
    {
      "cell_type": "code",
      "metadata": {
        "id": "lknmQkHUq4mr",
        "colab_type": "code",
        "colab": {
          "base_uri": "https://localhost:8080/",
          "height": 136
        },
        "outputId": "129d7b0b-b1ae-4ed2-d9cc-9854bc69e3cd"
      },
      "source": [
        "!ls -al kfbreader-linux/"
      ],
      "execution_count": 4,
      "outputs": [
        {
          "output_type": "stream",
          "text": [
            "total 82352\n",
            "drwx------ 2 root root     4096 Sep 29 08:59 .\n",
            "drwxr-xr-x 1 root root     4096 Oct 22 04:13 ..\n",
            "-rwxr-xr-x 1 root root     3934 Apr  4  2019 kfbReader.py\n",
            "-rwxr-xr-x 1 root root   886512 Sep 18 06:49 _kfbReader.so\n",
            "-rw-r--r-- 1 root root   750320 Apr  4  2019 libhzzt.so\n",
            "-rw------- 1 root root 82671616 Sep 27 08:33 libopencv_world.so.3.4.5\n"
          ],
          "name": "stdout"
        }
      ]
    },
    {
      "cell_type": "code",
      "metadata": {
        "id": "A4dXhe9prOvB",
        "colab_type": "code",
        "colab": {}
      },
      "source": [
        "!cp kfbreader-linux/* ./"
      ],
      "execution_count": 0,
      "outputs": []
    },
    {
      "cell_type": "code",
      "metadata": {
        "id": "Toz1BWGAyult",
        "colab_type": "code",
        "outputId": "085312e9-c642-4def-e901-5badb7cfee68",
        "colab": {
          "base_uri": "https://localhost:8080/",
          "height": 221
        }
      },
      "source": [
        "!ls -al"
      ],
      "execution_count": 6,
      "outputs": [
        {
          "output_type": "stream",
          "text": [
            "total 114272\n",
            "drwxr-xr-x 1 root root     4096 Oct 22 04:15 .\n",
            "drwxr-xr-x 1 root root     4096 Oct 22 04:04 ..\n",
            "drwxr-xr-x 1 root root     4096 Oct 18 15:18 .config\n",
            "drwx------ 2 root root     4096 Sep 29 08:59 kfbreader-linux\n",
            "-rw-r--r-- 1 root root 32663665 Oct 22 04:11 kfbreader-linux.zip\n",
            "-rwxr-xr-x 1 root root     3934 Oct 22 04:15 kfbReader.py\n",
            "-rwxr-xr-x 1 root root   886512 Oct 22 04:15 _kfbReader.so\n",
            "-rw-r--r-- 1 root root   750320 Oct 22 04:15 libhzzt.so\n",
            "-rw------- 1 root root 82671616 Oct 22 04:15 libopencv_world.so.3.4.5\n",
            "drwxrwxr-x 3 root root     4096 Sep 29 09:12 __MACOSX\n",
            "drwxr-xr-x 1 root root     4096 Aug 27 16:17 sample_data\n"
          ],
          "name": "stdout"
        }
      ]
    },
    {
      "cell_type": "code",
      "metadata": {
        "id": "6AReNZAqrgVh",
        "colab_type": "code",
        "colab": {}
      },
      "source": [
        "!ln -s libhzzt.so libhzzt.so.1 && ln -s libopencv_world.so.3.4.5  libopencv_world.so.3.4"
      ],
      "execution_count": 0,
      "outputs": []
    },
    {
      "cell_type": "code",
      "metadata": {
        "id": "Frovl-yHrrSj",
        "colab_type": "code",
        "colab": {
          "base_uri": "https://localhost:8080/",
          "height": 255
        },
        "outputId": "8e3efc48-a36c-4086-c6ca-9f281b165037"
      },
      "source": [
        "!ls -al"
      ],
      "execution_count": 8,
      "outputs": [
        {
          "output_type": "stream",
          "text": [
            "total 114272\n",
            "drwxr-xr-x 1 root root     4096 Oct 22 04:16 .\n",
            "drwxr-xr-x 1 root root     4096 Oct 22 04:04 ..\n",
            "drwxr-xr-x 1 root root     4096 Oct 18 15:18 .config\n",
            "drwx------ 2 root root     4096 Sep 29 08:59 kfbreader-linux\n",
            "-rw-r--r-- 1 root root 32663665 Oct 22 04:11 kfbreader-linux.zip\n",
            "-rwxr-xr-x 1 root root     3934 Oct 22 04:15 kfbReader.py\n",
            "-rwxr-xr-x 1 root root   886512 Oct 22 04:15 _kfbReader.so\n",
            "-rw-r--r-- 1 root root   750320 Oct 22 04:15 libhzzt.so\n",
            "lrwxrwxrwx 1 root root       10 Oct 22 04:16 libhzzt.so.1 -> libhzzt.so\n",
            "lrwxrwxrwx 1 root root       24 Oct 22 04:16 libopencv_world.so.3.4 -> libopencv_world.so.3.4.5\n",
            "-rw------- 1 root root 82671616 Oct 22 04:15 libopencv_world.so.3.4.5\n",
            "drwxrwxr-x 3 root root     4096 Sep 29 09:12 __MACOSX\n",
            "drwxr-xr-x 1 root root     4096 Aug 27 16:17 sample_data\n"
          ],
          "name": "stdout"
        }
      ]
    },
    {
      "cell_type": "code",
      "metadata": {
        "id": "bdNmJJkErvHI",
        "colab_type": "code",
        "colab": {
          "base_uri": "https://localhost:8080/",
          "height": 204
        },
        "outputId": "541ebe24-cd2a-46e6-d1ec-b70c6bf9be06"
      },
      "source": [
        "!python -c \"import kfbReader\""
      ],
      "execution_count": 9,
      "outputs": [
        {
          "output_type": "stream",
          "text": [
            "Traceback (most recent call last):\n",
            "  File \"<string>\", line 1, in <module>\n",
            "  File \"/content/kfbReader.py\", line 28, in <module>\n",
            "    _kfbReader = swig_import_helper()\n",
            "  File \"/content/kfbReader.py\", line 24, in swig_import_helper\n",
            "    _mod = imp.load_module('_kfbReader', fp, pathname, description)\n",
            "  File \"/usr/lib/python3.6/imp.py\", line 243, in load_module\n",
            "    return load_dynamic(name, filename, file)\n",
            "  File \"/usr/lib/python3.6/imp.py\", line 343, in load_dynamic\n",
            "    return _load(spec)\n",
            "ImportError: libhzzt.so.1: cannot open shared object file: No such file or directory\n"
          ],
          "name": "stdout"
        }
      ]
    },
    {
      "cell_type": "markdown",
      "metadata": {
        "id": "6Bqd5fLTthbJ",
        "colab_type": "text"
      },
      "source": [
        "一种方法是直接拷贝到库文件目录，另一种方法是添加PATH到.bashrc"
      ]
    },
    {
      "cell_type": "code",
      "metadata": {
        "id": "ZEwu4SKB2BzI",
        "colab_type": "code",
        "outputId": "fd112e68-cbdb-4768-cef4-10f528e8ea25",
        "colab": {
          "base_uri": "https://localhost:8080/",
          "height": 34
        }
      },
      "source": [
        "!cat .bashrc"
      ],
      "execution_count": 0,
      "outputs": [
        {
          "output_type": "stream",
          "text": [
            "export LD_LIBRARY_PATH=/content:$LD_LIBRARY_PATH"
          ],
          "name": "stdout"
        }
      ]
    },
    {
      "cell_type": "code",
      "metadata": {
        "id": "Zz2sqc3R0DSh",
        "colab_type": "code",
        "colab": {}
      },
      "source": [
        "!cp bashrc .bashrc"
      ],
      "execution_count": 0,
      "outputs": []
    },
    {
      "cell_type": "code",
      "metadata": {
        "id": "_RkiGx1r4fNO",
        "colab_type": "code",
        "colab": {}
      },
      "source": [
        "!cp libhzzt.so  /usr/lib/x86_64-linux-gnu/libhzzt.so.1"
      ],
      "execution_count": 0,
      "outputs": []
    },
    {
      "cell_type": "code",
      "metadata": {
        "id": "9fjG7bMO4tS1",
        "colab_type": "code",
        "colab": {}
      },
      "source": [
        "!cp libopencv_world.so.3.4.5  /usr/lib/x86_64-linux-gnu/libopencv_world.so.3.4"
      ],
      "execution_count": 0,
      "outputs": []
    },
    {
      "cell_type": "code",
      "metadata": {
        "id": "5jTcc2WMseiQ",
        "colab_type": "code",
        "colab": {
          "base_uri": "https://localhost:8080/",
          "height": 204
        },
        "outputId": "94618348-fdfc-46fa-aa8e-18f193e9a70a"
      },
      "source": [
        "!python -c \"import kfbReader\""
      ],
      "execution_count": 12,
      "outputs": [
        {
          "output_type": "stream",
          "text": [
            "Traceback (most recent call last):\n",
            "  File \"<string>\", line 1, in <module>\n",
            "  File \"/content/kfbReader.py\", line 28, in <module>\n",
            "    _kfbReader = swig_import_helper()\n",
            "  File \"/content/kfbReader.py\", line 24, in swig_import_helper\n",
            "    _mod = imp.load_module('_kfbReader', fp, pathname, description)\n",
            "  File \"/usr/lib/python3.6/imp.py\", line 243, in load_module\n",
            "    return load_dynamic(name, filename, file)\n",
            "  File \"/usr/lib/python3.6/imp.py\", line 343, in load_dynamic\n",
            "    return _load(spec)\n",
            "ImportError: libpng12.so.0: cannot open shared object file: No such file or directory\n"
          ],
          "name": "stdout"
        }
      ]
    },
    {
      "cell_type": "code",
      "metadata": {
        "id": "Kcem0EO05mpW",
        "colab_type": "code",
        "outputId": "9487b526-218d-4d8a-b344-89cec0c9f46e",
        "colab": {
          "base_uri": "https://localhost:8080/",
          "height": 119
        }
      },
      "source": [
        "!wget -q -O /tmp/libpng12.deb http://mirrors.kernel.org/ubuntu/pool/main/libp/libpng/libpng12-0_1.2.54-1ubuntu1_amd64.deb \\\n",
        "  && dpkg -i /tmp/libpng12.deb \\\n",
        "  && rm /tmp/libpng12.deb"
      ],
      "execution_count": 13,
      "outputs": [
        {
          "output_type": "stream",
          "text": [
            "Selecting previously unselected package libpng12-0:amd64.\n",
            "(Reading database ... 131183 files and directories currently installed.)\n",
            "Preparing to unpack /tmp/libpng12.deb ...\n",
            "Unpacking libpng12-0:amd64 (1.2.54-1ubuntu1) ...\n",
            "Setting up libpng12-0:amd64 (1.2.54-1ubuntu1) ...\n",
            "Processing triggers for libc-bin (2.27-3ubuntu1) ...\n"
          ],
          "name": "stdout"
        }
      ]
    },
    {
      "cell_type": "code",
      "metadata": {
        "id": "zEpnHikn3r-u",
        "colab_type": "code",
        "outputId": "ea4e3885-57d6-4304-c839-1e9a2a17493e",
        "colab": {
          "base_uri": "https://localhost:8080/",
          "height": 289
        }
      },
      "source": [
        "!ldd _kfbReader.so"
      ],
      "execution_count": 14,
      "outputs": [
        {
          "output_type": "stream",
          "text": [
            "\tlinux-vdso.so.1 (0x00007fff937de000)\n",
            "\t/usr/lib/x86_64-linux-gnu/libtcmalloc.so.4 (0x00007fcd1f0c7000)\n",
            "\tlibhzzt.so.1 => /usr/lib/x86_64-linux-gnu/libhzzt.so.1 (0x00007fcd1ee27000)\n",
            "\tlibopencv_world.so.3.4 => /usr/lib/x86_64-linux-gnu/libopencv_world.so.3.4 (0x00007fcd1a1b2000)\n",
            "\tlibstdc++.so.6 => /usr/lib/x86_64-linux-gnu/libstdc++.so.6 (0x00007fcd19e29000)\n",
            "\tlibgcc_s.so.1 => /lib/x86_64-linux-gnu/libgcc_s.so.1 (0x00007fcd19c11000)\n",
            "\tlibc.so.6 => /lib/x86_64-linux-gnu/libc.so.6 (0x00007fcd19820000)\n",
            "\tlibunwind.so.8 => /usr/lib/x86_64-linux-gnu/libunwind.so.8 (0x00007fcd19605000)\n",
            "\tlibpthread.so.0 => /lib/x86_64-linux-gnu/libpthread.so.0 (0x00007fcd193e6000)\n",
            "\tlibm.so.6 => /lib/x86_64-linux-gnu/libm.so.6 (0x00007fcd19048000)\n",
            "\tlibdl.so.2 => /lib/x86_64-linux-gnu/libdl.so.2 (0x00007fcd18e44000)\n",
            "\tlibrt.so.1 => /lib/x86_64-linux-gnu/librt.so.1 (0x00007fcd18c3c000)\n",
            "\tlibz.so.1 => /lib/x86_64-linux-gnu/libz.so.1 (0x00007fcd18a1f000)\n",
            "\tlibpng12.so.0 => /lib/x86_64-linux-gnu/libpng12.so.0 (0x00007fcd187fa000)\n",
            "\t/lib64/ld-linux-x86-64.so.2 (0x00007fcd1f558000)\n",
            "\tliblzma.so.5 => /lib/x86_64-linux-gnu/liblzma.so.5 (0x00007fcd185d4000)\n"
          ],
          "name": "stdout"
        }
      ]
    },
    {
      "cell_type": "code",
      "metadata": {
        "id": "X5b-zSqbzS6i",
        "colab_type": "code",
        "colab": {}
      },
      "source": [
        "!python -c \"import kfbReader\""
      ],
      "execution_count": 0,
      "outputs": []
    },
    {
      "cell_type": "code",
      "metadata": {
        "id": "ggvVzI_g6jos",
        "colab_type": "code",
        "colab": {}
      },
      "source": [
        "!python -c \"import cv2 as cv\""
      ],
      "execution_count": 0,
      "outputs": []
    },
    {
      "cell_type": "code",
      "metadata": {
        "id": "9DYxINsa6ovF",
        "colab_type": "code",
        "colab": {}
      },
      "source": [
        ""
      ],
      "execution_count": 0,
      "outputs": []
    },
    {
      "cell_type": "markdown",
      "metadata": {
        "id": "nbcPDhJhuAoo",
        "colab_type": "text"
      },
      "source": [
        "# test reader"
      ]
    },
    {
      "cell_type": "code",
      "metadata": {
        "id": "zOhqt8Dm61N0",
        "colab_type": "code",
        "outputId": "5ff5d465-4263-4697-987c-819ab0052a9c",
        "colab": {
          "base_uri": "https://localhost:8080/",
          "height": 122
        }
      },
      "source": [
        "from google.colab import drive\n",
        "drive.mount('/content/drive')"
      ],
      "execution_count": 17,
      "outputs": [
        {
          "output_type": "stream",
          "text": [
            "Go to this URL in a browser: https://accounts.google.com/o/oauth2/auth?client_id=947318989803-6bn6qk8qdgf4n4g3pfee6491hc0brc4i.apps.googleusercontent.com&redirect_uri=urn%3Aietf%3Awg%3Aoauth%3A2.0%3Aoob&scope=email%20https%3A%2F%2Fwww.googleapis.com%2Fauth%2Fdocs.test%20https%3A%2F%2Fwww.googleapis.com%2Fauth%2Fdrive%20https%3A%2F%2Fwww.googleapis.com%2Fauth%2Fdrive.photos.readonly%20https%3A%2F%2Fwww.googleapis.com%2Fauth%2Fpeopleapi.readonly&response_type=code\n",
            "\n",
            "Enter your authorization code:\n",
            "··········\n",
            "Mounted at /content/drive\n"
          ],
          "name": "stdout"
        }
      ]
    },
    {
      "cell_type": "code",
      "metadata": {
        "id": "cbaRpUnf7JjG",
        "colab_type": "code",
        "colab": {}
      },
      "source": [
        "!cp  /content/drive/My\\ Drive/T2019_114.kfb ./"
      ],
      "execution_count": 0,
      "outputs": []
    },
    {
      "cell_type": "code",
      "metadata": {
        "id": "ZAFtVVMmwpNJ",
        "colab_type": "code",
        "outputId": "a2d8c9b0-55f8-4a49-e642-53e5615b81f8",
        "colab": {
          "base_uri": "https://localhost:8080/",
          "height": 306
        }
      },
      "source": [
        "!cat read.py"
      ],
      "execution_count": 25,
      "outputs": [
        {
          "output_type": "stream",
          "text": [
            "import kfbReader\n",
            "import cv2 as cv\n",
            "\n",
            "path = r'./T2019_114.kfb'\n",
            "Scale = 20\n",
            "\n",
            "read = kfbReader.reader()\n",
            "kfbReader.reader.ReadInfo(read, path, Scale, True)\n",
            "width = kfbReader.reader.getWidth(read)\n",
            "height = kfbReader.reader.getHeight(read)\n",
            "print(width, height)\n",
            "\n",
            "roi_2 = read.ReadRoi(20480, 20480, 1024, 1024, scale = 20)\n",
            "\n",
            "cv.imwrite('T2019_114_20480-20480-1024-1024.png', roi_2)\n",
            "\n",
            "print('image file saved.')"
          ],
          "name": "stdout"
        }
      ]
    },
    {
      "cell_type": "code",
      "metadata": {
        "id": "Mh_uqzmB8p8D",
        "colab_type": "code",
        "outputId": "e91eee38-2b6f-46bf-9f9d-19ebd1c214ec",
        "colab": {
          "base_uri": "https://localhost:8080/",
          "height": 51
        }
      },
      "source": [
        "!python read.py"
      ],
      "execution_count": 26,
      "outputs": [
        {
          "output_type": "stream",
          "text": [
            "48035 44995\n",
            "image file saved.\n"
          ],
          "name": "stdout"
        }
      ]
    },
    {
      "cell_type": "code",
      "metadata": {
        "id": "yuy5pTyE2IDl",
        "colab_type": "code",
        "colab": {
          "base_uri": "https://localhost:8080/",
          "height": 289
        },
        "outputId": "257cc78f-97f4-489c-9e35-97eca288627a"
      },
      "source": [
        "!ls -l"
      ],
      "execution_count": 27,
      "outputs": [
        {
          "output_type": "stream",
          "text": [
            "total 538520\n",
            "drwx------ 3 root root      4096 Oct 22 04:28 drive\n",
            "drwx------ 2 root root      4096 Sep 29 08:59 kfbreader-linux\n",
            "-rw-r--r-- 1 root root  32663665 Oct 22 04:11 kfbreader-linux.zip\n",
            "-rwxr-xr-x 1 root root      3934 Oct 22 04:15 kfbReader.py\n",
            "-rwxr-xr-x 1 root root    886512 Oct 22 04:15 _kfbReader.so\n",
            "-rw-r--r-- 1 root root    750320 Oct 22 04:15 libhzzt.so\n",
            "lrwxrwxrwx 1 root root        10 Oct 22 04:16 libhzzt.so.1 -> libhzzt.so\n",
            "lrwxrwxrwx 1 root root        24 Oct 22 04:16 libopencv_world.so.3.4 -> libopencv_world.so.3.4.5\n",
            "-rw------- 1 root root  82671616 Oct 22 04:15 libopencv_world.so.3.4.5\n",
            "drwxrwxr-x 3 root root      4096 Sep 29 09:12 __MACOSX\n",
            "drwxr-xr-x 2 root root      4096 Oct 22 04:17 __pycache__\n",
            "-rw-r--r-- 1 root root       398 Oct 22 05:01 read.py\n",
            "drwxr-xr-x 1 root root      4096 Aug 27 16:17 sample_data\n",
            "-rw-r--r-- 1 root root   1531926 Oct 22 05:01 T2019_114_20480-20480-1024-1024.png\n",
            "-rw------- 1 root root 432888720 Oct 22 04:28 T2019_114.kfb\n"
          ],
          "name": "stdout"
        }
      ]
    },
    {
      "cell_type": "code",
      "metadata": {
        "id": "69IXwAzkappk",
        "colab_type": "code",
        "colab": {
          "base_uri": "https://localhost:8080/",
          "height": 34
        },
        "outputId": "389d765f-0060-4298-d47c-8f4541c3ffeb"
      },
      "source": [
        "!python save_roi.py"
      ],
      "execution_count": 29,
      "outputs": [
        {
          "output_type": "stream",
          "text": [
            "save roi img:roi0.jpg\n"
          ],
          "name": "stdout"
        }
      ]
    }
  ]
}