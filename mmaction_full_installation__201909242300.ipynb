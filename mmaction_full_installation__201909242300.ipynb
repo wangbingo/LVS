{
  "nbformat": 4,
  "nbformat_minor": 0,
  "metadata": {
    "colab": {
      "name": "mmaction_full_installation__201909242300.ipynb",
      "provenance": [],
      "collapsed_sections": [],
      "toc_visible": true,
      "include_colab_link": true
    },
    "kernelspec": {
      "name": "python3",
      "display_name": "Python 3"
    }
  },
  "cells": [
    {
      "cell_type": "markdown",
      "metadata": {
        "id": "view-in-github",
        "colab_type": "text"
      },
      "source": [
        "<a href=\"https://colab.research.google.com/github/wangbingo/LVS/blob/master/mmaction_full_installation__201909242300.ipynb\" target=\"_parent\"><img src=\"https://colab.research.google.com/assets/colab-badge.svg\" alt=\"Open In Colab\"/></a>"
      ]
    },
    {
      "cell_type": "markdown",
      "metadata": {
        "id": "xfHhC3sG_8dv",
        "colab_type": "text"
      },
      "source": [
        "# Installation(skip Install dense_flow (Optional))"
      ]
    },
    {
      "cell_type": "markdown",
      "metadata": {
        "id": "dCJrRgfk26Hy",
        "colab_type": "text"
      },
      "source": [
        "installation"
      ]
    },
    {
      "cell_type": "code",
      "metadata": {
        "id": "VkM6Qthpn_5V",
        "colab_type": "code",
        "colab": {}
      },
      "source": [
        "!rm -rf  mmaction/"
      ],
      "execution_count": 0,
      "outputs": []
    },
    {
      "cell_type": "code",
      "metadata": {
        "id": "1FWwTBc81d_E",
        "colab_type": "code",
        "colab": {}
      },
      "source": [
        "!git clone --recursive https://github.com/wangbingo/mmaction.git"
      ],
      "execution_count": 0,
      "outputs": []
    },
    {
      "cell_type": "markdown",
      "metadata": {
        "id": "u9UjuIHm3RMr",
        "colab_type": "text"
      },
      "source": [
        "Install Pre-requisites.\n",
        "Install Decord (Optional)This is required when you want to use videos as the input format for training and is more efficient than OpenCV"
      ]
    },
    {
      "cell_type": "code",
      "metadata": {
        "id": "TgkW2pXa3hpg",
        "colab_type": "code",
        "colab": {}
      },
      "source": [
        "!sudo apt-get install -y software-properties-common"
      ],
      "execution_count": 0,
      "outputs": []
    },
    {
      "cell_type": "code",
      "metadata": {
        "id": "340qRbhI36P7",
        "colab_type": "code",
        "colab": {}
      },
      "source": [
        "!sudo add-apt-repository ppa:jonathonf/ffmpeg-4"
      ],
      "execution_count": 0,
      "outputs": []
    },
    {
      "cell_type": "code",
      "metadata": {
        "id": "7TRfEtLl4Kda",
        "colab_type": "code",
        "colab": {
          "base_uri": "https://localhost:8080/",
          "height": 238
        },
        "outputId": "d1b4d07a-dc4f-4547-f1d4-18e21f4eeaae"
      },
      "source": [
        "!sudo apt-get update"
      ],
      "execution_count": 7,
      "outputs": [
        {
          "output_type": "stream",
          "text": [
            "\r0% [Working]\r            \rHit:1 https://cloud.r-project.org/bin/linux/ubuntu bionic-cran35/ InRelease\n",
            "\r0% [Connecting to archive.ubuntu.com (91.189.88.162)] [Connecting to security.u\r0% [1 InRelease gpgv 3,626 B] [Connecting to archive.ubuntu.com (91.189.88.162)\r                                                                               \rIgn:2 https://developer.download.nvidia.com/compute/cuda/repos/ubuntu1804/x86_64  InRelease\n",
            "\r0% [1 InRelease gpgv 3,626 B] [Connecting to archive.ubuntu.com (91.189.88.162)\r                                                                               \rIgn:3 https://developer.download.nvidia.com/compute/machine-learning/repos/ubuntu1804/x86_64  InRelease\n",
            "\r0% [1 InRelease gpgv 3,626 B] [Connecting to archive.ubuntu.com (91.189.88.162)\r                                                                               \rHit:4 https://developer.download.nvidia.com/compute/cuda/repos/ubuntu1804/x86_64  Release\n",
            "\r0% [1 InRelease gpgv 3,626 B] [Connecting to archive.ubuntu.com (91.189.88.162)\r0% [Connecting to archive.ubuntu.com (91.189.88.162)] [Waiting for headers] [Wa\r0% [Release.gpg gpgv 564 B] [Connecting to archive.ubuntu.com (91.189.88.162)] \r                                                                               \rHit:5 https://developer.download.nvidia.com/compute/machine-learning/repos/ubuntu1804/x86_64  Release\n",
            "\r0% [Release.gpg gpgv 564 B] [Connecting to archive.ubuntu.com (91.189.88.162)] \r0% [Connecting to archive.ubuntu.com (91.189.88.162)] [Waiting for headers] [Wa\r0% [Release.gpg gpgv 564 B] [Connecting to archive.ubuntu.com (91.189.88.162)] \r                                                                               \rHit:7 http://security.ubuntu.com/ubuntu bionic-security InRelease\n",
            "\r0% [Release.gpg gpgv 564 B] [Connecting to archive.ubuntu.com (91.189.88.31)] [\r                                                                               \rHit:8 http://ppa.launchpad.net/graphics-drivers/ppa/ubuntu bionic InRelease\n",
            "\r0% [Release.gpg gpgv 564 B] [Connecting to archive.ubuntu.com (91.189.88.31)] [\r0% [Connecting to archive.ubuntu.com (91.189.88.31)] [Connecting to ppa.launchp\r0% [7 InRelease gpgv 88.7 kB] [Connecting to archive.ubuntu.com (91.189.88.31)]\r                                                                               \r0% [Waiting for headers] [Connecting to ppa.launchpad.net (91.189.95.83)]\r0% [8 InRelease gpgv 21.3 kB] [Waiting for headers] [Connecting to ppa.launchpa\r                                                                               \r0% [Waiting for headers] [Waiting for headers]\r                                              \rHit:10 http://archive.ubuntu.com/ubuntu bionic InRelease\n",
            "Hit:11 http://ppa.launchpad.net/jonathonf/ffmpeg-4/ubuntu bionic InRelease\n",
            "Hit:12 http://archive.ubuntu.com/ubuntu bionic-updates InRelease\n",
            "Hit:13 http://ppa.launchpad.net/marutter/c2d4u3.5/ubuntu bionic InRelease\n",
            "Hit:14 http://archive.ubuntu.com/ubuntu bionic-backports InRelease\n",
            "Reading package lists... Done\n"
          ],
          "name": "stdout"
        }
      ]
    },
    {
      "cell_type": "code",
      "metadata": {
        "id": "QJL8lH764Z7R",
        "colab_type": "code",
        "colab": {
          "base_uri": "https://localhost:8080/",
          "height": 1000
        },
        "outputId": "77f1fc19-87ef-465c-ad81-f9ba6a964183"
      },
      "source": [
        "!sudo apt-get install -y build-essential python3-dev python3-setuptools make cmake libavcodec-dev libavfilter-dev libavformat-dev libavutil-dev"
      ],
      "execution_count": 8,
      "outputs": [
        {
          "output_type": "stream",
          "text": [
            "Reading package lists... Done\n",
            "Building dependency tree       \n",
            "Reading state information... Done\n",
            "build-essential is already the newest version (12.4ubuntu1).\n",
            "make is already the newest version (4.1-9.1ubuntu1).\n",
            "make set to manually installed.\n",
            "cmake is already the newest version (3.10.2-1ubuntu2.18.04.1).\n",
            "python3-dev is already the newest version (3.6.7-1~18.04).\n",
            "The following additional packages will be installed:\n",
            "  libaom0 libavcodec58 libavfilter7 libavformat58 libavresample-dev\n",
            "  libavresample4 libavutil56 libcodec2-0.7 libfdk-aac1 liblilv-0-0 libmysofa0\n",
            "  libpostproc-dev libpostproc55 libserd-0-0 libsord-0-0 libsratom-0-0\n",
            "  libswresample-dev libswresample3 libswscale-dev libswscale5 libvidstab1.1\n",
            "  libx264-155 libx265-176 python3-pkg-resources\n",
            "Suggested packages:\n",
            "  serdi sordi python-setuptools-doc\n",
            "The following NEW packages will be installed:\n",
            "  libaom0 libavcodec58 libavfilter-dev libavfilter7 libavformat58\n",
            "  libavresample4 libavutil56 libcodec2-0.7 libfdk-aac1 liblilv-0-0\n",
            "  libpostproc-dev libpostproc55 libserd-0-0 libsord-0-0 libsratom-0-0\n",
            "  libswresample3 libswscale5 libvidstab1.1 libx264-155 libx265-176\n",
            "  python3-pkg-resources python3-setuptools\n",
            "The following packages will be upgraded:\n",
            "  libavcodec-dev libavformat-dev libavresample-dev libavutil-dev libmysofa0\n",
            "  libswresample-dev libswscale-dev\n",
            "7 upgraded, 22 newly installed, 0 to remove and 125 not upgraded.\n",
            "Need to get 20.1 MB of archives.\n",
            "After this operation, 56.7 MB of additional disk space will be used.\n",
            "Get:1 http://ppa.launchpad.net/jonathonf/ffmpeg-4/ubuntu bionic/main amd64 libaom0 amd64 1.0.0.errata1-2~18.04.york0 [1,165 kB]\n",
            "Get:2 http://archive.ubuntu.com/ubuntu bionic/universe amd64 libcodec2-0.7 amd64 0.7-1 [202 kB]\n",
            "Get:3 http://archive.ubuntu.com/ubuntu bionic/universe amd64 libserd-0-0 amd64 0.28.0~dfsg0-1 [37.0 kB]\n",
            "Get:4 http://ppa.launchpad.net/jonathonf/ffmpeg-4/ubuntu bionic/main amd64 libavutil56 amd64 7:4.2.1-0york0~18.04 [237 kB]\n",
            "Get:5 http://archive.ubuntu.com/ubuntu bionic/universe amd64 libsord-0-0 amd64 0.16.0~dfsg0-1 [20.2 kB]\n",
            "Get:6 http://archive.ubuntu.com/ubuntu bionic/universe amd64 libsratom-0-0 amd64 0.6.0~dfsg0-1 [15.8 kB]\n",
            "Get:7 http://archive.ubuntu.com/ubuntu bionic/universe amd64 liblilv-0-0 amd64 0.24.2~dfsg0-1 [38.0 kB]\n",
            "Get:8 http://ppa.launchpad.net/jonathonf/ffmpeg-4/ubuntu bionic/main amd64 libfdk-aac1 amd64 0.1.6-1~18.04.york1 [366 kB]\n",
            "Get:9 http://archive.ubuntu.com/ubuntu bionic/main amd64 python3-pkg-resources all 39.0.1-2 [98.8 kB]\n",
            "Get:10 http://ppa.launchpad.net/jonathonf/ffmpeg-4/ubuntu bionic/main amd64 libswresample3 amd64 7:4.2.1-0york0~18.04 [68.4 kB]\n",
            "Get:11 http://archive.ubuntu.com/ubuntu bionic/main amd64 python3-setuptools all 39.0.1-2 [248 kB]\n",
            "Get:12 http://ppa.launchpad.net/jonathonf/ffmpeg-4/ubuntu bionic/main amd64 libx264-155 amd64 2:0.155.2917+git0a84d98-2~18.04.york0 [529 kB]\n",
            "Get:13 http://ppa.launchpad.net/jonathonf/ffmpeg-4/ubuntu bionic/main amd64 libx265-176 amd64 3.1.2-0york0~18.04.1 [1,055 kB]\n",
            "Get:14 http://ppa.launchpad.net/jonathonf/ffmpeg-4/ubuntu bionic/main amd64 libavcodec58 amd64 7:4.2.1-0york0~18.04 [4,893 kB]\n",
            "Get:15 http://ppa.launchpad.net/jonathonf/ffmpeg-4/ubuntu bionic/main amd64 libavformat58 amd64 7:4.2.1-0york0~18.04 [1,014 kB]\n",
            "Get:16 http://ppa.launchpad.net/jonathonf/ffmpeg-4/ubuntu bionic/main amd64 libswscale5 amd64 7:4.2.1-0york0~18.04 [167 kB]\n",
            "Get:17 http://ppa.launchpad.net/jonathonf/ffmpeg-4/ubuntu bionic/main amd64 libswscale-dev amd64 7:4.2.1-0york0~18.04 [186 kB]\n",
            "Get:18 http://ppa.launchpad.net/jonathonf/ffmpeg-4/ubuntu bionic/main amd64 libavformat-dev amd64 7:4.2.1-0york0~18.04 [1,222 kB]\n",
            "Get:19 http://ppa.launchpad.net/jonathonf/ffmpeg-4/ubuntu bionic/main amd64 libavcodec-dev amd64 7:4.2.1-0york0~18.04 [5,427 kB]\n",
            "Get:20 http://ppa.launchpad.net/jonathonf/ffmpeg-4/ubuntu bionic/main amd64 libswresample-dev amd64 7:4.2.1-0york0~18.04 [83.3 kB]\n",
            "Get:21 http://ppa.launchpad.net/jonathonf/ffmpeg-4/ubuntu bionic/main amd64 libavresample4 amd64 7:4.2.1-0york0~18.04 [65.8 kB]\n",
            "Get:22 http://ppa.launchpad.net/jonathonf/ffmpeg-4/ubuntu bionic/main amd64 libavresample-dev amd64 7:4.2.1-0york0~18.04 [75.5 kB]\n",
            "Get:23 http://ppa.launchpad.net/jonathonf/ffmpeg-4/ubuntu bionic/main amd64 libavutil-dev amd64 7:4.2.1-0york0~18.04 [366 kB]\n",
            "Get:24 http://ppa.launchpad.net/jonathonf/ffmpeg-4/ubuntu bionic/main amd64 libmysofa0 amd64 0.8~dfsg0-1~18.04.york0 [39.3 kB]\n",
            "Get:25 http://ppa.launchpad.net/jonathonf/ffmpeg-4/ubuntu bionic/main amd64 libpostproc55 amd64 7:4.2.1-0york0~18.04 [63.5 kB]\n",
            "Get:26 http://ppa.launchpad.net/jonathonf/ffmpeg-4/ubuntu bionic/main amd64 libvidstab1.1 amd64 1.1.0-2~18.04.york1 [36.6 kB]\n",
            "Get:27 http://ppa.launchpad.net/jonathonf/ffmpeg-4/ubuntu bionic/main amd64 libavfilter7 amd64 7:4.2.1-0york0~18.04 [1,068 kB]\n",
            "Get:28 http://ppa.launchpad.net/jonathonf/ffmpeg-4/ubuntu bionic/main amd64 libpostproc-dev amd64 7:4.2.1-0york0~18.04 [64.0 kB]\n",
            "Get:29 http://ppa.launchpad.net/jonathonf/ffmpeg-4/ubuntu bionic/main amd64 libavfilter-dev amd64 7:4.2.1-0york0~18.04 [1,241 kB]\n",
            "Fetched 20.1 MB in 21s (970 kB/s)\n",
            "debconf: unable to initialize frontend: Dialog\n",
            "debconf: (No usable dialog-like program is installed, so the dialog based frontend cannot be used. at /usr/share/perl5/Debconf/FrontEnd/Dialog.pm line 76, <> line 29.)\n",
            "debconf: falling back to frontend: Readline\n",
            "debconf: unable to initialize frontend: Readline\n",
            "debconf: (This frontend requires a controlling tty.)\n",
            "debconf: falling back to frontend: Teletype\n",
            "dpkg-preconfigure: unable to re-open stdin: \n",
            "Selecting previously unselected package libaom0:amd64.\n",
            "(Reading database ... 131183 files and directories currently installed.)\n",
            "Preparing to unpack .../00-libaom0_1.0.0.errata1-2~18.04.york0_amd64.deb ...\n",
            "Unpacking libaom0:amd64 (1.0.0.errata1-2~18.04.york0) ...\n",
            "Selecting previously unselected package libavutil56:amd64.\n",
            "Preparing to unpack .../01-libavutil56_7%3a4.2.1-0york0~18.04_amd64.deb ...\n",
            "Unpacking libavutil56:amd64 (7:4.2.1-0york0~18.04) ...\n",
            "Selecting previously unselected package libcodec2-0.7:amd64.\n",
            "Preparing to unpack .../02-libcodec2-0.7_0.7-1_amd64.deb ...\n",
            "Unpacking libcodec2-0.7:amd64 (0.7-1) ...\n",
            "Selecting previously unselected package libfdk-aac1:amd64.\n",
            "Preparing to unpack .../03-libfdk-aac1_0.1.6-1~18.04.york1_amd64.deb ...\n",
            "Unpacking libfdk-aac1:amd64 (0.1.6-1~18.04.york1) ...\n",
            "Selecting previously unselected package libswresample3:amd64.\n",
            "Preparing to unpack .../04-libswresample3_7%3a4.2.1-0york0~18.04_amd64.deb ...\n",
            "Unpacking libswresample3:amd64 (7:4.2.1-0york0~18.04) ...\n",
            "Selecting previously unselected package libx264-155:amd64.\n",
            "Preparing to unpack .../05-libx264-155_2%3a0.155.2917+git0a84d98-2~18.04.york0_amd64.deb ...\n",
            "Unpacking libx264-155:amd64 (2:0.155.2917+git0a84d98-2~18.04.york0) ...\n",
            "Selecting previously unselected package libx265-176:amd64.\n",
            "Preparing to unpack .../06-libx265-176_3.1.2-0york0~18.04.1_amd64.deb ...\n",
            "Unpacking libx265-176:amd64 (3.1.2-0york0~18.04.1) ...\n",
            "Selecting previously unselected package libavcodec58:amd64.\n",
            "Preparing to unpack .../07-libavcodec58_7%3a4.2.1-0york0~18.04_amd64.deb ...\n",
            "Unpacking libavcodec58:amd64 (7:4.2.1-0york0~18.04) ...\n",
            "Selecting previously unselected package libavformat58:amd64.\n",
            "Preparing to unpack .../08-libavformat58_7%3a4.2.1-0york0~18.04_amd64.deb ...\n",
            "Unpacking libavformat58:amd64 (7:4.2.1-0york0~18.04) ...\n",
            "Selecting previously unselected package libswscale5:amd64.\n",
            "Preparing to unpack .../09-libswscale5_7%3a4.2.1-0york0~18.04_amd64.deb ...\n",
            "Unpacking libswscale5:amd64 (7:4.2.1-0york0~18.04) ...\n",
            "Preparing to unpack .../10-libswscale-dev_7%3a4.2.1-0york0~18.04_amd64.deb ...\n",
            "Unpacking libswscale-dev:amd64 (7:4.2.1-0york0~18.04) over (7:3.4.6-0ubuntu0.18.04.1) ...\n",
            "Preparing to unpack .../11-libavformat-dev_7%3a4.2.1-0york0~18.04_amd64.deb ...\n",
            "Unpacking libavformat-dev:amd64 (7:4.2.1-0york0~18.04) over (7:3.4.6-0ubuntu0.18.04.1) ...\n",
            "Preparing to unpack .../12-libavcodec-dev_7%3a4.2.1-0york0~18.04_amd64.deb ...\n",
            "Unpacking libavcodec-dev:amd64 (7:4.2.1-0york0~18.04) over (7:3.4.6-0ubuntu0.18.04.1) ...\n",
            "Preparing to unpack .../13-libswresample-dev_7%3a4.2.1-0york0~18.04_amd64.deb ...\n",
            "Unpacking libswresample-dev:amd64 (7:4.2.1-0york0~18.04) over (7:3.4.6-0ubuntu0.18.04.1) ...\n",
            "Selecting previously unselected package libavresample4:amd64.\n",
            "Preparing to unpack .../14-libavresample4_7%3a4.2.1-0york0~18.04_amd64.deb ...\n",
            "Unpacking libavresample4:amd64 (7:4.2.1-0york0~18.04) ...\n",
            "Preparing to unpack .../15-libavresample-dev_7%3a4.2.1-0york0~18.04_amd64.deb ...\n",
            "Unpacking libavresample-dev:amd64 (7:4.2.1-0york0~18.04) over (7:3.4.6-0ubuntu0.18.04.1) ...\n",
            "Preparing to unpack .../16-libavutil-dev_7%3a4.2.1-0york0~18.04_amd64.deb ...\n",
            "Unpacking libavutil-dev:amd64 (7:4.2.1-0york0~18.04) over (7:3.4.6-0ubuntu0.18.04.1) ...\n",
            "Selecting previously unselected package libserd-0-0:amd64.\n",
            "Preparing to unpack .../17-libserd-0-0_0.28.0~dfsg0-1_amd64.deb ...\n",
            "Unpacking libserd-0-0:amd64 (0.28.0~dfsg0-1) ...\n",
            "Selecting previously unselected package libsord-0-0:amd64.\n",
            "Preparing to unpack .../18-libsord-0-0_0.16.0~dfsg0-1_amd64.deb ...\n",
            "Unpacking libsord-0-0:amd64 (0.16.0~dfsg0-1) ...\n",
            "Selecting previously unselected package libsratom-0-0:amd64.\n",
            "Preparing to unpack .../19-libsratom-0-0_0.6.0~dfsg0-1_amd64.deb ...\n",
            "Unpacking libsratom-0-0:amd64 (0.6.0~dfsg0-1) ...\n",
            "Selecting previously unselected package liblilv-0-0.\n",
            "Preparing to unpack .../20-liblilv-0-0_0.24.2~dfsg0-1_amd64.deb ...\n",
            "Unpacking liblilv-0-0 (0.24.2~dfsg0-1) ...\n",
            "Preparing to unpack .../21-libmysofa0_0.8~dfsg0-1~18.04.york0_amd64.deb ...\n",
            "Unpacking libmysofa0:amd64 (0.8~dfsg0-1~18.04.york0) over (0.6~dfsg0-2ubuntu0.18.04.1) ...\n",
            "Selecting previously unselected package libpostproc55:amd64.\n",
            "Preparing to unpack .../22-libpostproc55_7%3a4.2.1-0york0~18.04_amd64.deb ...\n",
            "Unpacking libpostproc55:amd64 (7:4.2.1-0york0~18.04) ...\n",
            "Selecting previously unselected package libvidstab1.1:amd64.\n",
            "Preparing to unpack .../23-libvidstab1.1_1.1.0-2~18.04.york1_amd64.deb ...\n",
            "Unpacking libvidstab1.1:amd64 (1.1.0-2~18.04.york1) ...\n",
            "Selecting previously unselected package libavfilter7:amd64.\n",
            "Preparing to unpack .../24-libavfilter7_7%3a4.2.1-0york0~18.04_amd64.deb ...\n",
            "Unpacking libavfilter7:amd64 (7:4.2.1-0york0~18.04) ...\n",
            "Selecting previously unselected package libpostproc-dev:amd64.\n",
            "Preparing to unpack .../25-libpostproc-dev_7%3a4.2.1-0york0~18.04_amd64.deb ...\n",
            "Unpacking libpostproc-dev:amd64 (7:4.2.1-0york0~18.04) ...\n",
            "Selecting previously unselected package libavfilter-dev:amd64.\n",
            "Preparing to unpack .../26-libavfilter-dev_7%3a4.2.1-0york0~18.04_amd64.deb ...\n",
            "Unpacking libavfilter-dev:amd64 (7:4.2.1-0york0~18.04) ...\n",
            "Selecting previously unselected package python3-pkg-resources.\n",
            "Preparing to unpack .../27-python3-pkg-resources_39.0.1-2_all.deb ...\n",
            "Unpacking python3-pkg-resources (39.0.1-2) ...\n",
            "Selecting previously unselected package python3-setuptools.\n",
            "Preparing to unpack .../28-python3-setuptools_39.0.1-2_all.deb ...\n",
            "Unpacking python3-setuptools (39.0.1-2) ...\n",
            "Setting up libx264-155:amd64 (2:0.155.2917+git0a84d98-2~18.04.york0) ...\n",
            "Setting up libx265-176:amd64 (3.1.2-0york0~18.04.1) ...\n",
            "Setting up libavutil56:amd64 (7:4.2.1-0york0~18.04) ...\n",
            "Setting up libpostproc55:amd64 (7:4.2.1-0york0~18.04) ...\n",
            "Setting up python3-pkg-resources (39.0.1-2) ...\n",
            "Setting up libavresample4:amd64 (7:4.2.1-0york0~18.04) ...\n",
            "Processing triggers for libc-bin (2.27-3ubuntu1) ...\n",
            "Setting up libvidstab1.1:amd64 (1.1.0-2~18.04.york1) ...\n",
            "Setting up libcodec2-0.7:amd64 (0.7-1) ...\n",
            "Setting up libaom0:amd64 (1.0.0.errata1-2~18.04.york0) ...\n",
            "Setting up libfdk-aac1:amd64 (0.1.6-1~18.04.york1) ...\n",
            "Setting up python3-setuptools (39.0.1-2) ...\n",
            "Setting up libserd-0-0:amd64 (0.28.0~dfsg0-1) ...\n",
            "Setting up libmysofa0:amd64 (0.8~dfsg0-1~18.04.york0) ...\n",
            "Setting up libswscale5:amd64 (7:4.2.1-0york0~18.04) ...\n",
            "Setting up libavutil-dev:amd64 (7:4.2.1-0york0~18.04) ...\n",
            "Setting up libswresample3:amd64 (7:4.2.1-0york0~18.04) ...\n",
            "Setting up libavresample-dev:amd64 (7:4.2.1-0york0~18.04) ...\n",
            "Setting up libpostproc-dev:amd64 (7:4.2.1-0york0~18.04) ...\n",
            "Setting up libsord-0-0:amd64 (0.16.0~dfsg0-1) ...\n",
            "Setting up libswscale-dev:amd64 (7:4.2.1-0york0~18.04) ...\n",
            "Setting up libswresample-dev:amd64 (7:4.2.1-0york0~18.04) ...\n",
            "Setting up libsratom-0-0:amd64 (0.6.0~dfsg0-1) ...\n",
            "Setting up libavcodec58:amd64 (7:4.2.1-0york0~18.04) ...\n",
            "Setting up liblilv-0-0 (0.24.2~dfsg0-1) ...\n",
            "Setting up libavformat58:amd64 (7:4.2.1-0york0~18.04) ...\n",
            "Setting up libavcodec-dev:amd64 (7:4.2.1-0york0~18.04) ...\n",
            "Setting up libavformat-dev:amd64 (7:4.2.1-0york0~18.04) ...\n",
            "Setting up libavfilter7:amd64 (7:4.2.1-0york0~18.04) ...\n",
            "Setting up libavfilter-dev:amd64 (7:4.2.1-0york0~18.04) ...\n",
            "Processing triggers for libc-bin (2.27-3ubuntu1) ...\n"
          ],
          "name": "stdout"
        }
      ]
    },
    {
      "cell_type": "markdown",
      "metadata": {
        "id": "gbGjbDJQxpPq",
        "colab_type": "text"
      },
      "source": [
        "note: make sure you have cmake 3.8 or later, you can install from cmake official website if it's too old"
      ]
    },
    {
      "cell_type": "code",
      "metadata": {
        "id": "abibgD3_xiF4",
        "colab_type": "code",
        "colab": {
          "base_uri": "https://localhost:8080/",
          "height": 34
        },
        "outputId": "9534da4a-edd4-4198-f84c-2b3745a9fef6"
      },
      "source": [
        "!pip list | grep cmake"
      ],
      "execution_count": 9,
      "outputs": [
        {
          "output_type": "stream",
          "text": [
            "cmake                    3.12.0               \n"
          ],
          "name": "stdout"
        }
      ]
    },
    {
      "cell_type": "code",
      "metadata": {
        "id": "4Pw12e5B6bPB",
        "colab_type": "code",
        "colab": {
          "base_uri": "https://localhost:8080/",
          "height": 629
        },
        "outputId": "11c77aaf-b43d-4a97-c5f3-4455f62b8e12"
      },
      "source": [
        "!sudo apt-get install ffmpeg"
      ],
      "execution_count": 10,
      "outputs": [
        {
          "output_type": "stream",
          "text": [
            "Reading package lists... Done\n",
            "Building dependency tree       \n",
            "Reading state information... Done\n",
            "The following additional packages will be installed:\n",
            "  libavdevice58\n",
            "Suggested packages:\n",
            "  ffmpeg-doc\n",
            "The following NEW packages will be installed:\n",
            "  libavdevice58\n",
            "The following packages will be upgraded:\n",
            "  ffmpeg\n",
            "1 upgraded, 1 newly installed, 0 to remove and 124 not upgraded.\n",
            "Need to get 1,551 kB of archives.\n",
            "After this operation, 17.4 kB of additional disk space will be used.\n",
            "Get:1 http://ppa.launchpad.net/jonathonf/ffmpeg-4/ubuntu bionic/main amd64 libavdevice58 amd64 7:4.2.1-0york0~18.04 [88.2 kB]\n",
            "Get:2 http://ppa.launchpad.net/jonathonf/ffmpeg-4/ubuntu bionic/main amd64 ffmpeg amd64 7:4.2.1-0york0~18.04 [1,463 kB]\n",
            "Fetched 1,551 kB in 2s (801 kB/s)\n",
            "debconf: unable to initialize frontend: Dialog\n",
            "debconf: (No usable dialog-like program is installed, so the dialog based frontend cannot be used. at /usr/share/perl5/Debconf/FrontEnd/Dialog.pm line 76, <> line 2.)\n",
            "debconf: falling back to frontend: Readline\n",
            "debconf: unable to initialize frontend: Readline\n",
            "debconf: (This frontend requires a controlling tty.)\n",
            "debconf: falling back to frontend: Teletype\n",
            "dpkg-preconfigure: unable to re-open stdin: \n",
            "Selecting previously unselected package libavdevice58:amd64.\n",
            "(Reading database ... 131415 files and directories currently installed.)\n",
            "Preparing to unpack .../libavdevice58_7%3a4.2.1-0york0~18.04_amd64.deb ...\n",
            "Unpacking libavdevice58:amd64 (7:4.2.1-0york0~18.04) ...\n",
            "Preparing to unpack .../ffmpeg_7%3a4.2.1-0york0~18.04_amd64.deb ...\n",
            "Unpacking ffmpeg (7:4.2.1-0york0~18.04) over (7:3.4.6-0ubuntu0.18.04.1) ...\n",
            "Processing triggers for libc-bin (2.27-3ubuntu1) ...\n",
            "Processing triggers for man-db (2.8.3-2ubuntu0.1) ...\n",
            "Setting up libavdevice58:amd64 (7:4.2.1-0york0~18.04) ...\n",
            "Setting up ffmpeg (7:4.2.1-0york0~18.04) ...\n",
            "Removing obsolete conffile /etc/ffserver.conf ...\n",
            "Processing triggers for libc-bin (2.27-3ubuntu1) ...\n"
          ],
          "name": "stdout"
        }
      ]
    },
    {
      "cell_type": "code",
      "metadata": {
        "id": "KJjArtyO62kX",
        "colab_type": "code",
        "colab": {
          "base_uri": "https://localhost:8080/",
          "height": 1000
        },
        "outputId": "5b8cec5e-44f2-4b73-e46c-7f4220ec17d0"
      },
      "source": [
        "!cd mmaction/third_party/decord && mkdir build && cd build && cmake .. -DUSE_CUDA=0 && make"
      ],
      "execution_count": 11,
      "outputs": [
        {
          "output_type": "stream",
          "text": [
            "-- The C compiler identification is GNU 7.4.0\n",
            "-- The CXX compiler identification is GNU 7.4.0\n",
            "-- Check for working C compiler: /usr/bin/cc\n",
            "-- Check for working C compiler: /usr/bin/cc -- works\n",
            "-- Detecting C compiler ABI info\n",
            "-- Detecting C compiler ABI info - done\n",
            "-- Detecting C compile features\n",
            "-- Detecting C compile features - done\n",
            "-- Check for working CXX compiler: /usr/bin/c++\n",
            "-- Check for working CXX compiler: /usr/bin/c++ -- works\n",
            "-- Detecting CXX compiler ABI info\n",
            "-- Detecting CXX compiler ABI info - done\n",
            "-- Detecting CXX compile features\n",
            "-- Detecting CXX compile features - done\n",
            "-- Found PkgConfig: /usr/bin/pkg-config (found version \"0.29.1\") \n",
            "-- Checking for module 'libavcodec'\n",
            "--   Found libavcodec, version 58.54.100\n",
            "-- Checking for module 'libavformat'\n",
            "--   Found libavformat, version 58.29.100\n",
            "-- Checking for module 'libavutil'\n",
            "--   Found libavutil, version 56.31.100\n",
            "-- Checking for module 'libavfilter'\n",
            "--   Found libavfilter, version 7.57.100\n",
            "-- Found FFMPEG or Libav: /usr/lib/x86_64-linux-gnu/libavformat.so;/usr/lib/x86_64-linux-gnu/libavfilter.so;/usr/lib/x86_64-linux-gnu/libavcodec.so;/usr/lib/x86_64-linux-gnu/libavutil.so, /usr/include/x86_64-linux-gnu\n",
            "-- Performing Test SUPPORT_CXX11\n",
            "-- Performing Test SUPPORT_CXX11 - Success\n",
            "FFMPEG_INCLUDE_DIR = /usr/include/x86_64-linux-gnu \n",
            "FFMPEG_LIBRARIES = /usr/lib/x86_64-linux-gnu/libavformat.so;/usr/lib/x86_64-linux-gnu/libavfilter.so;/usr/lib/x86_64-linux-gnu/libavcodec.so;/usr/lib/x86_64-linux-gnu/libavutil.so \n",
            "-- CUDA disabled, no nvdec capabilities will be enabled...\n",
            "-- Configuring done\n",
            "-- Generating done\n",
            "-- Build files have been written to: /content/mmaction/third_party/decord/build\n",
            "\u001b[35m\u001b[1mScanning dependencies of target decord\u001b[0m\n",
            "[  4%] \u001b[32mBuilding CXX object CMakeFiles/decord.dir/src/runtime/c_runtime_api.cc.o\u001b[0m\n",
            "[  8%] \u001b[32mBuilding CXX object CMakeFiles/decord.dir/src/runtime/cpu_device_api.cc.o\u001b[0m\n",
            "[ 12%] \u001b[32mBuilding CXX object CMakeFiles/decord.dir/src/runtime/dso_module.cc.o\u001b[0m\n",
            "[ 16%] \u001b[32mBuilding CXX object CMakeFiles/decord.dir/src/runtime/file_util.cc.o\u001b[0m\n",
            "[ 20%] \u001b[32mBuilding CXX object CMakeFiles/decord.dir/src/runtime/module.cc.o\u001b[0m\n",
            "[ 25%] \u001b[32mBuilding CXX object CMakeFiles/decord.dir/src/runtime/module_util.cc.o\u001b[0m\n",
            "[ 29%] \u001b[32mBuilding CXX object CMakeFiles/decord.dir/src/runtime/ndarray.cc.o\u001b[0m\n",
            "[ 33%] \u001b[32mBuilding CXX object CMakeFiles/decord.dir/src/runtime/registry.cc.o\u001b[0m\n",
            "[ 37%] \u001b[32mBuilding CXX object CMakeFiles/decord.dir/src/runtime/str_util.cc.o\u001b[0m\n",
            "[ 41%] \u001b[32mBuilding CXX object CMakeFiles/decord.dir/src/runtime/system_lib_module.cc.o\u001b[0m\n",
            "[ 45%] \u001b[32mBuilding CXX object CMakeFiles/decord.dir/src/runtime/thread_pool.cc.o\u001b[0m\n",
            "[ 50%] \u001b[32mBuilding CXX object CMakeFiles/decord.dir/src/runtime/threading_backend.cc.o\u001b[0m\n",
            "[ 54%] \u001b[32mBuilding CXX object CMakeFiles/decord.dir/src/runtime/workspace_pool.cc.o\u001b[0m\n",
            "[ 58%] \u001b[32mBuilding CXX object CMakeFiles/decord.dir/src/sampler/random_file_order_sampler.cc.o\u001b[0m\n",
            "[ 62%] \u001b[32mBuilding CXX object CMakeFiles/decord.dir/src/sampler/random_sampler.cc.o\u001b[0m\n",
            "[ 66%] \u001b[32mBuilding CXX object CMakeFiles/decord.dir/src/sampler/sequential_sampler.cc.o\u001b[0m\n",
            "[ 70%] \u001b[32mBuilding CXX object CMakeFiles/decord.dir/src/sampler/smart_random_sampler.cc.o\u001b[0m\n",
            "[ 75%] \u001b[32mBuilding CXX object CMakeFiles/decord.dir/src/video/storage_pool.cc.o\u001b[0m\n",
            "[ 79%] \u001b[32mBuilding CXX object CMakeFiles/decord.dir/src/video/video_interface.cc.o\u001b[0m\n",
            "[ 83%] \u001b[32mBuilding CXX object CMakeFiles/decord.dir/src/video/video_loader.cc.o\u001b[0m\n",
            "[ 87%] \u001b[32mBuilding CXX object CMakeFiles/decord.dir/src/video/video_reader.cc.o\u001b[0m\n",
            "[ 91%] \u001b[32mBuilding CXX object CMakeFiles/decord.dir/src/video/ffmpeg/filter_graph.cc.o\u001b[0m\n",
            "[ 95%] \u001b[32mBuilding CXX object CMakeFiles/decord.dir/src/video/ffmpeg/threaded_decoder.cc.o\u001b[0m\n",
            "[100%] \u001b[32m\u001b[1mLinking CXX shared library libdecord.so\u001b[0m\n",
            "[100%] Built target decord\n"
          ],
          "name": "stdout"
        }
      ]
    },
    {
      "cell_type": "code",
      "metadata": {
        "id": "OqyGuAvY8rqw",
        "colab_type": "code",
        "colab": {
          "base_uri": "https://localhost:8080/",
          "height": 1000
        },
        "outputId": "48a4419d-6532-4d2b-f33a-522369e55c18"
      },
      "source": [
        "!cd mmaction/third_party/decord/python/  &&  python setup.py install --user"
      ],
      "execution_count": 12,
      "outputs": [
        {
          "output_type": "stream",
          "text": [
            "running install\n",
            "running bdist_egg\n",
            "running egg_info\n",
            "creating decord.egg-info\n",
            "writing decord.egg-info/PKG-INFO\n",
            "writing dependency_links to decord.egg-info/dependency_links.txt\n",
            "writing requirements to decord.egg-info/requires.txt\n",
            "writing top-level names to decord.egg-info/top_level.txt\n",
            "writing manifest file 'decord.egg-info/SOURCES.txt'\n",
            "writing manifest file 'decord.egg-info/SOURCES.txt'\n",
            "installing library code to build/bdist.linux-x86_64/egg\n",
            "running install_lib\n",
            "running build_py\n",
            "creating build\n",
            "creating build/lib\n",
            "creating build/lib/decord\n",
            "copying decord/video_loader.py -> build/lib/decord\n",
            "copying decord/ndarray.py -> build/lib/decord\n",
            "copying decord/base.py -> build/lib/decord\n",
            "copying decord/__init__.py -> build/lib/decord\n",
            "copying decord/video_reader.py -> build/lib/decord\n",
            "copying decord/_api_internal.py -> build/lib/decord\n",
            "creating build/lib/decord/data\n",
            "copying decord/data/__init__.py -> build/lib/decord/data\n",
            "creating build/lib/decord/bridge\n",
            "copying decord/bridge/__init__.py -> build/lib/decord/bridge\n",
            "copying decord/bridge/mxnet.py -> build/lib/decord/bridge\n",
            "copying decord/bridge/utils.py -> build/lib/decord/bridge\n",
            "creating build/lib/decord/_ffi\n",
            "copying decord/_ffi/ndarray.py -> build/lib/decord/_ffi\n",
            "copying decord/_ffi/base.py -> build/lib/decord/_ffi\n",
            "copying decord/_ffi/__init__.py -> build/lib/decord/_ffi\n",
            "copying decord/_ffi/runtime_ctypes.py -> build/lib/decord/_ffi\n",
            "copying decord/_ffi/function.py -> build/lib/decord/_ffi\n",
            "copying decord/_ffi/libinfo.py -> build/lib/decord/_ffi\n",
            "creating build/lib/decord/function\n",
            "copying decord/function/base.py -> build/lib/decord/function\n",
            "copying decord/function/__init__.py -> build/lib/decord/function\n",
            "creating build/lib/decord/data/kinetics\n",
            "copying decord/data/kinetics/kinetics_human_action.py -> build/lib/decord/data/kinetics\n",
            "copying decord/data/kinetics/__init__.py -> build/lib/decord/data/kinetics\n",
            "creating build/lib/decord/_ffi/_cy2\n",
            "copying decord/_ffi/_cy2/__init__.py -> build/lib/decord/_ffi/_cy2\n",
            "creating build/lib/decord/_ffi/_ctypes\n",
            "copying decord/_ffi/_ctypes/ndarray.py -> build/lib/decord/_ffi/_ctypes\n",
            "copying decord/_ffi/_ctypes/__init__.py -> build/lib/decord/_ffi/_ctypes\n",
            "copying decord/_ffi/_ctypes/function.py -> build/lib/decord/_ffi/_ctypes\n",
            "copying decord/_ffi/_ctypes/types.py -> build/lib/decord/_ffi/_ctypes\n",
            "creating build/lib/decord/_ffi/_cy3\n",
            "copying decord/_ffi/_cy3/__init__.py -> build/lib/decord/_ffi/_cy3\n",
            "copying decord/_ffi/README.md -> build/lib/decord/_ffi\n",
            "creating build/lib/decord/_ffi/_cython\n",
            "copying decord/_ffi/_cython/.gitignore -> build/lib/decord/_ffi/_cython\n",
            "copying decord/_ffi/_cython/base.pxi -> build/lib/decord/_ffi/_cython\n",
            "copying decord/_ffi/_cython/core.pyx -> build/lib/decord/_ffi/_cython\n",
            "copying decord/_ffi/_cython/function.pxi -> build/lib/decord/_ffi/_cython\n",
            "copying decord/_ffi/_cython/ndarray.pxi -> build/lib/decord/_ffi/_cython\n",
            "copying decord/_ffi/_cython/node.pxi -> build/lib/decord/_ffi/_cython\n",
            "creating build/bdist.linux-x86_64\n",
            "creating build/bdist.linux-x86_64/egg\n",
            "creating build/bdist.linux-x86_64/egg/decord\n",
            "copying build/lib/decord/video_loader.py -> build/bdist.linux-x86_64/egg/decord\n",
            "creating build/bdist.linux-x86_64/egg/decord/data\n",
            "creating build/bdist.linux-x86_64/egg/decord/data/kinetics\n",
            "copying build/lib/decord/data/kinetics/kinetics_human_action.py -> build/bdist.linux-x86_64/egg/decord/data/kinetics\n",
            "copying build/lib/decord/data/kinetics/__init__.py -> build/bdist.linux-x86_64/egg/decord/data/kinetics\n",
            "copying build/lib/decord/data/__init__.py -> build/bdist.linux-x86_64/egg/decord/data\n",
            "copying build/lib/decord/ndarray.py -> build/bdist.linux-x86_64/egg/decord\n",
            "creating build/bdist.linux-x86_64/egg/decord/bridge\n",
            "copying build/lib/decord/bridge/__init__.py -> build/bdist.linux-x86_64/egg/decord/bridge\n",
            "copying build/lib/decord/bridge/mxnet.py -> build/bdist.linux-x86_64/egg/decord/bridge\n",
            "copying build/lib/decord/bridge/utils.py -> build/bdist.linux-x86_64/egg/decord/bridge\n",
            "copying build/lib/decord/base.py -> build/bdist.linux-x86_64/egg/decord\n",
            "creating build/bdist.linux-x86_64/egg/decord/_ffi\n",
            "creating build/bdist.linux-x86_64/egg/decord/_ffi/_cy2\n",
            "copying build/lib/decord/_ffi/_cy2/__init__.py -> build/bdist.linux-x86_64/egg/decord/_ffi/_cy2\n",
            "copying build/lib/decord/_ffi/ndarray.py -> build/bdist.linux-x86_64/egg/decord/_ffi\n",
            "creating build/bdist.linux-x86_64/egg/decord/_ffi/_ctypes\n",
            "copying build/lib/decord/_ffi/_ctypes/ndarray.py -> build/bdist.linux-x86_64/egg/decord/_ffi/_ctypes\n",
            "copying build/lib/decord/_ffi/_ctypes/__init__.py -> build/bdist.linux-x86_64/egg/decord/_ffi/_ctypes\n",
            "copying build/lib/decord/_ffi/_ctypes/function.py -> build/bdist.linux-x86_64/egg/decord/_ffi/_ctypes\n",
            "copying build/lib/decord/_ffi/_ctypes/types.py -> build/bdist.linux-x86_64/egg/decord/_ffi/_ctypes\n",
            "creating build/bdist.linux-x86_64/egg/decord/_ffi/_cy3\n",
            "copying build/lib/decord/_ffi/_cy3/__init__.py -> build/bdist.linux-x86_64/egg/decord/_ffi/_cy3\n",
            "copying build/lib/decord/_ffi/base.py -> build/bdist.linux-x86_64/egg/decord/_ffi\n",
            "copying build/lib/decord/_ffi/__init__.py -> build/bdist.linux-x86_64/egg/decord/_ffi\n",
            "copying build/lib/decord/_ffi/runtime_ctypes.py -> build/bdist.linux-x86_64/egg/decord/_ffi\n",
            "creating build/bdist.linux-x86_64/egg/decord/_ffi/_cython\n",
            "copying build/lib/decord/_ffi/_cython/base.pxi -> build/bdist.linux-x86_64/egg/decord/_ffi/_cython\n",
            "copying build/lib/decord/_ffi/_cython/ndarray.pxi -> build/bdist.linux-x86_64/egg/decord/_ffi/_cython\n",
            "copying build/lib/decord/_ffi/_cython/node.pxi -> build/bdist.linux-x86_64/egg/decord/_ffi/_cython\n",
            "copying build/lib/decord/_ffi/_cython/.gitignore -> build/bdist.linux-x86_64/egg/decord/_ffi/_cython\n",
            "copying build/lib/decord/_ffi/_cython/core.pyx -> build/bdist.linux-x86_64/egg/decord/_ffi/_cython\n",
            "copying build/lib/decord/_ffi/_cython/function.pxi -> build/bdist.linux-x86_64/egg/decord/_ffi/_cython\n",
            "copying build/lib/decord/_ffi/README.md -> build/bdist.linux-x86_64/egg/decord/_ffi\n",
            "copying build/lib/decord/_ffi/function.py -> build/bdist.linux-x86_64/egg/decord/_ffi\n",
            "copying build/lib/decord/_ffi/libinfo.py -> build/bdist.linux-x86_64/egg/decord/_ffi\n",
            "copying build/lib/decord/__init__.py -> build/bdist.linux-x86_64/egg/decord\n",
            "copying build/lib/decord/video_reader.py -> build/bdist.linux-x86_64/egg/decord\n",
            "copying build/lib/decord/_api_internal.py -> build/bdist.linux-x86_64/egg/decord\n",
            "creating build/bdist.linux-x86_64/egg/decord/function\n",
            "copying build/lib/decord/function/base.py -> build/bdist.linux-x86_64/egg/decord/function\n",
            "copying build/lib/decord/function/__init__.py -> build/bdist.linux-x86_64/egg/decord/function\n",
            "byte-compiling build/bdist.linux-x86_64/egg/decord/video_loader.py to video_loader.cpython-36.pyc\n",
            "byte-compiling build/bdist.linux-x86_64/egg/decord/data/kinetics/kinetics_human_action.py to kinetics_human_action.cpython-36.pyc\n",
            "byte-compiling build/bdist.linux-x86_64/egg/decord/data/kinetics/__init__.py to __init__.cpython-36.pyc\n",
            "byte-compiling build/bdist.linux-x86_64/egg/decord/data/__init__.py to __init__.cpython-36.pyc\n",
            "byte-compiling build/bdist.linux-x86_64/egg/decord/ndarray.py to ndarray.cpython-36.pyc\n",
            "byte-compiling build/bdist.linux-x86_64/egg/decord/bridge/__init__.py to __init__.cpython-36.pyc\n",
            "byte-compiling build/bdist.linux-x86_64/egg/decord/bridge/mxnet.py to mxnet.cpython-36.pyc\n",
            "byte-compiling build/bdist.linux-x86_64/egg/decord/bridge/utils.py to utils.cpython-36.pyc\n",
            "byte-compiling build/bdist.linux-x86_64/egg/decord/base.py to base.cpython-36.pyc\n",
            "byte-compiling build/bdist.linux-x86_64/egg/decord/_ffi/_cy2/__init__.py to __init__.cpython-36.pyc\n",
            "byte-compiling build/bdist.linux-x86_64/egg/decord/_ffi/ndarray.py to ndarray.cpython-36.pyc\n",
            "byte-compiling build/bdist.linux-x86_64/egg/decord/_ffi/_ctypes/ndarray.py to ndarray.cpython-36.pyc\n",
            "byte-compiling build/bdist.linux-x86_64/egg/decord/_ffi/_ctypes/__init__.py to __init__.cpython-36.pyc\n",
            "byte-compiling build/bdist.linux-x86_64/egg/decord/_ffi/_ctypes/function.py to function.cpython-36.pyc\n",
            "byte-compiling build/bdist.linux-x86_64/egg/decord/_ffi/_ctypes/types.py to types.cpython-36.pyc\n",
            "byte-compiling build/bdist.linux-x86_64/egg/decord/_ffi/_cy3/__init__.py to __init__.cpython-36.pyc\n",
            "byte-compiling build/bdist.linux-x86_64/egg/decord/_ffi/base.py to base.cpython-36.pyc\n",
            "byte-compiling build/bdist.linux-x86_64/egg/decord/_ffi/__init__.py to __init__.cpython-36.pyc\n",
            "byte-compiling build/bdist.linux-x86_64/egg/decord/_ffi/runtime_ctypes.py to runtime_ctypes.cpython-36.pyc\n",
            "byte-compiling build/bdist.linux-x86_64/egg/decord/_ffi/function.py to function.cpython-36.pyc\n",
            "byte-compiling build/bdist.linux-x86_64/egg/decord/_ffi/libinfo.py to libinfo.cpython-36.pyc\n",
            "byte-compiling build/bdist.linux-x86_64/egg/decord/__init__.py to __init__.cpython-36.pyc\n",
            "byte-compiling build/bdist.linux-x86_64/egg/decord/video_reader.py to video_reader.cpython-36.pyc\n",
            "byte-compiling build/bdist.linux-x86_64/egg/decord/_api_internal.py to _api_internal.cpython-36.pyc\n",
            "byte-compiling build/bdist.linux-x86_64/egg/decord/function/base.py to base.cpython-36.pyc\n",
            "byte-compiling build/bdist.linux-x86_64/egg/decord/function/__init__.py to __init__.cpython-36.pyc\n",
            "installing package data to build/bdist.linux-x86_64/egg\n",
            "running install_data\n",
            "copying ../build/libdecord.so -> build/bdist.linux-x86_64/egg/decord\n",
            "creating build/bdist.linux-x86_64/egg/EGG-INFO\n",
            "copying decord.egg-info/PKG-INFO -> build/bdist.linux-x86_64/egg/EGG-INFO\n",
            "copying decord.egg-info/SOURCES.txt -> build/bdist.linux-x86_64/egg/EGG-INFO\n",
            "copying decord.egg-info/dependency_links.txt -> build/bdist.linux-x86_64/egg/EGG-INFO\n",
            "copying decord.egg-info/not-zip-safe -> build/bdist.linux-x86_64/egg/EGG-INFO\n",
            "copying decord.egg-info/requires.txt -> build/bdist.linux-x86_64/egg/EGG-INFO\n",
            "copying decord.egg-info/top_level.txt -> build/bdist.linux-x86_64/egg/EGG-INFO\n",
            "creating dist\n",
            "creating 'dist/decord-0.0.1-py3.6.egg' and adding 'build/bdist.linux-x86_64/egg' to it\n",
            "removing 'build/bdist.linux-x86_64/egg' (and everything under it)\n",
            "Processing decord-0.0.1-py3.6.egg\n",
            "creating /root/.local/lib/python3.6/site-packages/decord-0.0.1-py3.6.egg\n",
            "Extracting decord-0.0.1-py3.6.egg to /root/.local/lib/python3.6/site-packages\n",
            "Adding decord 0.0.1 to easy-install.pth file\n",
            "\n",
            "Installed /root/.local/lib/python3.6/site-packages/decord-0.0.1-py3.6.egg\n",
            "Processing dependencies for decord==0.0.1\n",
            "Searching for numpy==1.16.5\n",
            "Best match: numpy 1.16.5\n",
            "Adding numpy 1.16.5 to easy-install.pth file\n",
            "Installing f2py script to /root/.local/bin\n",
            "Installing f2py3 script to /root/.local/bin\n",
            "Installing f2py3.6 script to /root/.local/bin\n",
            "\n",
            "Using /usr/local/lib/python3.6/dist-packages\n",
            "Finished processing dependencies for decord==0.0.1\n"
          ],
          "name": "stdout"
        }
      ]
    },
    {
      "cell_type": "markdown",
      "metadata": {
        "id": "L56rWK8GySt9",
        "colab_type": "text"
      },
      "source": [
        "Install dense_flow (Optional), which is used to calculate the optical flow of videos."
      ]
    },
    {
      "cell_type": "code",
      "metadata": {
        "id": "ZNlSEVWTykR2",
        "colab_type": "code",
        "colab": {}
      },
      "source": [
        ""
      ],
      "execution_count": 0,
      "outputs": []
    },
    {
      "cell_type": "code",
      "metadata": {
        "id": "BJFwFQcyykOO",
        "colab_type": "code",
        "colab": {}
      },
      "source": [
        ""
      ],
      "execution_count": 0,
      "outputs": []
    },
    {
      "cell_type": "code",
      "metadata": {
        "id": "czv3mBxfykIT",
        "colab_type": "code",
        "colab": {}
      },
      "source": [
        ""
      ],
      "execution_count": 0,
      "outputs": []
    },
    {
      "cell_type": "code",
      "metadata": {
        "id": "9U1-6stBykFF",
        "colab_type": "code",
        "colab": {}
      },
      "source": [
        ""
      ],
      "execution_count": 0,
      "outputs": []
    },
    {
      "cell_type": "code",
      "metadata": {
        "id": "Xrdjv6Xzyjzt",
        "colab_type": "code",
        "colab": {}
      },
      "source": [
        ""
      ],
      "execution_count": 0,
      "outputs": []
    },
    {
      "cell_type": "markdown",
      "metadata": {
        "id": "pSH4kbQX9wwC",
        "colab_type": "text"
      },
      "source": [
        "Install MMAction "
      ]
    },
    {
      "cell_type": "code",
      "metadata": {
        "id": "QHiv-tle9SAq",
        "colab_type": "code",
        "outputId": "b5282d96-1b00-4a6d-86f1-8d9be66a4f48",
        "colab": {
          "base_uri": "https://localhost:8080/",
          "height": 34
        }
      },
      "source": [
        "!pip install cython"
      ],
      "execution_count": 0,
      "outputs": [
        {
          "output_type": "stream",
          "text": [
            "Requirement already satisfied: cython in /usr/local/lib/python3.6/dist-packages (0.29.13)\n"
          ],
          "name": "stdout"
        }
      ]
    },
    {
      "cell_type": "code",
      "metadata": {
        "id": "DeESA3HK-FPO",
        "colab_type": "code",
        "colab": {}
      },
      "source": [
        "!cd mmaction/  && sh  ./compile.sh"
      ],
      "execution_count": 0,
      "outputs": []
    },
    {
      "cell_type": "code",
      "metadata": {
        "id": "4sm7rnPy_K4I",
        "colab_type": "code",
        "colab": {}
      },
      "source": [
        "!cd mmaction/  &&  python setup.py develop"
      ],
      "execution_count": 0,
      "outputs": []
    },
    {
      "cell_type": "code",
      "metadata": {
        "id": "5OHhkLJO-dnl",
        "colab_type": "code",
        "outputId": "0d28fe04-687f-4f69-ffef-b08fba8bfdf9",
        "colab": {
          "base_uri": "https://localhost:8080/",
          "height": 122
        }
      },
      "source": [
        "from google.colab import drive\n",
        "drive.mount('/content/drive')"
      ],
      "execution_count": 0,
      "outputs": [
        {
          "output_type": "stream",
          "text": [
            "Go to this URL in a browser: https://accounts.google.com/o/oauth2/auth?client_id=947318989803-6bn6qk8qdgf4n4g3pfee6491hc0brc4i.apps.googleusercontent.com&redirect_uri=urn%3Aietf%3Awg%3Aoauth%3A2.0%3Aoob&scope=email%20https%3A%2F%2Fwww.googleapis.com%2Fauth%2Fdocs.test%20https%3A%2F%2Fwww.googleapis.com%2Fauth%2Fdrive%20https%3A%2F%2Fwww.googleapis.com%2Fauth%2Fdrive.photos.readonly%20https%3A%2F%2Fwww.googleapis.com%2Fauth%2Fpeopleapi.readonly&response_type=code\n",
            "\n",
            "Enter your authorization code:\n",
            "··········\n",
            "Mounted at /content/drive\n"
          ],
          "name": "stdout"
        }
      ]
    },
    {
      "cell_type": "code",
      "metadata": {
        "id": "SuCYFEPvfWpm",
        "colab_type": "code",
        "colab": {}
      },
      "source": [
        "!mkdir  -p mmaction/data/ucf101/videos/SoccerJuggling"
      ],
      "execution_count": 0,
      "outputs": []
    },
    {
      "cell_type": "markdown",
      "metadata": {
        "id": "6nBYZPZDAxzj",
        "colab_type": "text"
      },
      "source": [
        ""
      ]
    },
    {
      "cell_type": "code",
      "metadata": {
        "id": "W1xnfUbwfUUZ",
        "colab_type": "code",
        "colab": {}
      },
      "source": [
        "!mkdir  -p mmaction/data/ucf101/videos/Biking"
      ],
      "execution_count": 0,
      "outputs": []
    },
    {
      "cell_type": "code",
      "metadata": {
        "id": "czsieayk-dH_",
        "colab_type": "code",
        "colab": {}
      },
      "source": [
        "!cp drive/My\\ Drive/SoccerJuggling/v*.*  mmaction/data/ucf101/videos/SoccerJuggling"
      ],
      "execution_count": 0,
      "outputs": []
    },
    {
      "cell_type": "code",
      "metadata": {
        "id": "9zfAenyRfaih",
        "colab_type": "code",
        "colab": {}
      },
      "source": [
        "!cp drive/My\\ Drive/Biking/v*.*  mmaction/data/ucf101/videos/Biking"
      ],
      "execution_count": 0,
      "outputs": []
    },
    {
      "cell_type": "markdown",
      "metadata": {
        "id": "3ZM1gOywDxqu",
        "colab_type": "text"
      },
      "source": [
        "# Dataset Preparation"
      ]
    },
    {
      "cell_type": "markdown",
      "metadata": {
        "id": "17_NVYsoD_Pt",
        "colab_type": "text"
      },
      "source": [
        "Preparing UCF-101"
      ]
    },
    {
      "cell_type": "code",
      "metadata": {
        "id": "OKE622h0D1ap",
        "colab_type": "code",
        "colab": {}
      },
      "source": [
        "! cd mmaction/data_tools/ucf101/ && bash download_annotations.sh"
      ],
      "execution_count": 0,
      "outputs": []
    },
    {
      "cell_type": "code",
      "metadata": {
        "id": "PY7gURfHEBYx",
        "colab_type": "code",
        "colab": {}
      },
      "source": [
        "! cd mmaction/data_tools/ucf101/ && bash download_videos.sh"
      ],
      "execution_count": 0,
      "outputs": []
    },
    {
      "cell_type": "code",
      "metadata": {
        "id": "XpcR-jUzdfEy",
        "colab_type": "code",
        "outputId": "5ee89b76-d9da-4f1a-8620-d13fc9819f64",
        "colab": {
          "base_uri": "https://localhost:8080/",
          "height": 1000
        }
      },
      "source": [
        "!cd mmaction/data_tools/ &&  python build_rawframes.py ../data/ucf101/videos/ ../data/ucf101/rawframes/ --level 2 --ext avi"
      ],
      "execution_count": 0,
      "outputs": [
        {
          "output_type": "stream",
          "text": [
            "Creating folder: ../data/ucf101/rawframes/\n",
            "Creating folder: ../data/ucf101/rawframes/Shotput\n",
            "Creating folder: ../data/ucf101/rawframes/SoccerJuggling\n",
            "Creating folder: ../data/ucf101/rawframes/Swing\n",
            "Creating folder: ../data/ucf101/rawframes/SoccerPenalty\n",
            "Creating folder: ../data/ucf101/rawframes/SkateBoarding\n",
            "Reading videos from folder:  ../data/ucf101/videos/\n",
            "Extension of videos:  avi\n",
            "Total number of videos found:  679\n",
            "Shotput/v_Shotput_g04_c02 done with 77 frames\n",
            "Shotput/v_Shotput_g11_c06 done with 76 frames\n",
            "Shotput/v_Shotput_g12_c01 done with 82 frames\n",
            "Shotput/v_Shotput_g01_c05 done with 97 frames\n",
            "Shotput/v_Shotput_g17_c03 done with 91 frames\n",
            "Shotput/v_Shotput_g24_c03 done with 103 frames\n",
            "Shotput/v_Shotput_g16_c01 done with 150 frames\n",
            "Shotput/v_Shotput_g10_c03 done with 72 frames\n",
            "Shotput/v_Shotput_g15_c01 done with 66 frames\n",
            "Shotput/v_Shotput_g22_c05 done with 70 frames\n",
            "Shotput/v_Shotput_g25_c05 done with 83 frames\n",
            "Shotput/v_Shotput_g09_c04 done with 77 frames\n",
            "Shotput/v_Shotput_g21_c02 done with 126 frames\n",
            "Shotput/v_Shotput_g08_c06 done with 101 frames\n",
            "Shotput/v_Shotput_g15_c03 done with 82 frames\n",
            "Shotput/v_Shotput_g12_c03 done with 79 frames\n",
            "Shotput/v_Shotput_g14_c01 done with 72 frames\n",
            "Shotput/v_Shotput_g24_c04 done with 110 frames\n",
            "Shotput/v_Shotput_g22_c03 done with 64 frames\n",
            "[Warning] length inconsistent!Early stop with 299 out of 300 frames\n",
            "SoccerJuggling/v_SoccerJuggling_g13_c05 done with 300 frames\n",
            "Shotput/v_Shotput_g04_c03 done with 86 frames\n",
            "Shotput/v_Shotput_g01_c02 done with 101 frames\n",
            "Shotput/v_Shotput_g16_c04 done with 95 frames\n",
            "Shotput/v_Shotput_g15_c05 done with 89 frames\n",
            "Shotput/v_Shotput_g22_c04 done with 76 frames\n",
            "Shotput/v_Shotput_g18_c03 done with 110 frames\n",
            "Shotput/v_Shotput_g09_c07 done with 76 frames\n",
            "Shotput/v_Shotput_g08_c03 done with 106 frames\n",
            "Shotput/v_Shotput_g16_c05 done with 76 frames\n",
            "Shotput/v_Shotput_g12_c07 done with 74 frames\n",
            "Shotput/v_Shotput_g18_c04 done with 116 frames\n",
            "Shotput/v_Shotput_g05_c01 done with 67 frames\n",
            "Shotput/v_Shotput_g02_c04 done with 76 frames\n",
            "Shotput/v_Shotput_g08_c02 done with 111 frames\n",
            "Shotput/v_Shotput_g20_c04 done with 113 frames\n",
            "Shotput/v_Shotput_g14_c04 done with 70 frames\n",
            "Shotput/v_Shotput_g20_c02 done with 96 frames\n",
            "Shotput/v_Shotput_g01_c07 done with 101 frames\n",
            "Shotput/v_Shotput_g15_c07 done with 73 frames\n",
            "SoccerJuggling/v_SoccerJuggling_g02_c04 done with 240 frames\n",
            "Shotput/v_Shotput_g13_c02 done with 79 frames\n",
            "Shotput/v_Shotput_g07_c05 done with 81 frames\n",
            "Shotput/v_Shotput_g22_c02 done with 114 frames\n",
            "Shotput/v_Shotput_g24_c02 done with 76 frames\n",
            "Shotput/v_Shotput_g11_c04 done with 79 frames\n",
            "Shotput/v_Shotput_g10_c01 done with 56 frames\n",
            "Shotput/v_Shotput_g01_c06 done with 101 frames\n",
            "Shotput/v_Shotput_g13_c01 done with 68 frames\n",
            "Shotput/v_Shotput_g16_c02 done with 64 frames\n",
            "Shotput/v_Shotput_g06_c05 done with 86 frames\n",
            "Shotput/v_Shotput_g23_c01 done with 85 frames\n",
            "Shotput/v_Shotput_g19_c04 done with 157 frames\n",
            "Shotput/v_Shotput_g25_c03 done with 86 frames\n",
            "Shotput/v_Shotput_g16_c07 done with 84 frames\n",
            "Shotput/v_Shotput_g20_c01 done with 115 frames\n",
            "Shotput/v_Shotput_g24_c01 done with 111 frames\n",
            "Shotput/v_Shotput_g21_c01 done with 81 frames\n",
            "Shotput/v_Shotput_g19_c02 done with 71 frames\n",
            "Shotput/v_Shotput_g17_c02 done with 101 frames\n",
            "Shotput/v_Shotput_g11_c01 done with 84 frames\n",
            "Shotput/v_Shotput_g05_c06 done with 125 frames\n",
            "Shotput/v_Shotput_g07_c04 done with 81 frames\n",
            "Shotput/v_Shotput_g15_c04 done with 69 frames\n",
            "SoccerJuggling/v_SoccerJuggling_g16_c06 done with 308 frames\n",
            "Shotput/v_Shotput_g05_c04 done with 125 frames\n",
            "Shotput/v_Shotput_g05_c05 done with 132 frames\n",
            "Shotput/v_Shotput_g05_c02 done with 130 frames\n",
            "Shotput/v_Shotput_g01_c04 done with 91 frames\n",
            "Shotput/v_Shotput_g21_c04 done with 76 frames\n",
            "Shotput/v_Shotput_g25_c01 done with 94 frames\n",
            "Shotput/v_Shotput_g03_c06 done with 85 frames\n",
            "Shotput/v_Shotput_g10_c05 done with 82 frames\n",
            "Shotput/v_Shotput_g02_c03 done with 73 frames\n",
            "Shotput/v_Shotput_g02_c02 done with 90 frames\n",
            "Shotput/v_Shotput_g09_c03 done with 82 frames\n",
            "Shotput/v_Shotput_g03_c01 done with 71 frames\n",
            "Shotput/v_Shotput_g04_c05 done with 73 frames\n",
            "Shotput/v_Shotput_g14_c02 done with 87 frames\n",
            "Shotput/v_Shotput_g12_c05 done with 75 frames\n",
            "Shotput/v_Shotput_g07_c06 done with 60 frames\n",
            "Shotput/v_Shotput_g03_c02 done with 85 frames\n",
            "Shotput/v_Shotput_g06_c06 done with 90 frames\n",
            "Shotput/v_Shotput_g02_c01 done with 85 frames\n",
            "Shotput/v_Shotput_g11_c03 done with 87 frames\n",
            "SoccerJuggling/v_SoccerJuggling_g25_c03 done with 251 frames\n",
            "Shotput/v_Shotput_g23_c05 done with 84 frames\n",
            "Shotput/v_Shotput_g16_c06 done with 119 frames\n",
            "Shotput/v_Shotput_g11_c07 done with 89 frames\n",
            "Shotput/v_Shotput_g23_c06 done with 75 frames\n",
            "Shotput/v_Shotput_g02_c05 done with 94 frames\n",
            "Shotput/v_Shotput_g23_c04 done with 78 frames\n",
            "Shotput/v_Shotput_g17_c01 done with 204 frames\n",
            "Shotput/v_Shotput_g01_c03 done with 94 frames\n",
            "Shotput/v_Shotput_g15_c06 done with 66 frames\n",
            "Shotput/v_Shotput_g09_c01 done with 65 frames\n",
            "Shotput/v_Shotput_g16_c03 done with 136 frames\n",
            "Shotput/v_Shotput_g15_c02 done with 73 frames\n",
            "SoccerJuggling/v_SoccerJuggling_g17_c03 done with 201 frames\n",
            "Shotput/v_Shotput_g21_c03 done with 108 frames\n",
            "Shotput/v_Shotput_g19_c03 done with 86 frames\n",
            "Shotput/v_Shotput_g04_c04 done with 91 frames\n",
            "Shotput/v_Shotput_g09_c02 done with 72 frames\n",
            "Shotput/v_Shotput_g01_c01 done with 61 frames\n",
            "Shotput/v_Shotput_g11_c02 done with 84 frames\n",
            "SoccerJuggling/v_SoccerJuggling_g22_c02 done with 251 frames\n",
            "Shotput/v_Shotput_g14_c03 done with 75 frames\n",
            "Shotput/v_Shotput_g13_c04 done with 75 frames\n",
            "Shotput/v_Shotput_g07_c03 done with 71 frames\n",
            "Shotput/v_Shotput_g03_c04 done with 91 frames\n",
            "Shotput/v_Shotput_g08_c05 done with 125 frames\n",
            "Shotput/v_Shotput_g18_c01 done with 102 frames\n",
            "Shotput/v_Shotput_g05_c07 done with 150 frames\n",
            "Shotput/v_Shotput_g22_c01 done with 102 frames\n",
            "Shotput/v_Shotput_g06_c01 done with 101 frames\n",
            "Shotput/v_Shotput_g08_c07 done with 115 frames\n",
            "Shotput/v_Shotput_g12_c06 done with 67 frames\n",
            "Shotput/v_Shotput_g08_c01 done with 145 frames\n",
            "Shotput/v_Shotput_g17_c05 done with 75 frames\n",
            "Shotput/v_Shotput_g17_c04 done with 86 frames\n",
            "[Warning] length inconsistent!Early stop with 235 out of 240 frames\n",
            "SoccerJuggling/v_SoccerJuggling_g05_c01 done with 240 frames\n",
            "Shotput/v_Shotput_g12_c04 done with 79 frames\n",
            "Shotput/v_Shotput_g07_c07 done with 78 frames\n",
            "Shotput/v_Shotput_g06_c03 done with 88 frames\n",
            "[Warning] length inconsistent!Early stop with 360 out of 360 frames\n",
            "SoccerJuggling/v_SoccerJuggling_g04_c01 done with 360 frames\n",
            "Shotput/v_Shotput_g06_c07 done with 101 frames\n",
            "Shotput/v_Shotput_g06_c02 done with 101 frames\n",
            "Shotput/v_Shotput_g08_c04 done with 125 frames\n",
            "Shotput/v_Shotput_g20_c03 done with 85 frames\n",
            "Shotput/v_Shotput_g07_c01 done with 79 frames\n",
            "Shotput/v_Shotput_g10_c04 done with 96 frames\n",
            "Shotput/v_Shotput_g23_c07 done with 80 frames\n",
            "Shotput/v_Shotput_g03_c03 done with 70 frames\n",
            "Shotput/v_Shotput_g25_c04 done with 88 frames\n",
            "Shotput/v_Shotput_g04_c01 done with 80 frames\n",
            "Shotput/v_Shotput_g10_c06 done with 71 frames\n",
            "[Warning] length inconsistent!Early stop with 240 out of 240 frames\n",
            "SoccerJuggling/v_SoccerJuggling_g02_c05 done with 240 frames\n",
            "Shotput/v_Shotput_g23_c03 done with 134 frames\n",
            "Shotput/v_Shotput_g13_c03 done with 83 frames\n",
            "SoccerJuggling/v_SoccerJuggling_g03_c04 done with 230 frames\n",
            "Shotput/v_Shotput_g10_c02 done with 86 frames\n",
            "Shotput/v_Shotput_g06_c04 done with 95 frames\n",
            "Shotput/v_Shotput_g05_c03 done with 130 frames\n",
            "Shotput/v_Shotput_g18_c02 done with 135 frames\n",
            "Shotput/v_Shotput_g07_c02 done with 65 frames\n",
            "Shotput/v_Shotput_g09_c06 done with 77 frames\n",
            "Shotput/v_Shotput_g02_c07 done with 88 frames\n",
            "Shotput/v_Shotput_g03_c05 done with 66 frames\n",
            "Shotput/v_Shotput_g02_c06 done with 71 frames\n",
            "Shotput/v_Shotput_g09_c05 done with 84 frames\n",
            "SoccerJuggling/v_SoccerJuggling_g22_c07 done with 201 frames\n",
            "Shotput/v_Shotput_g23_c02 done with 55 frames\n",
            "Shotput/v_Shotput_g19_c01 done with 79 frames\n",
            "SoccerJuggling/v_SoccerJuggling_g13_c03 done with 251 frames\n",
            "Shotput/v_Shotput_g11_c05 done with 93 frames\n",
            "SoccerJuggling/v_SoccerJuggling_g13_c02 done with 251 frames\n",
            "SoccerJuggling/v_SoccerJuggling_g11_c04 done with 238 frames\n",
            "SoccerJuggling/v_SoccerJuggling_g14_c01 done with 240 frames\n",
            "Shotput/v_Shotput_g25_c02 done with 79 frames\n",
            "Shotput/v_Shotput_g12_c02 done with 87 frames\n",
            "SoccerJuggling/v_SoccerJuggling_g25_c01 done with 109 frames\n",
            "SoccerJuggling/v_SoccerJuggling_g22_c01 done with 251 frames\n",
            "SoccerJuggling/v_SoccerJuggling_g07_c01 done with 301 frames\n",
            "SoccerJuggling/v_SoccerJuggling_g18_c02 done with 301 frames\n",
            "SoccerJuggling/v_SoccerJuggling_g20_c04 done with 201 frames\n",
            "SoccerJuggling/v_SoccerJuggling_g18_c05 done with 360 frames\n",
            "SoccerJuggling/v_SoccerJuggling_g11_c03 done with 330 frames\n",
            "SoccerJuggling/v_SoccerJuggling_g19_c06 done with 300 frames\n",
            "SoccerJuggling/v_SoccerJuggling_g24_c04 done with 251 frames\n",
            "SoccerJuggling/v_SoccerJuggling_g19_c03 done with 293 frames\n",
            "SoccerJuggling/v_SoccerJuggling_g06_c01 done with 251 frames\n",
            "[Warning] length inconsistent!Early stop with 83 out of 83 frames\n",
            "SoccerJuggling/v_SoccerJuggling_g21_c03 done with 83 frames\n",
            "SoccerJuggling/v_SoccerJuggling_g10_c01 done with 201 frames\n",
            "[Warning] length inconsistent!Early stop with 239 out of 240 frames\n",
            "SoccerJuggling/v_SoccerJuggling_g02_c02 done with 240 frames\n",
            "[Warning] length inconsistent!Early stop with 236 out of 240 frames\n",
            "SoccerJuggling/v_SoccerJuggling_g16_c07 done with 240 frames\n",
            "SoccerJuggling/v_SoccerJuggling_g23_c02 done with 240 frames\n",
            "[Warning] length inconsistent!Early stop with 499 out of 502 frames\n",
            "SoccerJuggling/v_SoccerJuggling_g01_c02 done with 502 frames\n",
            "SoccerJuggling/v_SoccerJuggling_g12_c04 done with 301 frames\n",
            "SoccerJuggling/v_SoccerJuggling_g18_c03 done with 301 frames\n",
            "SoccerJuggling/v_SoccerJuggling_g09_c07 done with 316 frames\n",
            "SoccerJuggling/v_SoccerJuggling_g22_c03 done with 260 frames\n",
            "[Warning] length inconsistent!Early stop with 360 out of 360 frames\n",
            "SoccerJuggling/v_SoccerJuggling_g04_c03 done with 360 frames\n",
            "SoccerJuggling/v_SoccerJuggling_g22_c06 done with 201 frames\n",
            "SoccerJuggling/v_SoccerJuggling_g18_c06 done with 360 frames\n",
            "SoccerJuggling/v_SoccerJuggling_g16_c05 done with 201 frames\n",
            "SoccerJuggling/v_SoccerJuggling_g19_c04 done with 279 frames\n",
            "SoccerJuggling/v_SoccerJuggling_g12_c02 done with 301 frames\n",
            "SoccerJuggling/v_SoccerJuggling_g25_c05 done with 143 frames\n",
            "SoccerJuggling/v_SoccerJuggling_g14_c05 done with 240 frames\n",
            "SoccerJuggling/v_SoccerJuggling_g07_c07 done with 360 frames\n",
            "[Warning] length inconsistent!Early stop with 590 out of 599 frames\n",
            "SoccerJuggling/v_SoccerJuggling_g16_c01 done with 599 frames\n",
            "SoccerJuggling/v_SoccerJuggling_g04_c04 done with 360 frames\n",
            "SoccerJuggling/v_SoccerJuggling_g17_c05 done with 300 frames\n",
            "Swing/v_Swing_g15_c06 done with 201 frames\n",
            "[Warning] length inconsistent!Early stop with 240 out of 240 frames\n",
            "SoccerJuggling/v_SoccerJuggling_g14_c03 done with 240 frames\n",
            "[Warning] length inconsistent!Early stop with 239 out of 240 frames\n",
            "SoccerJuggling/v_SoccerJuggling_g14_c04 done with 240 frames\n",
            "SoccerJuggling/v_SoccerJuggling_g18_c04 done with 301 frames\n",
            "SoccerJuggling/v_SoccerJuggling_g22_c05 done with 201 frames\n",
            "SoccerJuggling/v_SoccerJuggling_g09_c06 done with 240 frames\n",
            "Swing/v_Swing_g07_c04 done with 201 frames\n",
            "SoccerJuggling/v_SoccerJuggling_g20_c03 done with 201 frames\n",
            "[Warning] length inconsistent!Early stop with 415 out of 416 frames\n",
            "SoccerJuggling/v_SoccerJuggling_g21_c02 done with 416 frames\n",
            "SoccerJuggling/v_SoccerJuggling_g06_c02 done with 135 frames\n",
            "Swing/v_Swing_g07_c07 done with 151 frames\n",
            "SoccerJuggling/v_SoccerJuggling_g20_c02 done with 301 frames\n",
            "SoccerJuggling/v_SoccerJuggling_g17_c01 done with 201 frames\n",
            "[Warning] length inconsistent!Early stop with 892 out of 900 frames\n",
            "SoccerJuggling/v_SoccerJuggling_g01_c01 done with 900 frames\n",
            "[Warning] length inconsistent!Early stop with 237 out of 240 frames\n",
            "SoccerJuggling/v_SoccerJuggling_g05_c03 done with 240 frames\n",
            "SoccerJuggling/v_SoccerJuggling_g11_c02 done with 301 frames\n",
            "Swing/v_Swing_g09_c04 done with 126 frames\n",
            "SoccerJuggling/v_SoccerJuggling_g03_c02 done with 230 frames\n",
            "[Warning] length inconsistent!Early stop with 240 out of 240 frames\n",
            "SoccerJuggling/v_SoccerJuggling_g20_c05 done with 240 frames\n",
            "SoccerJuggling/v_SoccerJuggling_g03_c01 done with 230 frames\n",
            "SoccerJuggling/v_SoccerJuggling_g07_c02 done with 301 frames\n",
            "Swing/v_Swing_g22_c03 done with 191 frames\n",
            "SoccerJuggling/v_SoccerJuggling_g19_c07 done with 300 frames\n",
            "SoccerJuggling/v_SoccerJuggling_g24_c03 done with 251 frames\n",
            "SoccerJuggling/v_SoccerJuggling_g12_c05 done with 360 frames\n",
            "Swing/v_Swing_g04_c04 done with 168 frames\n",
            "[Warning] length inconsistent!Early stop with 234 out of 240 frames\n",
            "SoccerJuggling/v_SoccerJuggling_g05_c05 done with 240 frames\n",
            "SoccerJuggling/v_SoccerJuggling_g15_c02 done with 599 frames\n",
            "[Warning] length inconsistent!Early stop with 307 out of 307 frames\n",
            "SoccerJuggling/v_SoccerJuggling_g11_c06 done with 307 frames\n",
            "Swing/v_Swing_g23_c04 done with 126 frames\n",
            "SoccerJuggling/v_SoccerJuggling_g10_c04 done with 139 frames\n",
            "Swing/v_Swing_g19_c01 done with 276 frames\n",
            "SoccerJuggling/v_SoccerJuggling_g17_c07 done with 300 frames\n",
            "SoccerJuggling/v_SoccerJuggling_g18_c07 done with 360 frames\n",
            "[Warning] length inconsistent!Early stop with 413 out of 416 frames\n",
            "SoccerJuggling/v_SoccerJuggling_g21_c04 done with 416 frames\n",
            "SoccerJuggling/v_SoccerJuggling_g12_c06 done with 360 frames\n",
            "[Warning] length inconsistent!Early stop with 251 out of 251 frames\n",
            "Swing/v_Swing_g10_c01 done with 251 frames\n",
            "SoccerJuggling/v_SoccerJuggling_g23_c05 done with 240 frames\n",
            "SoccerJuggling/v_SoccerJuggling_g23_c06 done with 221 frames\n",
            "Swing/v_Swing_g19_c03 done with 276 frames\n",
            "[Warning] length inconsistent!Early stop with 240 out of 240 frames\n",
            "SoccerJuggling/v_SoccerJuggling_g05_c04 done with 240 frames\n",
            "SoccerJuggling/v_SoccerJuggling_g01_c05 done with 290 frames\n",
            "SoccerJuggling/v_SoccerJuggling_g19_c02 done with 221 frames\n",
            "Swing/v_Swing_g05_c06 done with 201 frames\n",
            "SoccerJuggling/v_SoccerJuggling_g13_c04 done with 251 frames\n",
            "SoccerJuggling/v_SoccerJuggling_g18_c01 done with 301 frames\n",
            "[Warning] length inconsistent!Early stop with 700 out of 705 frames\n",
            "SoccerJuggling/v_SoccerJuggling_g01_c04 done with 705 frames\n",
            "Swing/v_Swing_g13_c03 done with 160 frames\n",
            "SoccerJuggling/v_SoccerJuggling_g09_c04 done with 186 frames\n",
            "SoccerJuggling/v_SoccerJuggling_g24_c01 done with 251 frames\n",
            "SoccerJuggling/v_SoccerJuggling_g09_c03 done with 251 frames\n",
            "Swing/v_Swing_g18_c02 done with 335 frames\n",
            "[Warning] length inconsistent!Early stop with 240 out of 240 frames\n",
            "SoccerJuggling/v_SoccerJuggling_g14_c02 done with 240 frames\n",
            "Swing/v_Swing_g16_c03 done with 109 frames\n",
            "SoccerJuggling/v_SoccerJuggling_g25_c04 done with 137 frames\n",
            "Swing/v_Swing_g20_c02 done with 151 frames\n",
            "[Warning] length inconsistent!Early stop with 236 out of 240 frames\n",
            "SoccerJuggling/v_SoccerJuggling_g02_c03 done with 240 frames\n",
            "[Warning] length inconsistent!Early stop with 238 out of 240 frames\n",
            "SoccerJuggling/v_SoccerJuggling_g05_c02 done with 240 frames\n",
            "Swing/v_Swing_g21_c03 done with 168 frames\n",
            "[Warning] length inconsistent!Early stop with 414 out of 416 frames\n",
            "SoccerJuggling/v_SoccerJuggling_g21_c01 done with 416 frames\n",
            "Swing/v_Swing_g16_c02 done with 126 frames\n",
            "SoccerJuggling/v_SoccerJuggling_g21_c05 done with 240 frames\n",
            "Swing/v_Swing_g16_c01 done with 126 frames\n",
            "SoccerJuggling/v_SoccerJuggling_g04_c06 done with 360 frames\n",
            "[Warning] length inconsistent!Early stop with 237 out of 240 frames\n",
            "SoccerJuggling/v_SoccerJuggling_g05_c06 done with 240 frames\n",
            "Swing/v_Swing_g01_c01 done with 168 frames\n",
            "SoccerJuggling/v_SoccerJuggling_g09_c01 done with 111 frames\n",
            "SoccerJuggling/v_SoccerJuggling_g07_c04 done with 301 frames\n",
            "Swing/v_Swing_g06_c01 done with 126 frames\n",
            "[Warning] length inconsistent!Early stop with 593 out of 599 frames\n",
            "SoccerJuggling/v_SoccerJuggling_g16_c03 done with 599 frames\n",
            "SoccerJuggling/v_SoccerJuggling_g07_c05 done with 360 frames\n",
            "Swing/v_Swing_g04_c02 done with 126 frames\n",
            "Swing/v_Swing_g05_c02 done with 109 frames\n",
            "SoccerJuggling/v_SoccerJuggling_g04_c02 done with 360 frames\n",
            "Swing/v_Swing_g11_c03 done with 126 frames\n",
            "SoccerJuggling/v_SoccerJuggling_g06_c03 done with 229 frames\n",
            "SoccerJuggling/v_SoccerJuggling_g19_c01 done with 377 frames\n",
            "Swing/v_Swing_g22_c04 done with 101 frames\n",
            "SoccerJuggling/v_SoccerJuggling_g08_c02 done with 301 frames\n",
            "Swing/v_Swing_g05_c04 done with 109 frames\n",
            "[Warning] length inconsistent!Early stop with 293 out of 300 frames\n",
            "SoccerJuggling/v_SoccerJuggling_g24_c06 done with 300 frames\n",
            "SoccerJuggling/v_SoccerJuggling_g25_c06 done with 140 frames\n",
            "[Warning] length inconsistent!Early stop with 295 out of 301 frames\n",
            "SoccerJuggling/v_SoccerJuggling_g12_c03 done with 301 frames\n",
            "Swing/v_Swing_g24_c05 done with 151 frames\n",
            "SoccerJuggling/v_SoccerJuggling_g23_c04 done with 240 frames\n",
            "Swing/v_Swing_g03_c02 done with 145 frames\n",
            "SoccerJuggling/v_SoccerJuggling_g17_c04 done with 201 frames\n",
            "SoccerJuggling/v_SoccerJuggling_g11_c01 done with 301 frames\n",
            "Swing/v_Swing_g15_c07 done with 201 frames\n",
            "SoccerJuggling/v_SoccerJuggling_g23_c01 done with 240 frames\n",
            "SoccerJuggling/v_SoccerJuggling_g08_c04 done with 301 frames\n",
            "SoccerJuggling/v_SoccerJuggling_g07_c03 done with 301 frames\n",
            "Swing/v_Swing_g04_c07 done with 201 frames\n",
            "Swing/v_Swing_g07_c03 done with 251 frames\n",
            "SoccerJuggling/v_SoccerJuggling_g24_c02 done with 251 frames\n",
            "[Warning] length inconsistent!Early stop with 580 out of 584 frames\n",
            "SoccerJuggling/v_SoccerJuggling_g16_c04 done with 584 frames\n",
            "[Warning] length inconsistent!Early stop with 240 out of 240 frames\n",
            "SoccerJuggling/v_SoccerJuggling_g02_c01 done with 240 frames\n",
            "SoccerJuggling/v_SoccerJuggling_g17_c06 done with 334 frames\n",
            "Swing/v_Swing_g15_c02 done with 88 frames\n",
            "[Warning] length inconsistent!Early stop with 136 out of 136 frames\n",
            "Swing/v_Swing_g02_c01 done with 136 frames\n",
            "Swing/v_Swing_g23_c02 done with 126 frames\n",
            "SoccerJuggling/v_SoccerJuggling_g19_c05 done with 301 frames\n",
            "SoccerJuggling/v_SoccerJuggling_g17_c02 done with 201 frames\n",
            "Swing/v_Swing_g11_c04 done with 126 frames\n",
            "Swing/v_Swing_g24_c04 done with 126 frames\n",
            "SoccerJuggling/v_SoccerJuggling_g10_c02 done with 201 frames\n",
            "Swing/v_Swing_g13_c01 done with 160 frames\n",
            "SoccerJuggling/v_SoccerJuggling_g08_c01 done with 301 frames\n",
            "Swing/v_Swing_g06_c06 done with 151 frames\n",
            "Swing/v_Swing_g01_c03 done with 168 frames\n",
            "[Warning] length inconsistent!Early stop with 591 out of 599 frames\n",
            "SoccerJuggling/v_SoccerJuggling_g16_c02 done with 599 frames\n",
            "Swing/v_Swing_g23_c03 done with 126 frames\n",
            "Swing/v_Swing_g15_c04 done with 88 frames\n",
            "[Warning] length inconsistent!Early stop with 292 out of 300 frames\n",
            "SoccerJuggling/v_SoccerJuggling_g24_c07 done with 300 frames\n",
            "Swing/v_Swing_g06_c07 done with 51 frames\n",
            "Swing/v_Swing_g05_c01 done with 109 frames\n",
            "SoccerJuggling/v_SoccerJuggling_g04_c05 done with 360 frames\n",
            "Swing/v_Swing_g08_c05 done with 169 frames\n",
            "SoccerJuggling/v_SoccerJuggling_g22_c04 done with 201 frames\n",
            "Swing/v_Swing_g20_c06 done with 151 frames\n",
            "SoccerJuggling/v_SoccerJuggling_g09_c05 done with 240 frames\n",
            "Swing/v_Swing_g21_c05 done with 201 frames\n",
            "SoccerJuggling/v_SoccerJuggling_g15_c03 done with 599 frames\n",
            "Swing/v_Swing_g17_c04 done with 160 frames\n",
            "Swing/v_Swing_g05_c05 done with 201 frames\n",
            "Swing/v_Swing_g11_c05 done with 151 frames\n",
            "SoccerJuggling/v_SoccerJuggling_g12_c01 done with 301 frames\n",
            "Swing/v_Swing_g24_c02 done with 151 frames\n",
            "[Warning] length inconsistent!Early stop with 354 out of 360 frames\n",
            "SoccerJuggling/v_SoccerJuggling_g24_c05 done with 360 frames\n",
            "SoccerJuggling/v_SoccerJuggling_g15_c01 done with 599 frames\n",
            "[Warning] length inconsistent!Early stop with 239 out of 240 frames\n",
            "SoccerJuggling/v_SoccerJuggling_g02_c06 done with 240 frames\n",
            "Swing/v_Swing_g15_c01 done with 88 frames\n",
            "SoccerJuggling/v_SoccerJuggling_g11_c05 done with 270 frames\n",
            "Swing/v_Swing_g21_c01 done with 168 frames\n",
            "Swing/v_Swing_g24_c01 done with 126 frames\n",
            "Swing/v_Swing_g12_c03 done with 126 frames\n",
            "SoccerJuggling/v_SoccerJuggling_g23_c03 done with 240 frames\n",
            "Swing/v_Swing_g01_c02 done with 168 frames\n",
            "Swing/v_Swing_g06_c03 done with 126 frames\n",
            "SoccerJuggling/v_SoccerJuggling_g03_c03 done with 230 frames\n",
            "Swing/v_Swing_g07_c06 done with 161 frames\n",
            "SoccerJuggling/v_SoccerJuggling_g06_c05 done with 300 frames\n",
            "Swing/v_Swing_g03_c01 done with 145 frames\n",
            "SoccerJuggling/v_SoccerJuggling_g07_c06 done with 360 frames\n",
            "Swing/v_Swing_g18_c03 done with 335 frames\n",
            "SoccerJuggling/v_SoccerJuggling_g09_c02 done with 251 frames\n",
            "Swing/v_Swing_g10_c03 done with 251 frames\n",
            "SoccerJuggling/v_SoccerJuggling_g10_c03 done with 201 frames\n",
            "SoccerJuggling/v_SoccerJuggling_g06_c04 done with 92 frames\n",
            "SoccerJuggling/v_SoccerJuggling_g20_c01 done with 301 frames\n",
            "Swing/v_Swing_g14_c01 done with 113 frames\n",
            "Swing/v_Swing_g02_c02 done with 335 frames\n",
            "Swing/v_Swing_g09_c01 done with 126 frames\n",
            "[Warning] length inconsistent!Early stop with 226 out of 227 frames\n",
            "SoccerJuggling/v_SoccerJuggling_g25_c02 done with 227 frames\n",
            "Swing/v_Swing_g09_c03 done with 126 frames\n",
            "[Warning] length inconsistent!Early stop with 318 out of 318 frames\n",
            "Swing/v_Swing_g25_c04 done with 318 frames\n",
            "SoccerJuggling/v_SoccerJuggling_g20_c06 done with 240 frames\n",
            "Swing/v_Swing_g04_c05 done with 151 frames\n",
            "Swing/v_Swing_g16_c04 done with 109 frames\n",
            "Swing/v_Swing_g14_c03 done with 151 frames\n",
            "SoccerJuggling/v_SoccerJuggling_g08_c03 done with 301 frames\n",
            "Swing/v_Swing_g05_c03 done with 109 frames\n",
            "Swing/v_Swing_g23_c01 done with 126 frames\n",
            "Swing/v_Swing_g09_c05 done with 151 frames\n",
            "SoccerJuggling/v_SoccerJuggling_g13_c01 done with 251 frames\n",
            "Swing/v_Swing_g09_c02 done with 126 frames\n",
            "SoccerJuggling/v_SoccerJuggling_g14_c07 done with 240 frames\n",
            "SoccerPenalty/v_SoccerPenalty_g25_c01 done with 64 frames\n",
            "Swing/v_Swing_g22_c02 done with 201 frames\n",
            "SoccerPenalty/v_SoccerPenalty_g16_c02 done with 89 frames\n",
            "Swing/v_Swing_g06_c02 done with 126 frames\n",
            "Swing/v_Swing_g11_c06 done with 251 frames\n",
            "SoccerPenalty/v_SoccerPenalty_g11_c02 done with 138 frames\n",
            "SoccerPenalty/v_SoccerPenalty_g04_c05 done with 115 frames\n",
            "Swing/v_Swing_g25_c01 done with 318 frames\n",
            "Swing/v_Swing_g14_c05 done with 151 frames\n",
            "Swing/v_Swing_g07_c02 done with 251 frames\n",
            "Swing/v_Swing_g19_c04 done with 160 frames\n",
            "SoccerPenalty/v_SoccerPenalty_g23_c03 done with 84 frames\n",
            "Swing/v_Swing_g10_c02 done with 251 frames\n",
            "SoccerPenalty/v_SoccerPenalty_g10_c03 done with 119 frames\n",
            "[Warning] length inconsistent!Early stop with 877 out of 880 frames\n",
            "SoccerJuggling/v_SoccerJuggling_g01_c03 done with 880 frames\n",
            "Swing/v_Swing_g11_c02 done with 126 frames\n",
            "SoccerPenalty/v_SoccerPenalty_g23_c01 done with 77 frames\n",
            "SoccerPenalty/v_SoccerPenalty_g16_c03 done with 128 frames\n",
            "Swing/v_Swing_g13_c02 done with 160 frames\n",
            "Swing/v_Swing_g02_c05 done with 201 frames\n",
            "Swing/v_Swing_g23_c05 done with 151 frames\n",
            "SoccerPenalty/v_SoccerPenalty_g25_c04 done with 87 frames\n",
            "SoccerPenalty/v_SoccerPenalty_g08_c06 done with 82 frames\n",
            "Swing/v_Swing_g21_c06 done with 201 frames\n",
            "SoccerPenalty/v_SoccerPenalty_g14_c03 done with 87 frames\n",
            "SoccerPenalty/v_SoccerPenalty_g03_c05 done with 70 frames\n",
            "[Warning] length inconsistent!Early stop with 318 out of 318 frames\n",
            "Swing/v_Swing_g25_c03 done with 318 frames\n",
            "Swing/v_Swing_g03_c03 done with 145 frames\n",
            "SoccerPenalty/v_SoccerPenalty_g19_c04 done with 90 frames\n",
            "Swing/v_Swing_g15_c05 done with 201 frames\n",
            "SoccerPenalty/v_SoccerPenalty_g06_c06 done with 86 frames\n",
            "SoccerPenalty/v_SoccerPenalty_g24_c04 done with 75 frames\n",
            "SoccerPenalty/v_SoccerPenalty_g07_c03 done with 73 frames\n",
            "Swing/v_Swing_g15_c03 done with 88 frames\n",
            "SoccerPenalty/v_SoccerPenalty_g19_c02 done with 97 frames\n",
            "Swing/v_Swing_g07_c05 done with 151 frames\n",
            "Swing/v_Swing_g02_c03 done with 300 frames\n",
            "SoccerPenalty/v_SoccerPenalty_g01_c05 done with 105 frames\n",
            "Swing/v_Swing_g20_c01 done with 151 frames\n",
            "SoccerPenalty/v_SoccerPenalty_g07_c04 done with 71 frames\n",
            "SoccerPenalty/v_SoccerPenalty_g13_c04 done with 77 frames\n",
            "SoccerPenalty/v_SoccerPenalty_g13_c01 done with 98 frames\n",
            "SoccerPenalty/v_SoccerPenalty_g14_c06 done with 133 frames\n",
            "Swing/v_Swing_g01_c04 done with 126 frames\n",
            "Swing/v_Swing_g08_c02 done with 160 frames\n",
            "SoccerJuggling/v_SoccerJuggling_g15_c04 done with 599 frames\n",
            "Swing/v_Swing_g21_c02 done with 168 frames\n",
            "Swing/v_Swing_g13_c04 done with 160 frames\n",
            "SoccerPenalty/v_SoccerPenalty_g09_c04 done with 91 frames\n",
            "SoccerPenalty/v_SoccerPenalty_g23_c04 done with 89 frames\n",
            "SoccerPenalty/v_SoccerPenalty_g03_c04 done with 98 frames\n",
            "SoccerPenalty/v_SoccerPenalty_g13_c02 done with 87 frames\n",
            "SoccerPenalty/v_SoccerPenalty_g06_c03 done with 65 frames\n",
            "Swing/v_Swing_g20_c05 done with 151 frames\n",
            "SoccerPenalty/v_SoccerPenalty_g11_c03 done with 97 frames\n",
            "Swing/v_Swing_g11_c01 done with 126 frames\n",
            "Swing/v_Swing_g17_c02 done with 168 frames\n",
            "Swing/v_Swing_g04_c06 done with 201 frames\n",
            "SoccerJuggling/v_SoccerJuggling_g14_c06 done with 240 frames\n",
            "SoccerPenalty/v_SoccerPenalty_g17_c04 done with 84 frames\n",
            "SoccerPenalty/v_SoccerPenalty_g10_c02 done with 71 frames\n",
            "SoccerPenalty/v_SoccerPenalty_g06_c02 done with 50 frames\n",
            "SoccerPenalty/v_SoccerPenalty_g10_c04 done with 140 frames\n",
            "Swing/v_Swing_g04_c01 done with 126 frames\n",
            "Swing/v_Swing_g22_c01 done with 151 frames\n",
            "SoccerPenalty/v_SoccerPenalty_g07_c06 done with 96 frames\n",
            "SoccerPenalty/v_SoccerPenalty_g15_c03 done with 110 frames\n",
            "Swing/v_Swing_g12_c02 done with 126 frames\n",
            "Swing/v_Swing_g16_c05 done with 151 frames\n",
            "SoccerPenalty/v_SoccerPenalty_g18_c04 done with 73 frames\n",
            "SoccerPenalty/v_SoccerPenalty_g17_c03 done with 98 frames\n",
            "SoccerPenalty/v_SoccerPenalty_g07_c01 done with 60 frames\n",
            "SoccerPenalty/v_SoccerPenalty_g20_c02 done with 70 frames\n",
            "Swing/v_Swing_g24_c03 done with 126 frames\n",
            "Swing/v_Swing_g12_c04 done with 126 frames\n",
            "Swing/v_Swing_g09_c06 done with 140 frames\n",
            "SoccerPenalty/v_SoccerPenalty_g05_c01 done with 94 frames\n",
            "SoccerPenalty/v_SoccerPenalty_g15_c04 done with 79 frames\n",
            "SoccerPenalty/v_SoccerPenalty_g23_c06 done with 104 frames\n",
            "SoccerPenalty/v_SoccerPenalty_g01_c04 done with 132 frames\n",
            "Swing/v_Swing_g20_c03 done with 88 frames\n",
            "SoccerPenalty/v_SoccerPenalty_g03_c01 done with 98 frames\n",
            "SoccerPenalty/v_SoccerPenalty_g05_c03 done with 89 frames\n",
            "SoccerPenalty/v_SoccerPenalty_g24_c02 done with 91 frames\n",
            "Swing/v_Swing_g05_c07 done with 201 frames\n",
            "SoccerPenalty/v_SoccerPenalty_g04_c01 done with 58 frames\n",
            "SoccerPenalty/v_SoccerPenalty_g09_c05 done with 146 frames\n",
            "SoccerPenalty/v_SoccerPenalty_g04_c02 done with 72 frames\n",
            "Swing/v_Swing_g07_c01 done with 126 frames\n",
            "SoccerPenalty/v_SoccerPenalty_g22_c05 done with 90 frames\n",
            "Swing/v_Swing_g18_c01 done with 335 frames\n",
            "SoccerPenalty/v_SoccerPenalty_g24_c01 done with 82 frames\n",
            "SoccerPenalty/v_SoccerPenalty_g24_c05 done with 87 frames\n",
            "SoccerPenalty/v_SoccerPenalty_g15_c07 done with 86 frames\n",
            "SoccerPenalty/v_SoccerPenalty_g13_c06 done with 76 frames\n",
            "Swing/v_Swing_g08_c04 done with 160 frames\n",
            "SoccerPenalty/v_SoccerPenalty_g15_c06 done with 76 frames\n",
            "Swing/v_Swing_g02_c04 done with 335 frames\n",
            "Swing/v_Swing_g17_c01 done with 160 frames\n",
            "SoccerPenalty/v_SoccerPenalty_g14_c04 done with 86 frames\n",
            "SoccerPenalty/v_SoccerPenalty_g11_c05 done with 105 frames\n",
            "SoccerPenalty/v_SoccerPenalty_g14_c05 done with 117 frames\n",
            "SoccerPenalty/v_SoccerPenalty_g12_c01 done with 81 frames\n",
            "SoccerPenalty/v_SoccerPenalty_g20_c04 done with 86 frames\n",
            "SoccerPenalty/v_SoccerPenalty_g06_c04 done with 55 frames\n",
            "SoccerPenalty/v_SoccerPenalty_g05_c02 done with 78 frames\n",
            "SoccerPenalty/v_SoccerPenalty_g02_c02 done with 100 frames\n",
            "SoccerPenalty/v_SoccerPenalty_g21_c02 done with 72 frames\n",
            "SoccerPenalty/v_SoccerPenalty_g12_c06 done with 45 frames\n",
            "Swing/v_Swing_g21_c04 done with 151 frames\n",
            "Swing/v_Swing_g17_c03 done with 160 frames\n",
            "Swing/v_Swing_g25_c02 done with 318 frames\n",
            "SoccerPenalty/v_SoccerPenalty_g22_c01 done with 63 frames\n",
            "SoccerPenalty/v_SoccerPenalty_g15_c05 done with 78 frames\n",
            "SoccerPenalty/v_SoccerPenalty_g15_c01 done with 100 frames\n",
            "SoccerPenalty/v_SoccerPenalty_g08_c01 done with 110 frames\n",
            "SoccerPenalty/v_SoccerPenalty_g13_c03 done with 79 frames\n",
            "SoccerPenalty/v_SoccerPenalty_g20_c05 done with 123 frames\n",
            "SoccerPenalty/v_SoccerPenalty_g04_c04 done with 83 frames\n",
            "Swing/v_Swing_g08_c01 done with 160 frames\n",
            "SoccerPenalty/v_SoccerPenalty_g21_c03 done with 96 frames\n",
            "Swing/v_Swing_g12_c01 done with 126 frames\n",
            "SoccerPenalty/v_SoccerPenalty_g25_c02 done with 110 frames\n",
            "Swing/v_Swing_g14_c02 done with 151 frames\n",
            "SoccerPenalty/v_SoccerPenalty_g18_c03 done with 80 frames\n",
            "SoccerPenalty/v_SoccerPenalty_g16_c05 done with 114 frames\n",
            "SoccerPenalty/v_SoccerPenalty_g20_c01 done with 138 frames\n",
            "SoccerPenalty/v_SoccerPenalty_g04_c03 done with 70 frames\n",
            "SoccerPenalty/v_SoccerPenalty_g15_c02 done with 102 frames\n",
            "SoccerPenalty/v_SoccerPenalty_g10_c05 done with 131 frames\n",
            "Swing/v_Swing_g03_c04 done with 145 frames\n",
            "Swing/v_Swing_g10_c04 done with 231 frames\n",
            "SoccerPenalty/v_SoccerPenalty_g19_c03 done with 84 frames\n",
            "SoccerPenalty/v_SoccerPenalty_g05_c07 done with 137 frames\n",
            "SoccerPenalty/v_SoccerPenalty_g23_c02 done with 105 frames\n",
            "SoccerPenalty/v_SoccerPenalty_g24_c06 done with 94 frames\n",
            "Swing/v_Swing_g04_c03 done with 168 frames\n",
            "SoccerPenalty/v_SoccerPenalty_g21_c04 done with 70 frames\n",
            "SoccerPenalty/v_SoccerPenalty_g05_c06 done with 75 frames\n",
            "SoccerPenalty/v_SoccerPenalty_g21_c01 done with 123 frames\n",
            "SkateBoarding/v_SkateBoarding_g04_c05 done with 103 frames\n",
            "SkateBoarding/v_SkateBoarding_g20_c01 done with 208 frames\n",
            "Swing/v_Swing_g08_c03 done with 160 frames\n",
            "SoccerPenalty/v_SoccerPenalty_g01_c06 done with 92 frames\n",
            "SoccerPenalty/v_SoccerPenalty_g08_c04 done with 169 frames\n",
            "SkateBoarding/v_SkateBoarding_g08_c02 done with 109 frames\n",
            "SoccerPenalty/v_SoccerPenalty_g16_c01 done with 134 frames\n",
            "SoccerPenalty/v_SoccerPenalty_g01_c01 done with 153 frames\n",
            "Swing/v_Swing_g19_c02 done with 276 frames\n",
            "SkateBoarding/v_SkateBoarding_g18_c01 done with 148 frames\n",
            "Swing/v_Swing_g22_c05 done with 157 frames\n",
            "SoccerPenalty/v_SoccerPenalty_g19_c01 done with 93 frames\n",
            "SoccerPenalty/v_SoccerPenalty_g08_c03 done with 129 frames\n",
            "SoccerPenalty/v_SoccerPenalty_g17_c02 done with 93 frames\n",
            "SoccerPenalty/v_SoccerPenalty_g17_c01 done with 100 frames\n",
            "Swing/v_Swing_g20_c04 done with 88 frames\n",
            "SoccerPenalty/v_SoccerPenalty_g12_c02 done with 94 frames\n",
            "Swing/v_Swing_g14_c04 done with 151 frames\n",
            "SoccerPenalty/v_SoccerPenalty_g05_c05 done with 100 frames\n",
            "SkateBoarding/v_SkateBoarding_g07_c02 done with 199 frames\n",
            "SoccerPenalty/v_SoccerPenalty_g18_c02 done with 123 frames\n",
            "SoccerPenalty/v_SoccerPenalty_g09_c03 done with 119 frames\n",
            "SkateBoarding/v_SkateBoarding_g25_c04 done with 196 frames\n",
            "SoccerPenalty/v_SoccerPenalty_g07_c05 done with 70 frames\n",
            "Swing/v_Swing_g06_c04 done with 126 frames\n",
            "SkateBoarding/v_SkateBoarding_g02_c03 done with 111 frames\n",
            "SoccerPenalty/v_SoccerPenalty_g14_c01 done with 140 frames\n",
            "SoccerPenalty/v_SoccerPenalty_g09_c02 done with 92 frames\n",
            "SoccerPenalty/v_SoccerPenalty_g11_c01 done with 115 frames\n",
            "SkateBoarding/v_SkateBoarding_g25_c05 done with 98 frames\n",
            "SoccerPenalty/v_SoccerPenalty_g25_c03 done with 98 frames\n",
            "SoccerPenalty/v_SoccerPenalty_g24_c03 done with 116 frames\n",
            "Swing/v_Swing_g18_c04 done with 248 frames\n",
            "SoccerPenalty/v_SoccerPenalty_g03_c03 done with 138 frames\n",
            "SkateBoarding/v_SkateBoarding_g03_c04 done with 128 frames\n",
            "SkateBoarding/v_SkateBoarding_g23_c03 done with 141 frames\n",
            "SoccerPenalty/v_SoccerPenalty_g06_c05 done with 60 frames\n",
            "SoccerPenalty/v_SoccerPenalty_g20_c03 done with 183 frames\n",
            "SkateBoarding/v_SkateBoarding_g08_c03 done with 88 frames\n",
            "SoccerPenalty/v_SoccerPenalty_g02_c05 done with 100 frames\n",
            "Swing/v_Swing_g01_c05 done with 201 frames\n",
            "SoccerPenalty/v_SoccerPenalty_g10_c01 done with 90 frames\n",
            "SoccerPenalty/v_SoccerPenalty_g08_c05 done with 125 frames\n",
            "SoccerPenalty/v_SoccerPenalty_g06_c07 done with 62 frames\n",
            "SkateBoarding/v_SkateBoarding_g02_c02 done with 128 frames\n",
            "SkateBoarding/v_SkateBoarding_g11_c01 done with 126 frames\n",
            "SoccerPenalty/v_SoccerPenalty_g05_c04 done with 79 frames\n",
            "SoccerPenalty/v_SoccerPenalty_g18_c05 done with 91 frames\n",
            "SkateBoarding/v_SkateBoarding_g09_c01 done with 140 frames\n",
            "SkateBoarding/v_SkateBoarding_g09_c03 done with 91 frames\n",
            "SoccerPenalty/v_SoccerPenalty_g07_c02 done with 146 frames\n",
            "SkateBoarding/v_SkateBoarding_g14_c04 done with 112 frames\n",
            "SoccerPenalty/v_SoccerPenalty_g01_c02 done with 138 frames\n",
            "SoccerPenalty/v_SoccerPenalty_g18_c01 done with 71 frames\n",
            "Swing/v_Swing_g06_c05 done with 151 frames\n",
            "SkateBoarding/v_SkateBoarding_g15_c05 done with 96 frames\n",
            "SoccerPenalty/v_SoccerPenalty_g12_c03 done with 60 frames\n",
            "SoccerPenalty/v_SoccerPenalty_g12_c07 done with 65 frames\n",
            "SkateBoarding/v_SkateBoarding_g24_c04 done with 100 frames\n",
            "SoccerPenalty/v_SoccerPenalty_g22_c04 done with 101 frames\n",
            "SkateBoarding/v_SkateBoarding_g13_c03 done with 126 frames\n",
            "SoccerPenalty/v_SoccerPenalty_g13_c05 done with 102 frames\n",
            "SkateBoarding/v_SkateBoarding_g17_c03 done with 151 frames\n",
            "SoccerPenalty/v_SoccerPenalty_g09_c01 done with 103 frames\n",
            "SoccerPenalty/v_SoccerPenalty_g22_c03 done with 77 frames\n",
            "SkateBoarding/v_SkateBoarding_g05_c04 done with 185 frames\n",
            "SkateBoarding/v_SkateBoarding_g10_c01 done with 145 frames\n",
            "SoccerPenalty/v_SoccerPenalty_g23_c05 done with 96 frames\n",
            "SoccerPenalty/v_SoccerPenalty_g16_c04 done with 90 frames\n",
            "SoccerPenalty/v_SoccerPenalty_g02_c03 done with 91 frames\n",
            "SoccerPenalty/v_SoccerPenalty_g12_c04 done with 76 frames\n",
            "SkateBoarding/v_SkateBoarding_g14_c02 done with 357 frames\n",
            "SkateBoarding/v_SkateBoarding_g10_c04 done with 115 frames\n",
            "SkateBoarding/v_SkateBoarding_g20_c02 done with 171 frames\n",
            "SkateBoarding/v_SkateBoarding_g16_c01 done with 200 frames\n",
            "SkateBoarding/v_SkateBoarding_g06_c02 done with 150 frames\n",
            "SkateBoarding/v_SkateBoarding_g22_c04 done with 86 frames\n",
            "SoccerPenalty/v_SoccerPenalty_g08_c02 done with 87 frames\n",
            "SoccerPenalty/v_SoccerPenalty_g02_c01 done with 118 frames\n",
            "SkateBoarding/v_SkateBoarding_g02_c04 done with 77 frames\n",
            "SkateBoarding/v_SkateBoarding_g10_c05 done with 99 frames\n",
            "SkateBoarding/v_SkateBoarding_g10_c07 done with 132 frames\n",
            "SkateBoarding/v_SkateBoarding_g22_c01 done with 94 frames\n",
            "SkateBoarding/v_SkateBoarding_g11_c04 done with 94 frames\n",
            "SoccerPenalty/v_SoccerPenalty_g03_c02 done with 96 frames\n",
            "SoccerPenalty/v_SoccerPenalty_g01_c03 done with 148 frames\n",
            "SkateBoarding/v_SkateBoarding_g18_c04 done with 123 frames\n",
            "SkateBoarding/v_SkateBoarding_g21_c04 done with 190 frames\n",
            "SkateBoarding/v_SkateBoarding_g23_c01 done with 181 frames\n",
            "SoccerPenalty/v_SoccerPenalty_g21_c05 done with 82 frames\n",
            "SkateBoarding/v_SkateBoarding_g04_c04 done with 135 frames\n",
            "SkateBoarding/v_SkateBoarding_g18_c05 done with 91 frames\n",
            "SkateBoarding/v_SkateBoarding_g08_c04 done with 88 frames\n",
            "SkateBoarding/v_SkateBoarding_g01_c04 done with 168 frames\n",
            "SoccerPenalty/v_SoccerPenalty_g02_c04 done with 121 frames\n",
            "SkateBoarding/v_SkateBoarding_g07_c04 done with 172 frames\n",
            "SkateBoarding/v_SkateBoarding_g06_c03 done with 123 frames\n",
            "SoccerPenalty/v_SoccerPenalty_g12_c05 done with 75 frames\n",
            "SkateBoarding/v_SkateBoarding_g16_c03 done with 126 frames\n",
            "SkateBoarding/v_SkateBoarding_g02_c05 done with 112 frames\n",
            "SkateBoarding/v_SkateBoarding_g11_c03 done with 124 frames\n",
            "SoccerPenalty/v_SoccerPenalty_g11_c04 done with 77 frames\n",
            "SkateBoarding/v_SkateBoarding_g01_c01 done with 202 frames\n",
            "SoccerPenalty/v_SoccerPenalty_g14_c02 done with 135 frames\n",
            "SkateBoarding/v_SkateBoarding_g12_c03 done with 82 frames\n",
            "SkateBoarding/v_SkateBoarding_g21_c02 done with 107 frames\n",
            "SkateBoarding/v_SkateBoarding_g20_c05 done with 152 frames\n",
            "SkateBoarding/v_SkateBoarding_g19_c03 done with 114 frames\n",
            "SkateBoarding/v_SkateBoarding_g14_c01 done with 190 frames\n",
            "SoccerPenalty/v_SoccerPenalty_g06_c01 done with 101 frames\n",
            "SkateBoarding/v_SkateBoarding_g17_c01 done with 104 frames\n",
            "SkateBoarding/v_SkateBoarding_g23_c04 done with 87 frames\n",
            "SkateBoarding/v_SkateBoarding_g22_c02 done with 89 frames\n",
            "SoccerPenalty/v_SoccerPenalty_g22_c02 done with 71 frames\n",
            "SkateBoarding/v_SkateBoarding_g25_c03 done with 101 frames\n",
            "SkateBoarding/v_SkateBoarding_g09_c04 done with 114 frames\n",
            "SkateBoarding/v_SkateBoarding_g20_c04 done with 171 frames\n",
            "SkateBoarding/v_SkateBoarding_g06_c01 done with 129 frames\n",
            "SkateBoarding/v_SkateBoarding_g17_c02 done with 156 frames\n",
            "SkateBoarding/v_SkateBoarding_g15_c02 done with 130 frames\n",
            "SkateBoarding/v_SkateBoarding_g04_c01 done with 106 frames\n",
            "SkateBoarding/v_SkateBoarding_g08_c05 done with 108 frames\n",
            "SkateBoarding/v_SkateBoarding_g08_c01 done with 137 frames\n",
            "SkateBoarding/v_SkateBoarding_g19_c04 done with 112 frames\n",
            "SkateBoarding/v_SkateBoarding_g04_c02 done with 145 frames\n",
            "SkateBoarding/v_SkateBoarding_g16_c02 done with 200 frames\n",
            "SkateBoarding/v_SkateBoarding_g10_c03 done with 59 frames\n",
            "SkateBoarding/v_SkateBoarding_g18_c02 done with 77 frames\n",
            "SkateBoarding/v_SkateBoarding_g10_c02 done with 95 frames\n",
            "SkateBoarding/v_SkateBoarding_g14_c03 done with 117 frames\n",
            "SkateBoarding/v_SkateBoarding_g05_c03 done with 160 frames\n",
            "SkateBoarding/v_SkateBoarding_g07_c01 done with 146 frames\n",
            "SkateBoarding/v_SkateBoarding_g24_c01 done with 160 frames\n",
            "SkateBoarding/v_SkateBoarding_g18_c06 done with 152 frames\n",
            "SkateBoarding/v_SkateBoarding_g03_c03 done with 126 frames\n",
            "SkateBoarding/v_SkateBoarding_g02_c06 done with 300 frames\n",
            "SkateBoarding/v_SkateBoarding_g22_c05 done with 166 frames\n",
            "SkateBoarding/v_SkateBoarding_g19_c01 done with 115 frames\n",
            "SkateBoarding/v_SkateBoarding_g11_c05 done with 164 frames\n",
            "SkateBoarding/v_SkateBoarding_g15_c03 done with 84 frames\n",
            "SkateBoarding/v_SkateBoarding_g01_c02 done with 175 frames\n",
            "SkateBoarding/v_SkateBoarding_g24_c03 done with 100 frames\n",
            "SkateBoarding/v_SkateBoarding_g13_c02 done with 111 frames\n",
            "SkateBoarding/v_SkateBoarding_g12_c06 done with 129 frames\n",
            "SkateBoarding/v_SkateBoarding_g06_c04 done with 150 frames\n",
            "SkateBoarding/v_SkateBoarding_g12_c05 done with 167 frames\n",
            "SkateBoarding/v_SkateBoarding_g07_c05 done with 149 frames\n",
            "SkateBoarding/v_SkateBoarding_g21_c03 done with 111 frames\n",
            "SkateBoarding/v_SkateBoarding_g11_c02 done with 165 frames\n",
            "SkateBoarding/v_SkateBoarding_g24_c05 done with 152 frames\n",
            "SkateBoarding/v_SkateBoarding_g04_c03 done with 91 frames\n",
            "SkateBoarding/v_SkateBoarding_g18_c03 done with 116 frames\n",
            "SkateBoarding/v_SkateBoarding_g25_c01 done with 174 frames\n",
            "SkateBoarding/v_SkateBoarding_g22_c03 done with 143 frames\n",
            "SkateBoarding/v_SkateBoarding_g12_c02 done with 128 frames\n",
            "SkateBoarding/v_SkateBoarding_g23_c02 done with 165 frames\n",
            "SkateBoarding/v_SkateBoarding_g02_c01 done with 369 frames\n",
            "SkateBoarding/v_SkateBoarding_g19_c02 done with 96 frames\n",
            "SkateBoarding/v_SkateBoarding_g09_c02 done with 186 frames\n",
            "SkateBoarding/v_SkateBoarding_g10_c06 done with 141 frames\n",
            "SkateBoarding/v_SkateBoarding_g15_c01 done with 106 frames\n",
            "SkateBoarding/v_SkateBoarding_g15_c04 done with 126 frames\n",
            "SkateBoarding/v_SkateBoarding_g12_c04 done with 167 frames\n",
            "SkateBoarding/v_SkateBoarding_g19_c05 done with 163 frames\n",
            "SkateBoarding/v_SkateBoarding_g07_c03 done with 185 frames\n",
            "SkateBoarding/v_SkateBoarding_g03_c02 done with 126 frames\n",
            "SkateBoarding/v_SkateBoarding_g05_c02 done with 104 frames\n",
            "SkateBoarding/v_SkateBoarding_g15_c06 done with 131 frames\n",
            "SkateBoarding/v_SkateBoarding_g20_c03 done with 211 frames\n",
            "SkateBoarding/v_SkateBoarding_g21_c01 done with 98 frames\n",
            "SkateBoarding/v_SkateBoarding_g01_c03 done with 112 frames\n",
            "SkateBoarding/v_SkateBoarding_g12_c01 done with 223 frames\n",
            "SkateBoarding/v_SkateBoarding_g13_c01 done with 100 frames\n",
            "SkateBoarding/v_SkateBoarding_g13_c04 done with 93 frames\n",
            "SkateBoarding/v_SkateBoarding_g03_c01 done with 126 frames\n",
            "SkateBoarding/v_SkateBoarding_g25_c02 done with 88 frames\n",
            "SkateBoarding/v_SkateBoarding_g16_c04 done with 122 frames\n",
            "SkateBoarding/v_SkateBoarding_g17_c04 done with 153 frames\n",
            "SkateBoarding/v_SkateBoarding_g05_c01 done with 140 frames\n",
            "SkateBoarding/v_SkateBoarding_g24_c02 done with 100 frames\n"
          ],
          "name": "stdout"
        }
      ]
    },
    {
      "cell_type": "code",
      "metadata": {
        "id": "WOobgdvdtJ5i",
        "colab_type": "code",
        "outputId": "cf7b76cb-31ab-4fbf-8d51-137023bf5786",
        "colab": {
          "base_uri": "https://localhost:8080/",
          "height": 153
        }
      },
      "source": [
        "!cd mmaction/data_tools/ucf101/  && bash generate_filelist.sh"
      ],
      "execution_count": 80,
      "outputs": [
        {
          "output_type": "stream",
          "text": [
            "parse frames under folder data/ucf101/rawframes/\n",
            "0 videos parsed\n",
            "200 videos parsed\n",
            "400 videos parsed\n",
            "600 videos parsed\n",
            "frame folder analysis done\n",
            "Filelist for rawframes generated.\n",
            "Filelist for videos generated.\n"
          ],
          "name": "stdout"
        }
      ]
    },
    {
      "cell_type": "markdown",
      "metadata": {
        "id": "gP8eKZ6Q0TLV",
        "colab_type": "text"
      },
      "source": [
        "prepare myown dataset"
      ]
    },
    {
      "cell_type": "code",
      "metadata": {
        "id": "7Lkp24VEAjbU",
        "colab_type": "code",
        "colab": {}
      },
      "source": [
        "!cd  drive/My\\ Drive/SoccerPenalty && rm ._*.avi"
      ],
      "execution_count": 0,
      "outputs": []
    },
    {
      "cell_type": "code",
      "metadata": {
        "id": "GhP5Gw4tzpZd",
        "colab_type": "code",
        "colab": {}
      },
      "source": [
        "!cp -r drive/My\\ Drive/S*   mmaction/data/ucf101/videos/"
      ],
      "execution_count": 0,
      "outputs": []
    },
    {
      "cell_type": "code",
      "metadata": {
        "id": "PpTjDPEwpylw",
        "colab_type": "code",
        "colab": {}
      },
      "source": [
        "!cd mmaction/data/ucf101  && rm -rf ucf*.txt"
      ],
      "execution_count": 0,
      "outputs": []
    },
    {
      "cell_type": "code",
      "metadata": {
        "id": "6695Btq9TB8h",
        "colab_type": "code",
        "colab": {}
      },
      "source": [
        "!cd mmaction/data/ucf101/  && rm -rf  rawframes"
      ],
      "execution_count": 0,
      "outputs": []
    },
    {
      "cell_type": "code",
      "metadata": {
        "id": "KvhGmdyF0e2P",
        "colab_type": "code",
        "colab": {}
      },
      "source": [
        "!cd mmaction/data_tools/ &&  python build_rawframes.py ../data/ucf101/videos/myown ../data/ucf101/rawframes/ --level 2 --ext avi"
      ],
      "execution_count": 0,
      "outputs": []
    },
    {
      "cell_type": "code",
      "metadata": {
        "id": "yEheKem22YaY",
        "colab_type": "code",
        "outputId": "9ed9a9bb-b2e1-44bd-bbfd-28fe1165660c",
        "colab": {
          "base_uri": "https://localhost:8080/",
          "height": 102
        }
      },
      "source": [
        "!cd mmaction/data_tools/ucf101/  && bash generate_filelist.sh"
      ],
      "execution_count": 0,
      "outputs": [
        {
          "output_type": "stream",
          "text": [
            "parse frames under folder data/ucf101/rawframes/\n",
            "0 videos parsed\n",
            "frame folder analysis done\n",
            "Filelist for rawframes generated.\n",
            "Filelist for videos generated.\n"
          ],
          "name": "stdout"
        }
      ]
    },
    {
      "cell_type": "markdown",
      "metadata": {
        "id": "y0hhIO0Ax0fN",
        "colab_type": "text"
      },
      "source": [
        "# Test a reference model"
      ]
    },
    {
      "cell_type": "code",
      "metadata": {
        "id": "hUsXoVXgtnz-",
        "colab_type": "code",
        "outputId": "659346c6-439e-48f2-d593-7c807e48726a",
        "colab": {
          "base_uri": "https://localhost:8080/",
          "height": 230
        }
      },
      "source": [
        "!cd mmaction/ &&  wget -c https://open-mmlab.s3.ap-northeast-2.amazonaws.com/mmaction/models/ucf101/tsn_2d_rgb_bninception_seg3_f1s1_b32_g8-98160339.pth -P ./modelzoo/"
      ],
      "execution_count": 0,
      "outputs": [
        {
          "output_type": "stream",
          "text": [
            "--2019-09-20 17:29:37--  https://open-mmlab.s3.ap-northeast-2.amazonaws.com/mmaction/models/ucf101/tsn_2d_rgb_bninception_seg3_f1s1_b32_g8-98160339.pth\n",
            "Resolving open-mmlab.s3.ap-northeast-2.amazonaws.com (open-mmlab.s3.ap-northeast-2.amazonaws.com)... 52.219.56.91\n",
            "Connecting to open-mmlab.s3.ap-northeast-2.amazonaws.com (open-mmlab.s3.ap-northeast-2.amazonaws.com)|52.219.56.91|:443... connected.\n",
            "HTTP request sent, awaiting response... 200 OK\n",
            "Length: 41660622 (40M) [application/x-www-form-urlencoded]\n",
            "Saving to: ‘./modelzoo/tsn_2d_rgb_bninception_seg3_f1s1_b32_g8-98160339.pth’\n",
            "\n",
            "tsn_2d_rgb_bnincept 100%[===================>]  39.73M  12.6MB/s    in 3.1s    \n",
            "\n",
            "2019-09-20 17:29:41 (12.6 MB/s) - ‘./modelzoo/tsn_2d_rgb_bninception_seg3_f1s1_b32_g8-98160339.pth’ saved [41660622/41660622]\n",
            "\n"
          ],
          "name": "stdout"
        }
      ]
    },
    {
      "cell_type": "code",
      "metadata": {
        "id": "ZuIbz9DFuQDn",
        "colab_type": "code",
        "outputId": "bfbb13d2-6cdb-443d-b5e3-ed9df0f498bd",
        "colab": {
          "base_uri": "https://localhost:8080/",
          "height": 175
        }
      },
      "source": [
        "!cd mmaction/  &&  python tools/test_recognizer.py configs/ucf101/tsn_rgb_bninception.py modelzoo/tsn_2d_rgb_bninception_seg3_f1s1_b32_g8-98160339.pth --gpus 1"
      ],
      "execution_count": 0,
      "outputs": [
        {
          "output_type": "stream",
          "text": [
            "The model and loaded state dict do not match exactly\n",
            "\n",
            "unexpected key in source state_dict: fc.weight, fc.bias\n",
            "\n",
            "terminal width is too small (0), please consider widen the terminal for better progressbar visualization\n",
            "[>>>>>>>>>>] 3783/3783, 1.1 task/s, elapsed: 3373s, ETA:     0sAveraging score over 1 clips without softmax (ie, raw)\n",
            "Mean Class Accuracy = 86.30\n",
            "Top-1 Accuracy = 86.41\n",
            "Top-5 Accuracy = 98.04\n"
          ],
          "name": "stdout"
        }
      ]
    },
    {
      "cell_type": "code",
      "metadata": {
        "id": "qvTaLRqgQWD2",
        "colab_type": "code",
        "outputId": "0217cf58-8863-41cf-eefa-ec91ce8ae6f3",
        "colab": {
          "base_uri": "https://localhost:8080/",
          "height": 85
        }
      },
      "source": [
        "!nvcc --version"
      ],
      "execution_count": 0,
      "outputs": [
        {
          "output_type": "stream",
          "text": [
            "nvcc: NVIDIA (R) Cuda compiler driver\n",
            "Copyright (c) 2005-2018 NVIDIA Corporation\n",
            "Built on Sat_Aug_25_21:08:01_CDT_2018\n",
            "Cuda compilation tools, release 10.0, V10.0.130\n"
          ],
          "name": "stdout"
        }
      ]
    },
    {
      "cell_type": "markdown",
      "metadata": {
        "id": "cQIbEzP7L_dS",
        "colab_type": "text"
      },
      "source": [
        "test some imgs"
      ]
    },
    {
      "cell_type": "code",
      "metadata": {
        "id": "uk4XxVzkMCsU",
        "colab_type": "code",
        "outputId": "dbe8a6b4-7723-4ce5-de2b-3cda794005b3",
        "colab": {
          "base_uri": "https://localhost:8080/",
          "height": 204
        }
      },
      "source": [
        "!cd mmaction/ &&  wget -c https://open-mmlab.s3.ap-northeast-2.amazonaws.com/mmaction/models/ucf101/tsn_2d_rgb_bninception_seg3_f1s1_b32_g8-98160339.pth -P ./modelzoo/"
      ],
      "execution_count": 0,
      "outputs": [
        {
          "output_type": "stream",
          "text": [
            "--2019-09-24 03:16:59--  https://open-mmlab.s3.ap-northeast-2.amazonaws.com/mmaction/models/ucf101/tsn_2d_rgb_bninception_seg3_f1s1_b32_g8-98160339.pth\n",
            "Resolving open-mmlab.s3.ap-northeast-2.amazonaws.com (open-mmlab.s3.ap-northeast-2.amazonaws.com)... 52.219.60.51\n",
            "Connecting to open-mmlab.s3.ap-northeast-2.amazonaws.com (open-mmlab.s3.ap-northeast-2.amazonaws.com)|52.219.60.51|:443... connected.\n",
            "HTTP request sent, awaiting response... 200 OK\n",
            "Length: 41660622 (40M) [application/x-www-form-urlencoded]\n",
            "Saving to: ‘./modelzoo/tsn_2d_rgb_bninception_seg3_f1s1_b32_g8-98160339.pth’\n",
            "\n",
            "tsn_2d_rgb_bnincept 100%[===================>]  39.73M  17.0MB/s    in 2.3s    \n",
            "\n",
            "2019-09-24 03:17:02 (17.0 MB/s) - ‘./modelzoo/tsn_2d_rgb_bninception_seg3_f1s1_b32_g8-98160339.pth’ saved [41660622/41660622]\n",
            "\n"
          ],
          "name": "stdout"
        }
      ]
    },
    {
      "cell_type": "code",
      "metadata": {
        "id": "hTCGQwXBOuBM",
        "colab_type": "code",
        "outputId": "c2ff1833-f5dc-43a3-b4f7-2a75288620c4",
        "colab": {
          "base_uri": "https://localhost:8080/",
          "height": 204
        }
      },
      "source": [
        "!cd mmaction && git pull -p"
      ],
      "execution_count": 116,
      "outputs": [
        {
          "output_type": "stream",
          "text": [
            "remote: Enumerating objects: 9, done.\u001b[K\n",
            "remote: Counting objects:  11% (1/9)\u001b[K\rremote: Counting objects:  22% (2/9)\u001b[K\rremote: Counting objects:  33% (3/9)\u001b[K\rremote: Counting objects:  44% (4/9)\u001b[K\rremote: Counting objects:  55% (5/9)\u001b[K\rremote: Counting objects:  66% (6/9)\u001b[K\rremote: Counting objects:  77% (7/9)\u001b[K\rremote: Counting objects:  88% (8/9)\u001b[K\rremote: Counting objects: 100% (9/9)\u001b[K\rremote: Counting objects: 100% (9/9), done.\u001b[K\n",
            "remote: Compressing objects:  50% (1/2)\u001b[K\rremote: Compressing objects: 100% (2/2)\u001b[K\rremote: Compressing objects: 100% (2/2), done.\u001b[K\n",
            "remote: Total 5 (delta 3), reused 5 (delta 3), pack-reused 0\u001b[K\n",
            "Unpacking objects:  20% (1/5)   \rUnpacking objects:  40% (2/5)   \rUnpacking objects:  60% (3/5)   \rUnpacking objects:  80% (4/5)   \rUnpacking objects: 100% (5/5)   \rUnpacking objects: 100% (5/5), done.\n",
            "From https://github.com/wangbingo/mmaction\n",
            "   59c2ef5..17611a6  master     -> origin/master\n",
            "Updating 59c2ef5..17611a6\n",
            "Fast-forward\n",
            " configs/kinetics400/tsn_kinetics400_2d_rgb_r50_seg3_f1s1.py | 2 \u001b[32m+\u001b[m\u001b[31m-\u001b[m\n",
            " 1 file changed, 1 insertion(+), 1 deletion(-)\n"
          ],
          "name": "stdout"
        }
      ]
    },
    {
      "cell_type": "code",
      "metadata": {
        "id": "Av9T6Ly1MLZv",
        "colab_type": "code",
        "outputId": "20347772-ac71-407d-ee85-3b3b25f23867",
        "colab": {
          "base_uri": "https://localhost:8080/",
          "height": 374
        }
      },
      "source": [
        "!cd mmaction/  &&  python tools/test_recognizer.py configs/ucf101/tsn_rgb_bninception.py modelzoo/tsn_2d_rgb_bninception_seg3_f1s1_b32_g8-98160339.pth --gpus 1 --out result0924.pkl"
      ],
      "execution_count": 83,
      "outputs": [
        {
          "output_type": "stream",
          "text": [
            "The model and loaded state dict do not match exactly\n",
            "\n",
            "unexpected key in source state_dict: fc.weight, fc.bias\n",
            "\n",
            "terminal width is too small (0), please consider widen the terminal for better progressbar visualization\n",
            "[          ] 0/200, elapsed: 0s, ETA:Traceback (most recent call last):\n",
            "  File \"tools/test_recognizer.py\", line 124, in <module>\n",
            "    main()\n",
            "  File \"tools/test_recognizer.py\", line 83, in main\n",
            "    outputs = single_test(model, data_loader)\n",
            "  File \"tools/test_recognizer.py\", line 22, in single_test\n",
            "    result = model(return_loss=False, **data)\n",
            "  File \"/usr/local/lib/python3.6/dist-packages/torch/nn/modules/module.py\", line 493, in __call__\n",
            "    result = self.forward(*input, **kwargs)\n",
            "  File \"/usr/local/lib/python3.6/dist-packages/torch/nn/parallel/data_parallel.py\", line 140, in forward\n",
            "    return self.module(*inputs, **kwargs)\n",
            "  File \"/usr/local/lib/python3.6/dist-packages/torch/nn/modules/module.py\", line 493, in __call__\n",
            "    result = self.forward(*input, **kwargs)\n",
            "  File \"/content/mmaction/mmaction/models/recognizers/base.py\", line 37, in forward\n",
            "    num_modalities = int(num_modalities[0])\n",
            "TypeError: 'DataContainer' object does not support indexing\n"
          ],
          "name": "stdout"
        }
      ]
    },
    {
      "cell_type": "markdown",
      "metadata": {
        "id": "8ugwk7T3ZUEn",
        "colab_type": "text"
      },
      "source": [
        "# Preparing Kinetics-400"
      ]
    },
    {
      "cell_type": "code",
      "metadata": {
        "id": "QgiUJTECZZTo",
        "colab_type": "code",
        "colab": {
          "base_uri": "https://localhost:8080/",
          "height": 374
        },
        "outputId": "a0b1ca22-cc4a-4099-c332-2bf62cc850b8"
      },
      "source": [
        "!cd mmaction/data_tools/kinetics400/ && wget https://storage.googleapis.com/deepmind-media/research/Kinetics_700.zip && unzip Kinetics_700.zip"
      ],
      "execution_count": 85,
      "outputs": [
        {
          "output_type": "stream",
          "text": [
            "--2019-09-24 08:43:41--  https://storage.googleapis.com/deepmind-media/research/Kinetics_700.zip\n",
            "Resolving storage.googleapis.com (storage.googleapis.com)... 74.125.195.128, 2607:f8b0:400e:c07::80\n",
            "Connecting to storage.googleapis.com (storage.googleapis.com)|74.125.195.128|:443... connected.\n",
            "HTTP request sent, awaiting response... 200 OK\n",
            "Length: 22853366 (22M) [application/zip]\n",
            "Saving to: ‘Kinetics_700.zip’\n",
            "\n",
            "\rKinetics_700.zip      0%[                    ]       0  --.-KB/s               \rKinetics_700.zip     21%[===>                ]   4.71M  23.6MB/s               \rKinetics_700.zip    100%[===================>]  21.79M  74.6MB/s    in 0.3s    \n",
            "\n",
            "2019-09-24 08:43:42 (74.6 MB/s) - ‘Kinetics_700.zip’ saved [22853366/22853366]\n",
            "\n",
            "Archive:  Kinetics_700.zip\n",
            "  inflating: kinetics_700_readme.txt  \n",
            "   creating: __MACOSX/\n",
            "  inflating: __MACOSX/._kinetics_700_readme.txt  \n",
            "  inflating: kinetics_700_train.zip  \n",
            "  inflating: __MACOSX/._kinetics_700_train.zip  \n",
            "  inflating: kinetics_700_test.zip   \n",
            "  inflating: __MACOSX/._kinetics_700_test.zip  \n",
            "  inflating: kinetics_700_val.zip    \n",
            "  inflating: __MACOSX/._kinetics_700_val.zip  \n"
          ],
          "name": "stdout"
        }
      ]
    },
    {
      "cell_type": "code",
      "metadata": {
        "id": "EMjtnl3McvLs",
        "colab_type": "code",
        "colab": {}
      },
      "source": [
        "!cd mmaction/data_tools/kinetics400/ && DATA_DIR=\"../../data/kinetics400/annotations\" && mkdir -p ${DATA_DIR}"
      ],
      "execution_count": 0,
      "outputs": []
    },
    {
      "cell_type": "code",
      "metadata": {
        "id": "42jcM-E7dGx2",
        "colab_type": "code",
        "colab": {
          "base_uri": "https://localhost:8080/",
          "height": 68
        },
        "outputId": "e4dbe9ca-1142-45b8-cc70-75652bc15925"
      },
      "source": [
        "!cd mmaction/data_tools/kinetics400/ &&  unzip -j kinetics_700_test.zip -d /content/mmaction/data/kinetics400/annotations"
      ],
      "execution_count": 89,
      "outputs": [
        {
          "output_type": "stream",
          "text": [
            "Archive:  kinetics_700_test.zip\n",
            "  inflating: /content/mmaction/data/kinetics400/annotations/kinetics_700_test.csv  \n",
            "  inflating: /content/mmaction/data/kinetics400/annotations/kinetics_700_test.json  \n"
          ],
          "name": "stdout"
        }
      ]
    },
    {
      "cell_type": "code",
      "metadata": {
        "id": "NhHNevn6ebp1",
        "colab_type": "code",
        "colab": {
          "base_uri": "https://localhost:8080/",
          "height": 102
        },
        "outputId": "318e8006-fffc-4391-9023-1de732205763"
      },
      "source": [
        "!git clone https://github.com/activitynet/ActivityNet.git"
      ],
      "execution_count": 92,
      "outputs": [
        {
          "output_type": "stream",
          "text": [
            "Cloning into 'ActivityNet'...\n",
            "remote: Enumerating objects: 249, done.\u001b[K\n",
            "remote: Total 249 (delta 0), reused 0 (delta 0), pack-reused 249\n",
            "Receiving objects: 100% (249/249), 44.58 MiB | 22.74 MiB/s, done.\n",
            "Resolving deltas: 100% (126/126), done.\n"
          ],
          "name": "stdout"
        }
      ]
    },
    {
      "cell_type": "code",
      "metadata": {
        "id": "MCbuPNRfkK4Y",
        "colab_type": "code",
        "colab": {
          "base_uri": "https://localhost:8080/",
          "height": 34
        },
        "outputId": "aa2d0d2a-03d9-4f92-e683-cca6436a9bbe"
      },
      "source": [
        "!pip install --upgrade youtube-dl"
      ],
      "execution_count": 93,
      "outputs": [
        {
          "output_type": "stream",
          "text": [
            "Requirement already up-to-date: youtube-dl in /usr/local/lib/python3.6/dist-packages (2019.9.12.1)\n"
          ],
          "name": "stdout"
        }
      ]
    },
    {
      "cell_type": "code",
      "metadata": {
        "id": "d4H7BmxLlA3R",
        "colab_type": "code",
        "colab": {}
      },
      "source": [
        "!mkdir -p /content/mmaction/data/kinetics400/vedios_test"
      ],
      "execution_count": 0,
      "outputs": []
    },
    {
      "cell_type": "code",
      "metadata": {
        "id": "8SgRck_WkOcv",
        "colab_type": "code",
        "colab": {}
      },
      "source": [
        "!cd ActivityNet/Crawler/Kinetics && python download.py /content/ActivityNet/Crawler/Kinetics/data/kinetics-400_test.csv   /content/mmaction/data/kinetics400/vedios_test/"
      ],
      "execution_count": 0,
      "outputs": []
    },
    {
      "cell_type": "code",
      "metadata": {
        "id": "rntVA5Gep_34",
        "colab_type": "code",
        "colab": {}
      },
      "source": [
        "!cd mmaction/data_tools/kinetics400/  && bash extract_rgb_frames.sh"
      ],
      "execution_count": 0,
      "outputs": []
    },
    {
      "cell_type": "code",
      "metadata": {
        "id": "WH-SlBs4teRk",
        "colab_type": "code",
        "colab": {
          "base_uri": "https://localhost:8080/",
          "height": 221
        },
        "outputId": "8bc11292-c8b1-4afc-a58c-5d49382ce1d0"
      },
      "source": [
        "!cd mmaction/data_tools/kinetics400/  &&  bash generate_rawframes_filelist.sh"
      ],
      "execution_count": 112,
      "outputs": [
        {
          "output_type": "stream",
          "text": [
            "parse frames under folder /content/mmaction/data/kinetics400/rawframes_test/\n",
            "0 videos parsed\n",
            "frame folder analysis done\n",
            "Traceback (most recent call last):\n",
            "  File \"data_tools/build_file_list.py\", line 91, in <module>\n",
            "    main()\n",
            "  File \"data_tools/build_file_list.py\", line 58, in main\n",
            "    split_tp = parse_kinetics_splits(args.level)\n",
            "  File \"/content/mmaction/mmaction/datasets/utils.py\", line 294, in parse_kinetics_splits\n",
            "    open('data/kinetics400/annotations/kinetics_train.csv'))\n",
            "FileNotFoundError: [Errno 2] No such file or directory: 'data/kinetics400/annotations/kinetics_train.csv'\n",
            "Test filelist for rawframes generated.\n"
          ],
          "name": "stdout"
        }
      ]
    },
    {
      "cell_type": "code",
      "metadata": {
        "id": "nvbBp81p3_kC",
        "colab_type": "code",
        "colab": {}
      },
      "source": [
        "https://open-mmlab.s3.ap-northeast-2.amazonaws.com/mmaction/models/kinetics400/tsn2d_kinetics400_rgb_r50_seg3_f1s1-b702e12f.pth"
      ],
      "execution_count": 0,
      "outputs": []
    },
    {
      "cell_type": "code",
      "metadata": {
        "id": "kad9-yPh3_vc",
        "colab_type": "code",
        "colab": {
          "base_uri": "https://localhost:8080/",
          "height": 204
        },
        "outputId": "22566b39-9f56-4ca2-e7be-9fe594706199"
      },
      "source": [
        "!cd mmaction/ &&  wget -c https://open-mmlab.s3.ap-northeast-2.amazonaws.com/mmaction/models/kinetics400/tsn2d_kinetics400_rgb_r50_seg3_f1s1-b702e12f.pth -P ./modelzoo/"
      ],
      "execution_count": 113,
      "outputs": [
        {
          "output_type": "stream",
          "text": [
            "--2019-09-24 10:45:54--  https://open-mmlab.s3.ap-northeast-2.amazonaws.com/mmaction/models/kinetics400/tsn2d_kinetics400_rgb_r50_seg3_f1s1-b702e12f.pth\n",
            "Resolving open-mmlab.s3.ap-northeast-2.amazonaws.com (open-mmlab.s3.ap-northeast-2.amazonaws.com)... 52.219.58.35\n",
            "Connecting to open-mmlab.s3.ap-northeast-2.amazonaws.com (open-mmlab.s3.ap-northeast-2.amazonaws.com)|52.219.58.35|:443... connected.\n",
            "HTTP request sent, awaiting response... 200 OK\n",
            "Length: 97577274 (93M) [application/x-www-form-urlencoded]\n",
            "Saving to: ‘./modelzoo/tsn2d_kinetics400_rgb_r50_seg3_f1s1-b702e12f.pth’\n",
            "\n",
            "tsn2d_kinetics400_r 100%[===================>]  93.06M  20.1MB/s    in 4.6s    \n",
            "\n",
            "2019-09-24 10:45:59 (20.1 MB/s) - ‘./modelzoo/tsn2d_kinetics400_rgb_r50_seg3_f1s1-b702e12f.pth’ saved [97577274/97577274]\n",
            "\n"
          ],
          "name": "stdout"
        }
      ]
    },
    {
      "cell_type": "code",
      "metadata": {
        "id": "9osCSCNQ4Njj",
        "colab_type": "code",
        "colab": {
          "base_uri": "https://localhost:8080/",
          "height": 221
        },
        "outputId": "ae8b8830-bbbd-4178-ea91-78acfb56c9ad"
      },
      "source": [
        "!cd mmaction/  &&  python tools/test_recognizer.py /content/mmaction/configs/kinetics400/tsn_kinetics400_2d_rgb_r50_seg3_f1s1.py modelzoo/tsn_2d_rgb_bninception_seg3_f1s1_b32_g8-98160339.pth --gpus 1 --out result_kinetics400_0924.pkl"
      ],
      "execution_count": 117,
      "outputs": [
        {
          "output_type": "stream",
          "text": [
            "Traceback (most recent call last):\n",
            "  File \"tools/test_recognizer.py\", line 124, in <module>\n",
            "    main()\n",
            "  File \"tools/test_recognizer.py\", line 69, in main\n",
            "    dataset = obj_from_dict(cfg.data.test, datasets, dict(test_mode=True))\n",
            "  File \"/usr/local/lib/python3.6/dist-packages/mmcv-0.2.13-py3.6-linux-x86_64.egg/mmcv/runner/utils.py\", line 78, in obj_from_dict\n",
            "    return obj_type(**args)\n",
            "  File \"/content/mmaction/mmaction/datasets/rawframes_dataset.py\", line 62, in __init__\n",
            "    self.video_infos = self.load_annotations(ann_file)\n",
            "  File \"/content/mmaction/mmaction/datasets/rawframes_dataset.py\", line 145, in load_annotations\n",
            "    return [RawFramesRecord(x.strip().split(' ')) for x in open(ann_file)]\n",
            "FileNotFoundError: [Errno 2] No such file or directory: ''\n"
          ],
          "name": "stdout"
        }
      ]
    }
  ]
}